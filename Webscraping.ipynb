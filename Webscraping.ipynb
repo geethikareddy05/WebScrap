{
 "cells": [
  {
   "cell_type": "code",
   "execution_count": 2,
   "id": "61909177",
   "metadata": {},
   "outputs": [],
   "source": [
    "# Loading required libraries\n",
    "\n",
    "import numpy as np\n",
    "import pandas as pd\n",
    "\n",
    "import requests\n",
    "from bs4 import BeautifulSoup"
   ]
  },
  {
   "cell_type": "code",
   "execution_count": 3,
   "id": "a2306cee",
   "metadata": {},
   "outputs": [],
   "source": [
    "# Identify the URL\n",
    "\n",
    "URL = 'https://www.flipkart.com/search?q=laptops&as=on&as-show=on&otracker=AS_Query_TrendingAutoSuggest_1_0_na_na_na&otracker1=AS_Query_TrendingAutoSuggest_1_0_na_na_na&as-pos=1&as-type=HISTORY&suggestionId=laptops&requestId=46019d4a-7ca0-47df-abb2-12391aa3db52'"
   ]
  },
  {
   "cell_type": "code",
   "execution_count": 4,
   "id": "f54aed9f",
   "metadata": {},
   "outputs": [],
   "source": [
    "# Loading the WebPage in Memory using requests library\n",
    "\n",
    "page = requests.get(URL)"
   ]
  },
  {
   "cell_type": "code",
   "execution_count": 5,
   "id": "e9cd176e",
   "metadata": {},
   "outputs": [
    {
     "data": {
      "text/plain": [
       "200"
      ]
     },
     "execution_count": 5,
     "metadata": {},
     "output_type": "execute_result"
    }
   ],
   "source": [
    "# Check the Status Code of the Page\n",
    "\n",
    "page.status_code"
   ]
  },
  {
   "cell_type": "code",
   "execution_count": 6,
   "id": "332a68de",
   "metadata": {},
   "outputs": [],
   "source": [
    "# Extracting the HTML Code of the WebPage\n",
    "\n",
    "htmlCode = page.text\n",
    "soup = BeautifulSoup(htmlCode)"
   ]
  },
  {
   "cell_type": "code",
   "execution_count": 7,
   "id": "16cf0aec",
   "metadata": {},
   "outputs": [
    {
     "data": {
      "text/plain": [
       "'<!doctype html><html lang=\"en\"><head><link href=\"https://rukminim2.flixcart.com\" rel=\"preconnect\"/><link rel=\"stylesheet\" href=\"//static-assets-web.flixcart.com/fk-p-linchpin-web/fk-cp-zion/css/app_modules.chunk.905c37.css\"/><link rel=\"stylesheet\" href=\"//static-assets-web.flixcart.com/fk-p-linchpin-web/fk-cp-zion/css/app.chunk.615ed9.css\"/><meta http-equiv=\"Content-type\" content=\"text/html; charset=utf-8\"/><meta http-equiv=\"X-UA-Compatible\" content=\"IE=Edge\"/><meta property=\"fb:page_id\" content=\"102988293558\"/><meta property=\"fb:admins\" content=\"658873552,624500995,100000233612389\"/><meta name=\"robots\" content=\"noodp\"/><link rel=\"shortcut icon\" href=\"https:///www/promos/new/20150528-140547-favicon-retina.ico\"/><link type=\"application/opensearchdescription+xml\" rel=\"search\" href=\"/osdd.xml?v=2\"/><meta property=\"og:type\" content=\"website\"/><meta name=\"og_site_name\" property=\"og:site_name\" content=\"Flipkart.com\"/><link rel=\"apple-touch-icon\" sizes=\"57x57\" href=\"/apple-touch-icon-57x57.png\"/><link rel=\"apple-touch-icon\" sizes=\"72x72\" href=\"/apple-touch-icon-72x72.png\"/><link rel=\"apple-touch-icon\" sizes=\"114x114\" href=\"/apple-touch-icon-114x114.png\"/><link rel=\"apple-touch-icon\" sizes=\"144x144\" href=\"/apple-touch-icon-144x144.png\"/><link rel=\"apple-touch-icon\" href=\"/apple-touch-icon-57x57.png\"/><meta name=\"twitter:card\" content=\"app\"><meta name=\"twitter:site\" content=\"@flipkart\"><meta name=\"twitter:creator\" content=\"@flipkart\"><meta name=\"twitter:title\" content=\"Laptops- Buy Products Online at Best Price in India - All Categories | Flipkart.com\"><meta name=\"twitter:description\" content=\"Shop for electronics, apparels & more using our Flipkart app Free shipping & COD.\"><meta name=\"twitter:app:country\" content=\"in\"><meta name=\"al:ios:app_name\" content=\"Flipkart\"><meta name=\"al:ios:app_store_id\" content=\"742044692\"><meta name=\"twitter:app:name:iphone\" content=\"Flipkart\"><meta name=\"twitter:app:id:iphone\" content=\"742044692\"><meta name=\"twitter:app:url:iphone\" content=\"http://dl.flipkart.com/dl/home?\"><meta name=\"twitter:app:name:ipad\" content=\"Flipkart\"><meta name=\"twitter:app:id:ipad\" content=\"742044692\"><meta name=\"twitter:app:url:ipad\" content=\"http://dl.flipkart.com/dl/home?\"><meta name=\"twitter:app:name:googleplay\" content=\"Flipkart\"><meta name=\"twitter:app:id:googleplay\" content=\"com.flipkart.android\"><meta name=\"twitter:app:url:googleplay\" content=\"http://dl.flipkart.com/dl/home?\"><style>#container {\\n\\t\\t\\theight: 100%;\\n\\t\\t}</style>  <link rel=\"stylesheet\" href=\"///fk-cp-zion/css/Browse.chunk.b2aeab.css\"/><title>Laptops- Buy Products Online at Best Price in India - All Categories | Flipkart.com</title><meta name=\"og_title\" property=\"og:title\" content=\"Laptops- Buy Products Online at Best Price in India - All Categories | Flipkart.com\"/><meta name=\"Keywords\" content=\"Laptops\"/> <meta name=\"Description\" content=\"Laptops- Buy Products Online at Best Price in India. India&#x27;s Leading E-commerce Company - Free Home Delivery - All Categories | Flipkart.com\"/><meta property=\"og:description\" content=\"Laptops- Buy Products Online at Best Price in India. India&#x27;s Leading E-commerce Company - Free Home Delivery - All Categories | Flipkart.com\"/> <meta name=\"robots\" content=\"noindex\"/>   <meta name=\"msvalidate.01\" content=\"F4EEB3A0AFFDD385992A06E6920C0AC3\"/> <!--[if IE 9 ]>\\n\\t<script nonce=\"16893201252795550433\">\\n\\t\\twindow.browserVersion = \\'IE9\\';\\n\\t\\tdocument.documentElement.className += \\' ie9\\';\\n\\t</script>\\n\\t<![endif]--><!--[if !IE]><!--><script nonce=\"16893201252795550433\">if (/*@cc_on!@*/false) {\\n\\t\\t\\twindow.browserVersion = \\'IE10\\';\\n\\t\\t\\tdocument.documentElement.className += \\' ie10\\';\\n\\t\\t}</script><!--<![endif]-->   <link href=\"https://www.flipkart.com/search?q&#x3D;laptops&amp;as&#x3D;on&amp;as-show&#x3D;on&amp;otracker&#x3D;AS_Query_TrendingAutoSuggest_1_0_na_na_na&amp;otracker1&#x3D;AS_Query_TrendingAutoSuggest_1_0_na_na_na&amp;as-pos&#x3D;1&amp;as-type&#x3D;HISTORY&amp;suggestionId&#x3D;laptops&amp;requestId&#x3D;46019d4a-7ca0-47df-abb2-12391aa3db52&amp;page&#x3D;2\" id=\"next-page-link-tag\" rel=\"next\"><script nonce=\"16893201252795550433\">!function(){if(\"PerformancePaintTiming\" in window){var e=window.__perf={e:[]};e.o=new PerformanceObserver(function(n){e.e=e.e.concat(n.getEntries())});try{e.o.observe({entryTypes:[\"paint\"]})}catch(e){}}}();\\n\\n\\t\\tif (requestAnimationFrame && performance && performance.mark) {\\n\\t\\t\\trequestAnimationFrame(function () {\\n\\t\\t\\t\\twindow.first_paint = performance.now();\\n\\t\\t\\t\\tperformance.mark(\"first_paint\");\\n\\t\\t\\t});\\n\\t\\t}\\n\\n        // web-vitals polyfill for FID\\n        !function(n,e){var t,o,i,c=[],f={passive:!0,capture:!0},r=new Date,a=\"pointerup\",u=\"pointercancel\";function p(n,c){t||(t=c,o=n,i=new Date,w(e),s())}function s(){o>=0&&o<i-r&&(c.forEach(function(n){n(o,t)}),c=[])}function l(t){if(t.cancelable){var o=(t.timeStamp>1e12?new Date:performance.now())-t.timeStamp;\"pointerdown\"==t.type?function(t,o){function i(){p(t,o),r()}function c(){r()}function r(){e(a,i,f),e(u,c,f)}n(a,i,f),n(u,c,f)}(o,t):p(o,t)}}function w(n){[\"click\",\"mousedown\",\"keydown\",\"touchstart\",\"pointerdown\"].forEach(function(e){n(e,l,f)})}w(n),self.perfMetrics=self.perfMetrics||{},self.perfMetrics.onFirstInputDelay=function(n){c.push(n),s()}}(addEventListener,removeEventListener);</script><script async src=\"https://www.googletagmanager.com/gtag/js?id=AW-594691041\"></script><script nonce=\"16893201252795550433\">window.dataLayer = window.dataLayer || [];\\n\\t\\tfunction gtag(){dataLayer.push(arguments)};\\n\\t\\tgtag(\\'js\\', new Date());</script></head><body><div id=\"container\"><div><div class=\"_1kfTjk\"><div class=\"_1rH5Jn\"><div class=\"_1TmfNK\"></div><div class=\"_2Xfa2_\"><div class=\"_3_C9Hx\"><div class=\"_3qX0zy\"><a href=\"/\"><img width=\"75\" src=\"//static-assets-web.flixcart.com/fk-p-linchpin-web/fk-cp-zion/img/flipkart-plus_8d85f4.png\" alt=\"Flipkart\" title=\"Flipkart\" class=\"_2xm1JU\"/></a><a class=\"_21ljIi\" href=\"/plus\">Explore<!-- --> <span class=\"_2FVHGh\">Plus</span><img width=\"10\" src=\"//static-assets-web.flixcart.com/fk-p-linchpin-web/fk-cp-zion/img/plus_aef861.png\"/></a></div></div><div class=\"_1cmsER\"><form class=\"_2M8cLY header-form-search\" action=\"/search\" method=\"GET\"><div class=\"col-12-12 _2oO9oE\"><div class=\"_3OO5Xc\"><input type=\"text\" value=\"laptops\" class=\"_3704LK\" title=\"Search for products, brands and more\" name=\"q\" autoComplete=\"off\" placeholder=\"Search for products, brands and more\"/></div><button class=\"L0Z3Pu\" type=\"submit\"><svg width=\"20\" height=\"20\" viewBox=\"0 0 17 18\" class=\"\" xmlns=\"http://www.w3.org/2000/svg\"><g fill=\"#2874F1\" fill-rule=\"evenodd\"><path class=\"_34RNph\" d=\"m11.618 9.897l4.225 4.212c.092.092.101.232.02.313l-1.465 1.46c-.081.081-.221.072-.314-.02l-4.216-4.203\"></path><path class=\"_34RNph\" d=\"m6.486 10.901c-2.42 0-4.381-1.956-4.381-4.368 0-2.413 1.961-4.369 4.381-4.369 2.42 0 4.381 1.956 4.381 4.369 0 2.413-1.961 4.368-4.381 4.368m0-10.835c-3.582 0-6.486 2.895-6.486 6.467 0 3.572 2.904 6.467 6.486 6.467 3.582 0 6.486-2.895 6.486-6.467 0-3.572-2.904-6.467-6.486-6.467\"></path></g></svg></button><input type=\"hidden\" name=\"otracker\" value=\"search\"/><input type=\"hidden\" name=\"otracker1\" value=\"search\"/><input type=\"hidden\" name=\"marketplace\" value=\"FLIPKART\"/><input type=\"hidden\" name=\"as-show\" value=\"off\"/><input type=\"hidden\" name=\"as\" value=\"off\"/></div><ul class=\"col-12-12 _1MRYA1\"></ul></form></div><div class=\"go_DOp _2errNR\"><div class=\"_28p97w\"><div class=\"_1psGvi _3BvnxG\"><div><a class=\"_1_3w1N\" href=\"/account/login?ret=/search%3Fq%3Dlaptops%26as%3Don%26as-show%3Don%26otracker%3DAS_Query_TrendingAutoSuggest_1_0_na_na_na%26otracker1%3DAS_Query_TrendingAutoSuggest_1_0_na_na_na%26as-pos%3D1%26as-type%3DHISTORY%26suggestionId%3Dlaptops%26requestId%3D46019d4a-7ca0-47df-abb2-12391aa3db52\">Login</a></div></div></div></div><div class=\"go_DOp\"><a href=\"https://seller.flipkart.com/sell-online/?utm_source=fkwebsite&amp;utm_medium=websitedirect\" class=\"_3-PJz-\"><span>Become a Seller</span></a></div><div class=\"go_DOp\"><div class=\"_28p97w\"><div class=\"_1psGvi _3BvnxG\"><div><div class=\"exehdJ\"> <!-- -->More<!-- --> </div></div></div><svg width=\"4.7\" height=\"8\" viewBox=\"0 0 16 27\" xmlns=\"http://www.w3.org/2000/svg\" class=\"zZ3yfL\"><path d=\"M16 23.207L6.11 13.161 16 3.093 12.955 0 0 13.161l12.955 13.161z\" fill=\"#fff\" class=\"_2gTTdy\"></path></svg></div></div><div class=\"go_DOp\"><div class=\"_1psGvi\"><div class=\"YUhWwv\"><a class=\"_3SkBxJ\" href=\"/viewcart?exploreMode=true&amp;preference=FLIPKART\"><svg class=\"V3C5bO\" width=\"14\" height=\"14\" viewBox=\"0 0 16 16\" xmlns=\"http://www.w3.org/2000/svg\"><path class=\"_1bS9ic\" d=\"M15.32 2.405H4.887C3 2.405 2.46.805 2.46.805L2.257.21C2.208.085 2.083 0 1.946 0H.336C.1 0-.064.24.024.46l.644 1.945L3.11 9.767c.047.137.175.23.32.23h8.418l-.493 1.958H3.768l.002.003c-.017 0-.033-.003-.05-.003-1.06 0-1.92.86-1.92 1.92s.86 1.92 1.92 1.92c.99 0 1.805-.75 1.91-1.712l5.55.076c.12.922.91 1.636 1.867 1.636 1.04 0 1.885-.844 1.885-1.885 0-.866-.584-1.593-1.38-1.814l2.423-8.832c.12-.433-.206-.86-.655-.86\" fill=\"#fff\"></path></svg><span>Cart</span></a></div></div></div></div><div class=\"_1TmfNK\"></div></div><div class=\"_1mUdNz\"></div></div><div class=\"_331-kn\"></div><div class=\"_36fx1h _6t1WkM _3HqJxg\"><div class=\"_1YokD2 _2GoDe3\"><div class=\"_1YokD2 _3Mn1Gg col-2-12\" style=\"flex:0 0 280px;max-width:280px;padding:0px 10px 0px 0px\"><div class=\"_1YokD2 _3Mn1Gg col-12-12\"><div class=\"_1AtVbE col-12-12\"><div class=\"_1KOcBL\"><section class=\"JWMl0H _2hbLCH\"><div class=\"_2ssEMF\"><div class=\"_3V8rao\"><span>Filters</span></div></div></section><div class=\"_2q_g77\"><section class=\"_2aDURW\"><div class=\"_2lfNTw\"><span>CATEGORIES</span></div><div><div class=\"TB_InB\"><span><svg width=\"10\" height=\"10\" viewBox=\"0 0 16 27\" xmlns=\"http://www.w3.org/2000/svg\" class=\"_2Iqv73\"><path d=\"M16 23.207L6.11 13.161 16 3.093 12.955 0 0 13.161l12.955 13.161z\" fill=\"#fff\" class=\"_3zK8He\"></path></svg></span><a class=\"_2qvBBJ _2Mji8F\" title=\"Computers\" href=\"/computers/pr?sid=6bo&amp;q=laptops&amp;otracker=categorytree\">Computers</a></div></div><div><div class=\"TB_InB\"><span><svg width=\"10\" height=\"10\" viewBox=\"0 0 16 27\" xmlns=\"http://www.w3.org/2000/svg\" class=\"_2Iqv73\"><path d=\"M16 23.207L6.11 13.161 16 3.093 12.955 0 0 13.161l12.955 13.161z\" fill=\"#fff\" class=\"\"></path></svg></span><a class=\"_1jJQdf _2Mji8F\" title=\"Laptops\" href=\"/laptops/pr?sid=6bo,b5g&amp;q=laptops&amp;otracker=categorytree\">Laptops</a></div></div></section></div><section class=\"_2yz7eI _2hbLCH\"><div class=\"_3KxRU6 _2ssEMF\"><div class=\"UR1L2I _3V8rao\"><span>Price</span></div></div><div class=\"_2NBiOm\"><div class=\"_1nneZ0\"><div class=\"_2TbXIJ\" style=\"height:0;width:0\"></div><div class=\"_2TbXIJ\" style=\"height:0;width:0\"></div><div class=\"_2TbXIJ\" style=\"height:0;width:0\"></div><div class=\"_2TbXIJ\" style=\"height:0;width:0\"></div><div class=\"_2TbXIJ\" style=\"height:0;width:0\"></div><div class=\"_2TbXIJ\" style=\"height:0;width:0\"></div></div></div><div class=\"_2r34SG\"><div class=\"_12FhcQ\"><div class=\"_31Kbhn _28DFQy\"><div class=\"_3FdLqY\"></div></div><div class=\"_31Kbhn WC_zGJ\"><div class=\"_3FdLqY\"></div></div><div class=\"_2IN3-t\"></div><div class=\"_2IN3-t _1mRwrD\"></div></div><div class=\"_15GU70\"><div class=\"_1ftpgI\" style=\"width:undefinedpx\">.</div><div class=\"_1ftpgI\" style=\"width:undefinedpx\">.</div><div class=\"_1ftpgI\" style=\"width:undefinedpx\">.</div><div class=\"_1ftpgI\" style=\"width:undefinedpx\">.</div><div class=\"_1ftpgI\" style=\"width:undefinedpx\">.</div><div class=\"_1ftpgI\" style=\"width:undefinedpx\">.</div><div class=\"_1ftpgI\" style=\"width:0px\">.</div></div></div><div class=\"_2b0bUo\"><div class=\"_1YAKP4\"><select class=\"_2YxCDZ\"><option selected=\"\" value=\"Min\" class=\"_3AsjWR\">Min</option><option value=\"20000\" class=\"_3AsjWR\">₹20000</option><option value=\"40000\" class=\"_3AsjWR\">₹40000</option><option value=\"50000\" class=\"_3AsjWR\">₹50000</option><option value=\"60000\" class=\"_3AsjWR\">₹60000</option><option value=\"75000\" class=\"_3AsjWR\">₹75000</option></select></div><div class=\"_3zohzR\">to</div><div class=\"_3uDYxP\"><select class=\"_2YxCDZ\"><option value=\"20000\" class=\"_3AsjWR\">₹20000</option><option value=\"40000\" class=\"_3AsjWR\">₹40000</option><option value=\"50000\" class=\"_3AsjWR\">₹50000</option><option value=\"60000\" class=\"_3AsjWR\">₹60000</option><option value=\"75000\" class=\"_3AsjWR\">₹75000</option><option selected=\"\" value=\"Max\" class=\"_3AsjWR\">₹75000+</option></select></div></div></section><section class=\"_167Mu3 _2hbLCH\"><div class=\"_213eRC _2ssEMF\"><div class=\"_2gmUFU _3V8rao\">Brand</div><svg width=\"16\" height=\"27\" viewBox=\"0 0 16 27\" xmlns=\"http://www.w3.org/2000/svg\" class=\"ttx38n\"><path d=\"M16 23.207L6.11 13.161 16 3.093 12.955 0 0 13.161l12.955 13.161z\" fill=\"#fff\" class=\"IIvmWM\"></path></svg></div></section><section class=\"_167Mu3 _2hbLCH\"><div class=\"_213eRC _2ssEMF\"><div class=\"_2gmUFU _3V8rao\">Type</div><svg width=\"16\" height=\"27\" viewBox=\"0 0 16 27\" xmlns=\"http://www.w3.org/2000/svg\" class=\"ttx38n\"><path d=\"M16 23.207L6.11 13.161 16 3.093 12.955 0 0 13.161l12.955 13.161z\" fill=\"#fff\" class=\"IIvmWM\"></path></svg></div></section><section class=\"_167Mu3 _2hbLCH\"><div class=\"_213eRC _2ssEMF\"><div class=\"_2gmUFU _3V8rao\">Processor</div><svg width=\"16\" height=\"27\" viewBox=\"0 0 16 27\" xmlns=\"http://www.w3.org/2000/svg\" class=\"ttx38n _3DyGEM\"><path d=\"M16 23.207L6.11 13.161 16 3.093 12.955 0 0 13.161l12.955 13.161z\" fill=\"#fff\" class=\"IIvmWM\"></path></svg></div><div class=\"_3FPh42\"><div class=\"_2d0we9\"><div class=\"_2pBqj6\"><svg width=\"20\" height=\"20\" viewBox=\"0 0 17 18\" class=\"_3WAvPc\" xmlns=\"http://www.w3.org/2000/svg\"><g fill=\"#2874F1\" fill-rule=\"evenodd\"><path class=\"-OwdlC\" d=\"m11.618 9.897l4.225 4.212c.092.092.101.232.02.313l-1.465 1.46c-.081.081-.221.072-.314-.02l-4.216-4.203\"></path><path class=\"-OwdlC\" d=\"m6.486 10.901c-2.42 0-4.381-1.956-4.381-4.368 0-2.413 1.961-4.369 4.381-4.369 2.42 0 4.381 1.956 4.381 4.369 0 2.413-1.961 4.368-4.381 4.368m0-10.835c-3.582 0-6.486 2.895-6.486 6.467 0 3.572 2.904 6.467 6.486 6.467 3.582 0 6.486-2.895 6.486-6.467 0-3.572-2.904-6.467-6.486-6.467\"></path></g></svg><input type=\"text\" value=\"\" class=\"_34uFYj\" placeholder=\"Search Processor\"/></div><div class=\"_4921Z t0pPfW\" title=\"Core i5\"><div class=\"_1Y4Vhm _4FO7b6\"><label class=\"_2iDkf8 t0pPfW\"><input type=\"checkbox\" class=\"_30VH1S\" readonly=\"\"/><div class=\"_24_Dny\"></div><div class=\"_3879cV\">Core i5</div></label></div></div><div class=\"_4921Z t0pPfW\" title=\"Core i3\"><div class=\"_1Y4Vhm _4FO7b6\"><label class=\"_2iDkf8 t0pPfW\"><input type=\"checkbox\" class=\"_30VH1S\" readonly=\"\"/><div class=\"_24_Dny\"></div><div class=\"_3879cV\">Core i3</div></label></div></div><div class=\"_4921Z t0pPfW\" title=\"Core i7\"><div class=\"_1Y4Vhm _4FO7b6\"><label class=\"_2iDkf8 t0pPfW\"><input type=\"checkbox\" class=\"_30VH1S\" readonly=\"\"/><div class=\"_24_Dny\"></div><div class=\"_3879cV\">Core i7</div></label></div></div><div class=\"_4921Z t0pPfW\" title=\"Ryzen 7 Quad Core\"><div class=\"_1Y4Vhm _4FO7b6\"><label class=\"_2iDkf8 t0pPfW\"><input type=\"checkbox\" class=\"_30VH1S\" readonly=\"\"/><div class=\"_24_Dny\"></div><div class=\"_3879cV\">Ryzen 7 Quad Core</div></label></div></div><div class=\"_4921Z t0pPfW\" title=\"Ryzen 5 Quad Core\"><div class=\"_1Y4Vhm _4FO7b6\"><label class=\"_2iDkf8 t0pPfW\"><input type=\"checkbox\" class=\"_30VH1S\" readonly=\"\"/><div class=\"_24_Dny\"></div><div class=\"_3879cV\">Ryzen 5 Quad Core</div></label></div></div><div class=\"_4921Z t0pPfW\" title=\"Core i9\"><div class=\"_1Y4Vhm _4FO7b6\"><label class=\"_2iDkf8 t0pPfW\"><input type=\"checkbox\" class=\"_30VH1S\" readonly=\"\"/><div class=\"_24_Dny\"></div><div class=\"_3879cV\">Core i9</div></label></div></div></div><div class=\"QvtND5 _2w_U27\"><span>38 MORE</span></div></div></section><section class=\"_167Mu3 _2hbLCH\"><div class=\"_213eRC _2ssEMF\"><div class=\"_2gmUFU _3V8rao\">Processor Generation</div><svg width=\"16\" height=\"27\" viewBox=\"0 0 16 27\" xmlns=\"http://www.w3.org/2000/svg\" class=\"ttx38n\"><path d=\"M16 23.207L6.11 13.161 16 3.093 12.955 0 0 13.161l12.955 13.161z\" fill=\"#fff\" class=\"IIvmWM\"></path></svg></div></section><section class=\"_167Mu3 _2hbLCH\"><div class=\"_213eRC _2ssEMF\"><div class=\"_2gmUFU _3V8rao\">RAM Capacity</div><svg width=\"16\" height=\"27\" viewBox=\"0 0 16 27\" xmlns=\"http://www.w3.org/2000/svg\" class=\"ttx38n\"><path d=\"M16 23.207L6.11 13.161 16 3.093 12.955 0 0 13.161l12.955 13.161z\" fill=\"#fff\" class=\"IIvmWM\"></path></svg></div></section><section class=\"_167Mu3 _2hbLCH\"><div class=\"_213eRC _2ssEMF\"><div class=\"_2gmUFU _3V8rao\">SSD Capacity</div><svg width=\"16\" height=\"27\" viewBox=\"0 0 16 27\" xmlns=\"http://www.w3.org/2000/svg\" class=\"ttx38n\"><path d=\"M16 23.207L6.11 13.161 16 3.093 12.955 0 0 13.161l12.955 13.161z\" fill=\"#fff\" class=\"IIvmWM\"></path></svg></div></section><section class=\"_167Mu3 _2hbLCH\"><div class=\"_213eRC _2ssEMF\"><div class=\"_2gmUFU _3V8rao\">Graphic Processor Series</div><svg width=\"16\" height=\"27\" viewBox=\"0 0 16 27\" xmlns=\"http://www.w3.org/2000/svg\" class=\"ttx38n\"><path d=\"M16 23.207L6.11 13.161 16 3.093 12.955 0 0 13.161l12.955 13.161z\" fill=\"#fff\" class=\"IIvmWM\"></path></svg></div></section><section class=\"_167Mu3 _2hbLCH\"><div class=\"_213eRC _2ssEMF\"><div class=\"_2gmUFU _3V8rao\">Screen Size</div><svg width=\"16\" height=\"27\" viewBox=\"0 0 16 27\" xmlns=\"http://www.w3.org/2000/svg\" class=\"ttx38n\"><path d=\"M16 23.207L6.11 13.161 16 3.093 12.955 0 0 13.161l12.955 13.161z\" fill=\"#fff\" class=\"IIvmWM\"></path></svg></div></section><section class=\"_167Mu3 _2hbLCH\"><div class=\"_213eRC _2ssEMF\"><div class=\"_2gmUFU _3V8rao\">Operating System</div><svg width=\"16\" height=\"27\" viewBox=\"0 0 16 27\" xmlns=\"http://www.w3.org/2000/svg\" class=\"ttx38n\"><path d=\"M16 23.207L6.11 13.161 16 3.093 12.955 0 0 13.161l12.955 13.161z\" fill=\"#fff\" class=\"IIvmWM\"></path></svg></div></section><section class=\"_167Mu3 _2hbLCH\"><div class=\"_213eRC _2ssEMF\"><div class=\"_2gmUFU _3V8rao\">LifeStyle</div><svg width=\"16\" height=\"27\" viewBox=\"0 0 16 27\" xmlns=\"http://www.w3.org/2000/svg\" class=\"ttx38n\"><path d=\"M16 23.207L6.11 13.161 16 3.093 12.955 0 0 13.161l12.955 13.161z\" fill=\"#fff\" class=\"IIvmWM\"></path></svg></div></section><section class=\"_167Mu3 _2hbLCH\"><div class=\"_213eRC _2ssEMF\"><div class=\"_2gmUFU _3V8rao\">Weight</div><svg width=\"16\" height=\"27\" viewBox=\"0 0 16 27\" xmlns=\"http://www.w3.org/2000/svg\" class=\"ttx38n\"><path d=\"M16 23.207L6.11 13.161 16 3.093 12.955 0 0 13.161l12.955 13.161z\" fill=\"#fff\" class=\"IIvmWM\"></path></svg></div></section><section class=\"_167Mu3 _2hbLCH\"><div class=\"_213eRC _2ssEMF\"><div class=\"_2gmUFU _3V8rao\">Touch Screen</div><svg width=\"16\" height=\"27\" viewBox=\"0 0 16 27\" xmlns=\"http://www.w3.org/2000/svg\" class=\"ttx38n\"><path d=\"M16 23.207L6.11 13.161 16 3.093 12.955 0 0 13.161l12.955 13.161z\" fill=\"#fff\" class=\"IIvmWM\"></path></svg></div></section><section class=\"_167Mu3 _2hbLCH\"><div class=\"_213eRC _2ssEMF\"><div class=\"_2gmUFU _3V8rao\">Processor Brand</div><svg width=\"16\" height=\"27\" viewBox=\"0 0 16 27\" xmlns=\"http://www.w3.org/2000/svg\" class=\"ttx38n\"><path d=\"M16 23.207L6.11 13.161 16 3.093 12.955 0 0 13.161l12.955 13.161z\" fill=\"#fff\" class=\"IIvmWM\"></path></svg></div></section><section class=\"_167Mu3 _2hbLCH\"><div class=\"_213eRC _2ssEMF\"><div class=\"_2gmUFU _3V8rao\">Usage</div><svg width=\"16\" height=\"27\" viewBox=\"0 0 16 27\" xmlns=\"http://www.w3.org/2000/svg\" class=\"ttx38n\"><path d=\"M16 23.207L6.11 13.161 16 3.093 12.955 0 0 13.161l12.955 13.161z\" fill=\"#fff\" class=\"IIvmWM\"></path></svg></div></section><section class=\"_167Mu3 _2hbLCH\"><div class=\"_213eRC _2ssEMF\"><div class=\"_2gmUFU _3V8rao\">Dedicated Graphics Memory</div><svg width=\"16\" height=\"27\" viewBox=\"0 0 16 27\" xmlns=\"http://www.w3.org/2000/svg\" class=\"ttx38n\"><path d=\"M16 23.207L6.11 13.161 16 3.093 12.955 0 0 13.161l12.955 13.161z\" fill=\"#fff\" class=\"IIvmWM\"></path></svg></div></section><section class=\"_167Mu3 _2hbLCH\"><div class=\"_213eRC _2ssEMF\"><div class=\"_2gmUFU _3V8rao\">Features</div><svg width=\"16\" height=\"27\" viewBox=\"0 0 16 27\" xmlns=\"http://www.w3.org/2000/svg\" class=\"ttx38n\"><path d=\"M16 23.207L6.11 13.161 16 3.093 12.955 0 0 13.161l12.955 13.161z\" fill=\"#fff\" class=\"IIvmWM\"></path></svg></div></section><section class=\"_167Mu3 _2hbLCH\"><div class=\"_213eRC _2ssEMF\"><div class=\"_2gmUFU _3V8rao\">Storage Type</div><svg width=\"16\" height=\"27\" viewBox=\"0 0 16 27\" xmlns=\"http://www.w3.org/2000/svg\" class=\"ttx38n\"><path d=\"M16 23.207L6.11 13.161 16 3.093 12.955 0 0 13.161l12.955 13.161z\" fill=\"#fff\" class=\"IIvmWM\"></path></svg></div></section><section class=\"_167Mu3 _2hbLCH\"><div class=\"_213eRC _2ssEMF\"><div class=\"_2gmUFU _3V8rao\">Graphics Memory Type</div><svg width=\"16\" height=\"27\" viewBox=\"0 0 16 27\" xmlns=\"http://www.w3.org/2000/svg\" class=\"ttx38n\"><path d=\"M16 23.207L6.11 13.161 16 3.093 12.955 0 0 13.161l12.955 13.161z\" fill=\"#fff\" class=\"IIvmWM\"></path></svg></div></section><section class=\"_167Mu3 _2hbLCH\"><div class=\"_213eRC _2ssEMF\"><div class=\"_2gmUFU _3V8rao\">Graphic Processor Name</div><svg width=\"16\" height=\"27\" viewBox=\"0 0 16 27\" xmlns=\"http://www.w3.org/2000/svg\" class=\"ttx38n\"><path d=\"M16 23.207L6.11 13.161 16 3.093 12.955 0 0 13.161l12.955 13.161z\" fill=\"#fff\" class=\"IIvmWM\"></path></svg></div></section><section class=\"_167Mu3 _2hbLCH\"><div class=\"_213eRC _2ssEMF\"><div class=\"_2gmUFU _3V8rao\">Hard Disk Capacity</div><svg width=\"16\" height=\"27\" viewBox=\"0 0 16 27\" xmlns=\"http://www.w3.org/2000/svg\" class=\"ttx38n\"><path d=\"M16 23.207L6.11 13.161 16 3.093 12.955 0 0 13.161l12.955 13.161z\" fill=\"#fff\" class=\"IIvmWM\"></path></svg></div></section><section class=\"_167Mu3 _2hbLCH\"><div class=\"_213eRC _2ssEMF\"><div class=\"_2gmUFU _3V8rao\">Ram Type</div><svg width=\"16\" height=\"27\" viewBox=\"0 0 16 27\" xmlns=\"http://www.w3.org/2000/svg\" class=\"ttx38n\"><path d=\"M16 23.207L6.11 13.161 16 3.093 12.955 0 0 13.161l12.955 13.161z\" fill=\"#fff\" class=\"IIvmWM\"></path></svg></div></section><section class=\"_167Mu3 _2hbLCH\"><div class=\"_213eRC _2ssEMF\"><div class=\"_2gmUFU _3V8rao\">Availability</div><svg width=\"16\" height=\"27\" viewBox=\"0 0 16 27\" xmlns=\"http://www.w3.org/2000/svg\" class=\"ttx38n\"><path d=\"M16 23.207L6.11 13.161 16 3.093 12.955 0 0 13.161l12.955 13.161z\" fill=\"#fff\" class=\"IIvmWM\"></path></svg></div></section><section class=\"_167Mu3 _2hbLCH\"><div class=\"_213eRC _2ssEMF\"><div class=\"_2gmUFU _3V8rao\">Discount</div><svg width=\"16\" height=\"27\" viewBox=\"0 0 16 27\" xmlns=\"http://www.w3.org/2000/svg\" class=\"ttx38n\"><path d=\"M16 23.207L6.11 13.161 16 3.093 12.955 0 0 13.161l12.955 13.161z\" fill=\"#fff\" class=\"IIvmWM\"></path></svg></div></section><section class=\"_167Mu3 _2hbLCH\"><div class=\"_213eRC _2ssEMF\"><div class=\"_2gmUFU _3V8rao\">Customer Ratings</div><svg width=\"16\" height=\"27\" viewBox=\"0 0 16 27\" xmlns=\"http://www.w3.org/2000/svg\" class=\"ttx38n _3DyGEM\"><path d=\"M16 23.207L6.11 13.161 16 3.093 12.955 0 0 13.161l12.955 13.161z\" fill=\"#fff\" class=\"IIvmWM\"></path></svg></div><div class=\"_3FPh42\"><div class=\"_2d0we9\"><div class=\"_4921Z t0pPfW\" title=\"4★ &amp; above\"><div class=\"_1Y4Vhm _4FO7b6\"><label class=\"_2iDkf8 t0pPfW\"><input type=\"checkbox\" class=\"_30VH1S\" readonly=\"\"/><div class=\"_24_Dny\"></div><div class=\"_3879cV\">4★ &amp; above</div></label></div></div><div class=\"_4921Z t0pPfW\" title=\"3★ &amp; above\"><div class=\"_1Y4Vhm _4FO7b6\"><label class=\"_2iDkf8 t0pPfW\"><input type=\"checkbox\" class=\"_30VH1S\" readonly=\"\"/><div class=\"_24_Dny\"></div><div class=\"_3879cV\">3★ &amp; above</div></label></div></div><div class=\"_4921Z t0pPfW\" title=\"2★ &amp; above\"><div class=\"_1Y4Vhm _4FO7b6\"><label class=\"_2iDkf8 t0pPfW\"><input type=\"checkbox\" class=\"_30VH1S\" readonly=\"\"/><div class=\"_24_Dny\"></div><div class=\"_3879cV\">2★ &amp; above</div></label></div></div><div class=\"_4921Z t0pPfW\" title=\"1★ &amp; above\"><div class=\"_1Y4Vhm _4FO7b6\"><label class=\"_2iDkf8 t0pPfW\"><input type=\"checkbox\" class=\"_30VH1S\" readonly=\"\"/><div class=\"_24_Dny\"></div><div class=\"_3879cV\">1★ &amp; above</div></label></div></div></div></div></section><section class=\"_167Mu3 _2hbLCH\"><div class=\"_213eRC _2ssEMF\"><div class=\"_2gmUFU _3V8rao\">Usage</div><svg width=\"16\" height=\"27\" viewBox=\"0 0 16 27\" xmlns=\"http://www.w3.org/2000/svg\" class=\"ttx38n\"><path d=\"M16 23.207L6.11 13.161 16 3.093 12.955 0 0 13.161l12.955 13.161z\" fill=\"#fff\" class=\"IIvmWM\"></path></svg></div></section><section class=\"_2hbLCH _24gLJx\"><label class=\"_2iDkf8 shbqsL\"><input type=\"checkbox\" class=\"_30VH1S\" readonly=\"\"/><div class=\"_24_Dny _3tCU7L\"></div><div class=\"_3879cV\"><div class=\"_3U-Vxu\"><img height=\"21\" src=\"//static-assets-web.flixcart.com/fk-p-linchpin-web/fk-cp-zion/img/fa_62673a.png\" class=\"_3U-Vxu\"/></div></div></label><div class=\"Bv11UC\"><span class=\"question\">?</span></div></section><section class=\"_167Mu3 _2hbLCH\"><div class=\"_213eRC _2ssEMF\"><div class=\"_2gmUFU _3V8rao\">GST Invoice Available</div><svg width=\"16\" height=\"27\" viewBox=\"0 0 16 27\" xmlns=\"http://www.w3.org/2000/svg\" class=\"ttx38n\"><path d=\"M16 23.207L6.11 13.161 16 3.093 12.955 0 0 13.161l12.955 13.161z\" fill=\"#fff\" class=\"IIvmWM\"></path></svg></div></section><section class=\"_167Mu3 _2hbLCH\"><div class=\"_213eRC _2ssEMF\"><div class=\"_2gmUFU _3V8rao\">Offers</div><svg width=\"16\" height=\"27\" viewBox=\"0 0 16 27\" xmlns=\"http://www.w3.org/2000/svg\" class=\"ttx38n _3DyGEM\"><path d=\"M16 23.207L6.11 13.161 16 3.093 12.955 0 0 13.161l12.955 13.161z\" fill=\"#fff\" class=\"IIvmWM\"></path></svg></div><div class=\"_3FPh42\"><div class=\"_2d0we9\"><div class=\"_4921Z t0pPfW\" title=\"No Cost EMI\"><div class=\"_1Y4Vhm _4FO7b6\"><label class=\"_2iDkf8 t0pPfW\"><input type=\"checkbox\" class=\"_30VH1S\" readonly=\"\"/><div class=\"_24_Dny\"></div><div class=\"_3879cV\">No Cost EMI</div></label></div></div><div class=\"_4921Z t0pPfW\" title=\"Special Price\"><div class=\"_1Y4Vhm _4FO7b6\"><label class=\"_2iDkf8 t0pPfW\"><input type=\"checkbox\" class=\"_30VH1S\" readonly=\"\"/><div class=\"_24_Dny\"></div><div class=\"_3879cV\">Special Price</div></label></div></div></div></div></section><section class=\"_167Mu3 _2hbLCH\"><div class=\"_213eRC _2ssEMF\"><div class=\"_2gmUFU _3V8rao\">RAM Capacity</div><svg width=\"16\" height=\"27\" viewBox=\"0 0 16 27\" xmlns=\"http://www.w3.org/2000/svg\" class=\"ttx38n\"><path d=\"M16 23.207L6.11 13.161 16 3.093 12.955 0 0 13.161l12.955 13.161z\" fill=\"#fff\" class=\"IIvmWM\"></path></svg></div></section></div></div><div class=\"_1AtVbE col-12-12\"><a class=\"_1nY1tt\" title=\"Buying Guide\" href=\"/buying-guide/laptops?sid=6bo,b5g&amp;otracker=bg_from_browse_lhs\"><div><span>Need help?</span></div><div class=\"_1mVNvF\"><span>Help me decide</span><svg width=\"16\" height=\"27\" viewBox=\"0 0 16 27\" xmlns=\"http://www.w3.org/2000/svg\" class=\"ViewtL\"><path d=\"M16 23.207L6.11 13.161 16 3.093 12.955 0 0 13.161l12.955 13.161z\" fill=\"#fff\" class=\"_2Zt1Py\"></path></svg></div><img alt=\"Buying Guide\" src=\"//static-assets-web.flixcart.com/fk-p-linchpin-web/fk-cp-zion/img/buying-guide-illustration_4dd325.png\"/></a></div></div></div><div class=\"_1YokD2 _3Mn1Gg\" style=\"flex-grow:1;overflow:auto\"><div class=\"_1YokD2 _2GoDe3 col-12-12\" style=\"background-color:#ffffff;align-items:flex-end\"><div class=\"_1AtVbE\" style=\"flex-grow:1;overflow:auto\"><div class=\"W_R1IA\"><div class=\"_1MR4o5\"><div class=\"_3GIHBu\"><a href=\"/\" class=\"_2whKao\">Home</a><svg width=\"16\" height=\"27\" viewBox=\"0 0 16 27\" xmlns=\"http://www.w3.org/2000/svg\" class=\"_39X-Og\"><path d=\"M16 23.207L6.11 13.161 16 3.093 12.955 0 0 13.161l12.955 13.161z\" fill=\"#fff\" class=\"DpXnhQ\"></path></svg></div><div class=\"_3GIHBu\"><a class=\"_2whKao\" href=\"/computers/pr?sid=6bo&amp;marketplace=FLIPKART\">Computers</a><svg width=\"16\" height=\"27\" viewBox=\"0 0 16 27\" xmlns=\"http://www.w3.org/2000/svg\" class=\"_39X-Og\"><path d=\"M16 23.207L6.11 13.161 16 3.093 12.955 0 0 13.161l12.955 13.161z\" fill=\"#fff\" class=\"DpXnhQ\"></path></svg></div><div class=\"_3GIHBu\"><a class=\"_2whKao\" href=\"/laptops/pr?sid=6bo,b5g&amp;marketplace=FLIPKART\">Laptops</a><svg width=\"16\" height=\"27\" viewBox=\"0 0 16 27\" xmlns=\"http://www.w3.org/2000/svg\" class=\"_39X-Og\"><path d=\"M16 23.207L6.11 13.161 16 3.093 12.955 0 0 13.161l12.955 13.161z\" fill=\"#fff\" class=\"DpXnhQ\"></path></svg></div></div><span class=\"_10Ermr\">Showing 1 – 24 of 1,939 results for &quot;<span>laptops</span>&quot;</span><div class=\"_5THWM1\"><span class=\"_2i7N3j\">Sort By</span><div class=\"_10UF8M _3LsR0e\">Relevance</div><div class=\"_10UF8M\">Popularity</div><div class=\"_10UF8M\">Price -- Low to High</div><div class=\"_10UF8M\">Price -- High to Low</div><div class=\"_10UF8M\">Newest First</div></div></div></div></div><div class=\"_1AtVbE col-12-12\"><div class=\"_13oc-S\"><div data-id=\"COMGS2AJESZQCMRT\" style=\"width:100%\"><div class=\"_2kHMtA\"><a class=\"_1fQZEK\" target=\"_blank\" rel=\"noopener noreferrer\" href=\"/asus-tuf-gaming-f15-ai-powered-intel-core-i5-11th-gen-11260h-8-gb-512-gb-ssd-windows-11-home-4-graphics-nvidia-geforce-rtx-2050-144-hz-70-w-fx506hf-hn075w-laptop/p/itmbd858702e076f?pid=COMGS2AJESZQCMRT&amp;lid=LSTCOMGS2AJESZQCMRTZVTWT2&amp;marketplace=FLIPKART&amp;q=laptops&amp;store=6bo%2Fb5g&amp;srno=s_1_1&amp;otracker=AS_Query_TrendingAutoSuggest_1_0_na_na_na&amp;otracker1=AS_Query_TrendingAutoSuggest_1_0_na_na_na&amp;fm=organic&amp;iid=en_sJhQxgM-0drNLCqFJmCNL8WCzM2Lo-qrfD2mYVlw8I-E5Di1X8FZzRYkAVKCzCOg1O-TNZUQz0IA6bTo7E3SHQ%3D%3D&amp;ppt=None&amp;ppn=None&amp;ssid=2uwt7zzlr40000001703133998233&amp;qH=c06ea84a1e3dc3c6\"><div class=\"MIXNux\"><div class=\"_2QcLo-\"><div><div class=\"CXW8mj\" style=\"height:200px;width:200px\"><img loading=\"eager\" class=\"_396cs4\" alt=\"ASUS TUF Gaming F15 - AI Powered Gaming Intel Core i5 11th Gen 11260H - (8 GB/512 GB SSD/Windows 11 Ho...\" src=\"https://rukminim2.flixcart.com/image/312/312/xif0q/computer/v/y/z/-original-imagtucnqsqpbvk6.jpeg?q=70\"/></div></div></div><div class=\"_3wLduG\"><div class=\"_3PzNI-\"><span class=\"f3A4_V\"><label class=\"_2iDkf8\"><input type=\"checkbox\" class=\"_30VH1S\" readonly=\"\"/><div class=\"_24_Dny\"></div></label></span><label class=\"_6Up2sF\"><span>Add to Compare</span></label></div></div><div class=\"_2hVSre _3nq8ih\"><div class=\"_36FSn5\"><svg xmlns=\"http://www.w3.org/2000/svg\" class=\"_1l0elc\" width=\"16\" height=\"16\" viewBox=\"0 0 20 16\"><path d=\"M8.695 16.682C4.06 12.382 1 9.536 1 6.065 1 3.219 3.178 1 5.95 1c1.566 0 3.069.746 4.05 1.915C10.981 1.745 12.484 1 14.05 1 16.822 1 19 3.22 19 6.065c0 3.471-3.06 6.316-7.695 10.617L10 17.897l-1.305-1.215z\" fill=\"#2874F0\" class=\"eX72wL\" stroke=\"#FFF\" fill-rule=\"evenodd\" opacity=\".9\"></path></svg></div></div></div><div class=\"_3pLy-c row\"><div class=\"col col-7-12\"><div class=\"_2tfzpE\"><span>Sponsored</span></div><div class=\"_4rR01T\">ASUS TUF Gaming F15 - AI Powered Gaming Intel Core i5 11th Gen 11260H - (8 GB/512 GB SSD/Windows 11 Ho...</div><div class=\"gUuXy-\"><span id=\"productRating_LSTCOMGS2AJESZQCMRTZVTWT2_COMGS2AJESZQCMRT_\" class=\"_1lRcqv\"><div class=\"_3LWZlK\">4.3<img src=\"data:image/svg+xml;base64,PHN2ZyB4bWxucz0iaHR0cDovL3d3dy53My5vcmcvMjAwMC9zdmciIHdpZHRoPSIxMyIgaGVpZ2h0PSIxMiI+PHBhdGggZmlsbD0iI0ZGRiIgZD0iTTYuNSA5LjQzOWwtMy42NzQgMi4yMy45NC00LjI2LTMuMjEtMi44ODMgNC4yNTQtLjQwNEw2LjUuMTEybDEuNjkgNC4wMSA0LjI1NC40MDQtMy4yMSAyLjg4Mi45NCA0LjI2eiIvPjwvc3ZnPg==\" class=\"_1wB99o\"/></div></span><span class=\"_2_R_DZ\"><span><span>2,555 Ratings\\xa0</span><span class=\"_13vcmD\">&amp;</span><span>\\xa0250 Reviews</span></span></span></div><div class=\"fMghEO\"><ul class=\"_1xgFaf\"><li class=\"rgWa7D\">Intel Core i5 Processor (11th Gen)</li><li class=\"rgWa7D\">8 GB DDR4 RAM</li><li class=\"rgWa7D\">Windows 11 Operating System</li><li class=\"rgWa7D\">512 GB SSD</li><li class=\"rgWa7D\">39.62 cm (15.6 Inch) Display</li><li class=\"rgWa7D\">1 Year Carry-in Warranty</li></ul></div></div><div class=\"col col-5-12 nlI3QM\"><div class=\"_3tbKJL\"><div class=\"_25b18c\"><div class=\"_30jeq3 _1_WHN1\">₹50,990</div><div class=\"_3I9_wc _27UcVY\">₹<!-- -->75,990</div><div class=\"_3Ay6Sb\"><span>32% off</span></div></div></div><div class=\"_13J9qT\"><img height=\"21\" src=\"//static-assets-web.flixcart.com/fk-p-linchpin-web/fk-cp-zion/img/fa_62673a.png\"/></div></div></div></a></div></div></div></div><div class=\"_1AtVbE col-12-12\"><div class=\"_13oc-S\"><div data-id=\"COMGPQEXKNS6N2ZM\" style=\"width:100%\"><div class=\"_2kHMtA\"><a class=\"_1fQZEK\" target=\"_blank\" rel=\"noopener noreferrer\" href=\"/asus-tuf-gaming-f15-90whr-battery-intel-core-i5-11th-gen-11400h-16-gb-512-gb-ssd-windows-11-home-4-graphics-nvidia-geforce-rtx-3050-144-hz-75-w-fx506hc-hn362w-laptop/p/itme1099c5e0c014?pid=COMGPQEXKNS6N2ZM&amp;lid=LSTCOMGPQEXKNS6N2ZM0B2U0W&amp;marketplace=FLIPKART&amp;q=laptops&amp;store=6bo%2Fb5g&amp;srno=s_1_2&amp;otracker=AS_Query_TrendingAutoSuggest_1_0_na_na_na&amp;otracker1=AS_Query_TrendingAutoSuggest_1_0_na_na_na&amp;fm=organic&amp;iid=en_sJhQxgM-0drNLCqFJmCNL8WCzM2Lo-qrfD2mYVlw8I9Kn-9_a-eWqy9ilFQFG8tJcw_VBiYdFtE7B22nZl8GAw%3D%3D&amp;ppt=None&amp;ppn=None&amp;ssid=2uwt7zzlr40000001703133998233&amp;qH=c06ea84a1e3dc3c6\"><div class=\"MIXNux\"><div class=\"_2QcLo-\"><div><div class=\"CXW8mj\" style=\"height:200px;width:200px\"><img loading=\"eager\" class=\"_396cs4\" alt=\"ASUS TUF Gaming F15 with 90WHr Battery Intel Core i5 11th Gen 11400H - (16 GB/512 GB SSD/Windows 11 Ho...\" src=\"https://rukminim2.flixcart.com/image/312/312/xif0q/computer/v/y/z/-original-imagtucnqsqpbvk6.jpeg?q=70\"/></div></div></div><div class=\"_3wLduG\"><div class=\"_3PzNI-\"><span class=\"f3A4_V\"><label class=\"_2iDkf8\"><input type=\"checkbox\" class=\"_30VH1S\" readonly=\"\"/><div class=\"_24_Dny\"></div></label></span><label class=\"_6Up2sF\"><span>Add to Compare</span></label></div></div><div class=\"_2hVSre _3nq8ih\"><div class=\"_36FSn5\"><svg xmlns=\"http://www.w3.org/2000/svg\" class=\"_1l0elc\" width=\"16\" height=\"16\" viewBox=\"0 0 20 16\"><path d=\"M8.695 16.682C4.06 12.382 1 9.536 1 6.065 1 3.219 3.178 1 5.95 1c1.566 0 3.069.746 4.05 1.915C10.981 1.745 12.484 1 14.05 1 16.822 1 19 3.22 19 6.065c0 3.471-3.06 6.316-7.695 10.617L10 17.897l-1.305-1.215z\" fill=\"#2874F0\" class=\"eX72wL\" stroke=\"#FFF\" fill-rule=\"evenodd\" opacity=\".9\"></path></svg></div></div></div><div class=\"_3pLy-c row\"><div class=\"col col-7-12\"><div class=\"_2tfzpE\"><span>Sponsored</span></div><div class=\"_4rR01T\">ASUS TUF Gaming F15 with 90WHr Battery Intel Core i5 11th Gen 11400H - (16 GB/512 GB SSD/Windows 11 Ho...</div><div class=\"gUuXy-\"><span id=\"productRating_LSTCOMGPQEXKNS6N2ZM0B2U0W_COMGPQEXKNS6N2ZM_\" class=\"_1lRcqv\"><div class=\"_3LWZlK\">4.4<img src=\"data:image/svg+xml;base64,PHN2ZyB4bWxucz0iaHR0cDovL3d3dy53My5vcmcvMjAwMC9zdmciIHdpZHRoPSIxMyIgaGVpZ2h0PSIxMiI+PHBhdGggZmlsbD0iI0ZGRiIgZD0iTTYuNSA5LjQzOWwtMy42NzQgMi4yMy45NC00LjI2LTMuMjEtMi44ODMgNC4yNTQtLjQwNEw2LjUuMTEybDEuNjkgNC4wMSA0LjI1NC40MDQtMy4yMSAyLjg4Mi45NCA0LjI2eiIvPjwvc3ZnPg==\" class=\"_1wB99o\"/></div></span><span class=\"_2_R_DZ\"><span><span>1,435 Ratings\\xa0</span><span class=\"_13vcmD\">&amp;</span><span>\\xa0138 Reviews</span></span></span></div><div class=\"fMghEO\"><ul class=\"_1xgFaf\"><li class=\"rgWa7D\">Intel Core i5 Processor (11th Gen)</li><li class=\"rgWa7D\">16 GB DDR4 RAM</li><li class=\"rgWa7D\">Windows 11 Operating System</li><li class=\"rgWa7D\">512 GB SSD</li><li class=\"rgWa7D\">39.62 cm (15.6 Inch) Display</li><li class=\"rgWa7D\">1 Year Onsite Warranty</li></ul></div></div><div class=\"col col-5-12 nlI3QM\"><div class=\"_3tbKJL\"><div class=\"_25b18c\"><div class=\"_30jeq3 _1_WHN1\">₹60,990</div><div class=\"_3I9_wc _27UcVY\">₹<!-- -->89,990</div><div class=\"_3Ay6Sb\"><span>32% off</span></div></div></div><div class=\"_13J9qT\"><img height=\"21\" src=\"//static-assets-web.flixcart.com/fk-p-linchpin-web/fk-cp-zion/img/fa_62673a.png\"/></div></div></div></a></div></div></div></div><div class=\"_1AtVbE col-12-12\"><div class=\"_13oc-S\"><div data-id=\"COMGGR9SBTFZCNDU\" style=\"width:100%\"><div class=\"_2kHMtA\"><a class=\"_1fQZEK\" target=\"_blank\" rel=\"noopener noreferrer\" href=\"/lenovo-ideapad-slim-3-intel-core-i5-11th-gen-1155g7-8-gb-512-gb-ssd-windows-11-home-15itl6-thin-light-laptop/p/itmd81779ae0a4bb?pid=COMGGR9SBTFZCNDU&amp;lid=LSTCOMGGR9SBTFZCNDU84OXGZ&amp;marketplace=FLIPKART&amp;q=laptops&amp;store=6bo%2Fb5g&amp;srno=s_1_3&amp;otracker=AS_Query_TrendingAutoSuggest_1_0_na_na_na&amp;otracker1=AS_Query_TrendingAutoSuggest_1_0_na_na_na&amp;fm=organic&amp;iid=fe921b55-41f8-44ed-8e9c-8371a07edc33.COMGGR9SBTFZCNDU.SEARCH&amp;ppt=None&amp;ppn=None&amp;ssid=2uwt7zzlr40000001703133998233&amp;qH=c06ea84a1e3dc3c6\"><div class=\"MIXNux\"><div class=\"_2QcLo-\"><div><div class=\"CXW8mj\" style=\"height:200px;width:200px\"><img loading=\"eager\" class=\"_396cs4\" alt=\"Lenovo IdeaPad Slim 3 Intel Core i5 11th Gen 1155G7 - (8 GB/512 GB SSD/Windows 11 Home) 15ITL6 Thin an...\" src=\"https://rukminim2.flixcart.com/image/312/312/xif0q/computer/9/d/n/-original-imaguyhzhbhqe8qj.jpeg?q=70\"/></div></div></div><div class=\"_3wLduG\"><div class=\"_3PzNI-\"><span class=\"f3A4_V\"><label class=\"_2iDkf8\"><input type=\"checkbox\" class=\"_30VH1S\" readonly=\"\"/><div class=\"_24_Dny\"></div></label></span><label class=\"_6Up2sF\"><span>Add to Compare</span></label></div></div><div class=\"_2hVSre _3nq8ih\"><div class=\"_36FSn5\"><svg xmlns=\"http://www.w3.org/2000/svg\" class=\"_1l0elc\" width=\"16\" height=\"16\" viewBox=\"0 0 20 16\"><path d=\"M8.695 16.682C4.06 12.382 1 9.536 1 6.065 1 3.219 3.178 1 5.95 1c1.566 0 3.069.746 4.05 1.915C10.981 1.745 12.484 1 14.05 1 16.822 1 19 3.22 19 6.065c0 3.471-3.06 6.316-7.695 10.617L10 17.897l-1.305-1.215z\" fill=\"#2874F0\" class=\"eX72wL\" stroke=\"#FFF\" fill-rule=\"evenodd\" opacity=\".9\"></path></svg></div></div></div><div class=\"_3pLy-c row\"><div class=\"col col-7-12\"><div class=\"_4rR01T\">Lenovo IdeaPad Slim 3 Intel Core i5 11th Gen 1155G7 - (8 GB/512 GB SSD/Windows 11 Home) 15ITL6 Thin an...</div><div class=\"gUuXy-\"><span id=\"productRating_LSTCOMGGR9SBTFZCNDU84OXGZ_COMGGR9SBTFZCNDU_\" class=\"_1lRcqv\"><div class=\"_3LWZlK\">4.2<img src=\"data:image/svg+xml;base64,PHN2ZyB4bWxucz0iaHR0cDovL3d3dy53My5vcmcvMjAwMC9zdmciIHdpZHRoPSIxMyIgaGVpZ2h0PSIxMiI+PHBhdGggZmlsbD0iI0ZGRiIgZD0iTTYuNSA5LjQzOWwtMy42NzQgMi4yMy45NC00LjI2LTMuMjEtMi44ODMgNC4yNTQtLjQwNEw2LjUuMTEybDEuNjkgNC4wMSA0LjI1NC40MDQtMy4yMSAyLjg4Mi45NCA0LjI2eiIvPjwvc3ZnPg==\" class=\"_1wB99o\"/></div></span><span class=\"_2_R_DZ\"><span><span>4,590 Ratings\\xa0</span><span class=\"_13vcmD\">&amp;</span><span>\\xa0329 Reviews</span></span></span></div><div class=\"fMghEO\"><ul class=\"_1xgFaf\"><li class=\"rgWa7D\">Intel Core i5 Processor (11th Gen)</li><li class=\"rgWa7D\">8 GB DDR4 RAM</li><li class=\"rgWa7D\">64 bit Windows 11 Operating System</li><li class=\"rgWa7D\">512 GB SSD</li><li class=\"rgWa7D\">39.62 cm (15.6 inch) Display</li><li class=\"rgWa7D\">1Year Onsite warranty</li></ul></div></div><div class=\"col col-5-12 nlI3QM\"><div class=\"_3tbKJL\"><div class=\"_25b18c\"><div class=\"_30jeq3 _1_WHN1\">₹44,990</div><div class=\"_3I9_wc _27UcVY\">₹<!-- -->64,290</div><div class=\"_3Ay6Sb\"><span>30% off</span></div></div></div><div class=\"_13J9qT\"><img height=\"21\" src=\"//static-assets-web.flixcart.com/fk-p-linchpin-web/fk-cp-zion/img/fa_62673a.png\"/></div></div></div></a></div></div></div></div><div class=\"_1AtVbE col-12-12\"><div class=\"_13oc-S\"><div data-id=\"COMGAX8EEYFKCESS\" style=\"width:100%\"><div class=\"_2kHMtA\"><a class=\"_1fQZEK\" target=\"_blank\" rel=\"noopener noreferrer\" href=\"/hp-amd-ryzen-3-quad-core-5300u-8-gb-512-gb-ssd-windows-11-home-15s-eq2143au-thin-light-laptop/p/itm59e288d010cef?pid=COMGAX8EEYFKCESS&amp;lid=LSTCOMGAX8EEYFKCESS83R2QP&amp;marketplace=FLIPKART&amp;q=laptops&amp;store=6bo%2Fb5g&amp;spotlightTagId=TrendingId_6bo%2Fb5g&amp;srno=s_1_4&amp;otracker=AS_Query_TrendingAutoSuggest_1_0_na_na_na&amp;otracker1=AS_Query_TrendingAutoSuggest_1_0_na_na_na&amp;fm=organic&amp;iid=fe921b55-41f8-44ed-8e9c-8371a07edc33.COMGAX8EEYFKCESS.SEARCH&amp;ppt=None&amp;ppn=None&amp;ssid=2uwt7zzlr40000001703133998233&amp;qH=c06ea84a1e3dc3c6\"><div></div><div class=\"MIXNux\"><div class=\"_2QcLo-\"><div><div class=\"CXW8mj\" style=\"height:200px;width:200px\"><img loading=\"eager\" class=\"_396cs4\" alt=\"HP AMD Ryzen 3 Quad Core 5300U - (8 GB/512 GB SSD/Windows 11 Home) 15s-eq2143au Thin and Light Laptop\" src=\"https://rukminim2.flixcart.com/image/312/312/xif0q/computer/l/m/j/-original-imagwy8dydwzrnka.jpeg?q=70\"/></div></div></div><div class=\"_3wLduG\"><div class=\"_3PzNI-\"><span class=\"f3A4_V\"><label class=\"_2iDkf8\"><input type=\"checkbox\" class=\"_30VH1S\" readonly=\"\"/><div class=\"_24_Dny\"></div></label></span><label class=\"_6Up2sF\"><span>Add to Compare</span></label></div></div><div class=\"_2hVSre _3nq8ih\"><div class=\"_36FSn5\"><svg xmlns=\"http://www.w3.org/2000/svg\" class=\"_1l0elc\" width=\"16\" height=\"16\" viewBox=\"0 0 20 16\"><path d=\"M8.695 16.682C4.06 12.382 1 9.536 1 6.065 1 3.219 3.178 1 5.95 1c1.566 0 3.069.746 4.05 1.915C10.981 1.745 12.484 1 14.05 1 16.822 1 19 3.22 19 6.065c0 3.471-3.06 6.316-7.695 10.617L10 17.897l-1.305-1.215z\" fill=\"#2874F0\" class=\"eX72wL\" stroke=\"#FFF\" fill-rule=\"evenodd\" opacity=\".9\"></path></svg></div></div></div><div class=\"_3pLy-c row\"><div class=\"col col-7-12\"><div class=\"_4rR01T\">HP AMD Ryzen 3 Quad Core 5300U - (8 GB/512 GB SSD/Windows 11 Home) 15s-eq2143au Thin and Light Laptop</div><div class=\"gUuXy-\"><span id=\"productRating_LSTCOMGAX8EEYFKCESS83R2QP_COMGAX8EEYFKCESS_\" class=\"_1lRcqv\"><div class=\"_3LWZlK\">4.2<img src=\"data:image/svg+xml;base64,PHN2ZyB4bWxucz0iaHR0cDovL3d3dy53My5vcmcvMjAwMC9zdmciIHdpZHRoPSIxMyIgaGVpZ2h0PSIxMiI+PHBhdGggZmlsbD0iI0ZGRiIgZD0iTTYuNSA5LjQzOWwtMy42NzQgMi4yMy45NC00LjI2LTMuMjEtMi44ODMgNC4yNTQtLjQwNEw2LjUuMTEybDEuNjkgNC4wMSA0LjI1NC40MDQtMy4yMSAyLjg4Mi45NCA0LjI2eiIvPjwvc3ZnPg==\" class=\"_1wB99o\"/></div></span><span class=\"_2_R_DZ\"><span><span>3,040 Ratings\\xa0</span><span class=\"_13vcmD\">&amp;</span><span>\\xa0322 Reviews</span></span></span></div><div class=\"fMghEO\"><ul class=\"_1xgFaf\"><li class=\"rgWa7D\">AMD Ryzen 3 Quad Core Processor</li><li class=\"rgWa7D\">8 GB DDR4 RAM</li><li class=\"rgWa7D\">64 bit Windows 11 Operating System</li><li class=\"rgWa7D\">512 GB SSD</li><li class=\"rgWa7D\">39.62 cm (15.6 inch) Display</li><li class=\"rgWa7D\">Microsoft Office 2019 &amp; Office 365, HP Documentation, HP BIOS recovery, HP Smart</li><li class=\"rgWa7D\">1 Year Onsite Warranty</li></ul></div></div><div class=\"col col-5-12 nlI3QM\"><div class=\"_3tbKJL\"><div class=\"_25b18c\"><div class=\"_30jeq3 _1_WHN1\">₹31,990</div><div class=\"_3I9_wc _27UcVY\">₹<!-- -->47,147</div><div class=\"_3Ay6Sb\"><span>32% off</span></div></div></div><div class=\"_13J9qT\"><img height=\"21\" src=\"//static-assets-web.flixcart.com/fk-p-linchpin-web/fk-cp-zion/img/fa_62673a.png\"/></div></div></div></a></div></div></div></div><div class=\"_1AtVbE col-12-12\"><div class=\"_13oc-S\"><div data-id=\"COMGPF5CQ7VDWDT4\" style=\"width:100%\"><div class=\"_2kHMtA\"><a class=\"_1fQZEK\" target=\"_blank\" rel=\"noopener noreferrer\" href=\"/acer-one-intel-core-i3-11th-gen-1115g4-8-gb-512-gb-ssd-windows-11-home-ao-14-z-8-415-thin-light-laptop/p/itm34f24cbac6f26?pid=COMGPF5CQ7VDWDT4&amp;lid=LSTCOMGPF5CQ7VDWDT4PET780&amp;marketplace=FLIPKART&amp;q=laptops&amp;store=6bo%2Fb5g&amp;spotlightTagId=BestsellerId_6bo%2Fb5g&amp;srno=s_1_5&amp;otracker=AS_Query_TrendingAutoSuggest_1_0_na_na_na&amp;otracker1=AS_Query_TrendingAutoSuggest_1_0_na_na_na&amp;fm=organic&amp;iid=fe921b55-41f8-44ed-8e9c-8371a07edc33.COMGPF5CQ7VDWDT4.SEARCH&amp;ppt=None&amp;ppn=None&amp;ssid=2uwt7zzlr40000001703133998233&amp;qH=c06ea84a1e3dc3c6\"><div></div><div class=\"MIXNux\"><div class=\"_2QcLo-\"><div><div class=\"CXW8mj\" style=\"height:200px;width:200px\"><img loading=\"eager\" class=\"_396cs4\" alt=\"Acer One Intel Core i3 11th Gen 1115G4 - (8 GB/512 GB SSD/Windows 11 Home) AO 14 Z 8-415 Thin and Ligh...\" src=\"https://rukminim2.flixcart.com/image/312/312/xif0q/computer/6/5/g/-original-imagtke7erkzwzfp.jpeg?q=70\"/></div></div></div><div class=\"_3wLduG\"><div class=\"_3PzNI-\"><span class=\"f3A4_V\"><label class=\"_2iDkf8\"><input type=\"checkbox\" class=\"_30VH1S\" readonly=\"\"/><div class=\"_24_Dny\"></div></label></span><label class=\"_6Up2sF\"><span>Add to Compare</span></label></div></div><div class=\"_2hVSre _3nq8ih\"><div class=\"_36FSn5\"><svg xmlns=\"http://www.w3.org/2000/svg\" class=\"_1l0elc\" width=\"16\" height=\"16\" viewBox=\"0 0 20 16\"><path d=\"M8.695 16.682C4.06 12.382 1 9.536 1 6.065 1 3.219 3.178 1 5.95 1c1.566 0 3.069.746 4.05 1.915C10.981 1.745 12.484 1 14.05 1 16.822 1 19 3.22 19 6.065c0 3.471-3.06 6.316-7.695 10.617L10 17.897l-1.305-1.215z\" fill=\"#2874F0\" class=\"eX72wL\" stroke=\"#FFF\" fill-rule=\"evenodd\" opacity=\".9\"></path></svg></div></div></div><div class=\"_3pLy-c row\"><div class=\"col col-7-12\"><div class=\"_4rR01T\">Acer One Intel Core i3 11th Gen 1115G4 - (8 GB/512 GB SSD/Windows 11 Home) AO 14 Z 8-415 Thin and Ligh...</div><div class=\"gUuXy-\"><span id=\"productRating_LSTCOMGPF5CQ7VDWDT4PET780_COMGPF5CQ7VDWDT4_\" class=\"_1lRcqv\"><div class=\"_3LWZlK\">4.2<img src=\"data:image/svg+xml;base64,PHN2ZyB4bWxucz0iaHR0cDovL3d3dy53My5vcmcvMjAwMC9zdmciIHdpZHRoPSIxMyIgaGVpZ2h0PSIxMiI+PHBhdGggZmlsbD0iI0ZGRiIgZD0iTTYuNSA5LjQzOWwtMy42NzQgMi4yMy45NC00LjI2LTMuMjEtMi44ODMgNC4yNTQtLjQwNEw2LjUuMTEybDEuNjkgNC4wMSA0LjI1NC40MDQtMy4yMSAyLjg4Mi45NCA0LjI2eiIvPjwvc3ZnPg==\" class=\"_1wB99o\"/></div></span><span class=\"_2_R_DZ\"><span><span>4,777 Ratings\\xa0</span><span class=\"_13vcmD\">&amp;</span><span>\\xa0435 Reviews</span></span></span></div><div class=\"fMghEO\"><ul class=\"_1xgFaf\"><li class=\"rgWa7D\">Intel Core i3 Processor (11th Gen)</li><li class=\"rgWa7D\">8 GB DDR4 RAM</li><li class=\"rgWa7D\">64 bit Windows 11 Operating System</li><li class=\"rgWa7D\">512 GB SSD</li><li class=\"rgWa7D\">35.56 cm (14 Inch) Display</li><li class=\"rgWa7D\">1 Year Warranty</li></ul></div></div><div class=\"col col-5-12 nlI3QM\"><div class=\"_3tbKJL\"><div class=\"_25b18c\"><div class=\"_30jeq3 _1_WHN1\">₹26,990</div><div class=\"_3I9_wc _27UcVY\">₹<!-- -->43,999</div><div class=\"_3Ay6Sb\"><span>38% off</span></div></div></div><div class=\"_13J9qT\"><img height=\"21\" src=\"//static-assets-web.flixcart.com/fk-p-linchpin-web/fk-cp-zion/img/fa_62673a.png\"/></div></div></div></a></div></div></div></div><div class=\"_1AtVbE col-12-12\"><div class=\"_13oc-S\"><div data-id=\"COMGS7M36HZBHH5R\" style=\"width:100%\"><div class=\"_2kHMtA\"><a class=\"_1fQZEK\" target=\"_blank\" rel=\"noopener noreferrer\" href=\"/asus-vivobook-15-intel-core-i3-11th-gen-1115g4-8-gb-256-gb-ssd-windows-11-home-x1500ea-ej311w-thin-light-laptop/p/itmcc87b88b4d7bf?pid=COMGS7M36HZBHH5R&amp;lid=LSTCOMGS7M36HZBHH5RNHNWTN&amp;marketplace=FLIPKART&amp;q=laptops&amp;store=6bo%2Fb5g&amp;srno=s_1_6&amp;otracker=AS_Query_TrendingAutoSuggest_1_0_na_na_na&amp;otracker1=AS_Query_TrendingAutoSuggest_1_0_na_na_na&amp;fm=organic&amp;iid=fe921b55-41f8-44ed-8e9c-8371a07edc33.COMGS7M36HZBHH5R.SEARCH&amp;ppt=None&amp;ppn=None&amp;ssid=2uwt7zzlr40000001703133998233&amp;qH=c06ea84a1e3dc3c6\"><div class=\"MIXNux\"><div class=\"_2QcLo-\"><div><div class=\"CXW8mj\" style=\"height:200px;width:200px\"><img loading=\"eager\" class=\"_396cs4\" alt=\"ASUS Vivobook 15 Intel Core i3 11th Gen 1115G4 - (8 GB/256 GB SSD/Windows 11 Home) X1500EA-EJ311W Thin...\" src=\"https://rukminim2.flixcart.com/image/312/312/xif0q/computer/q/e/z/-original-imagpxgqesgrthks.jpeg?q=70\"/></div></div></div><div class=\"_3wLduG\"><div class=\"_3PzNI-\"><span class=\"f3A4_V\"><label class=\"_2iDkf8\"><input type=\"checkbox\" class=\"_30VH1S\" readonly=\"\"/><div class=\"_24_Dny\"></div></label></span><label class=\"_6Up2sF\"><span>Add to Compare</span></label></div></div><div class=\"_2hVSre _3nq8ih\"><div class=\"_36FSn5\"><svg xmlns=\"http://www.w3.org/2000/svg\" class=\"_1l0elc\" width=\"16\" height=\"16\" viewBox=\"0 0 20 16\"><path d=\"M8.695 16.682C4.06 12.382 1 9.536 1 6.065 1 3.219 3.178 1 5.95 1c1.566 0 3.069.746 4.05 1.915C10.981 1.745 12.484 1 14.05 1 16.822 1 19 3.22 19 6.065c0 3.471-3.06 6.316-7.695 10.617L10 17.897l-1.305-1.215z\" fill=\"#2874F0\" class=\"eX72wL\" stroke=\"#FFF\" fill-rule=\"evenodd\" opacity=\".9\"></path></svg></div></div></div><div class=\"_3pLy-c row\"><div class=\"col col-7-12\"><div class=\"_4rR01T\">ASUS Vivobook 15 Intel Core i3 11th Gen 1115G4 - (8 GB/256 GB SSD/Windows 11 Home) X1500EA-EJ311W Thin...</div><div class=\"gUuXy-\"><span id=\"productRating_LSTCOMGS7M36HZBHH5RNHNWTN_COMGS7M36HZBHH5R_\" class=\"_1lRcqv\"><div class=\"_3LWZlK\">4.3<img src=\"data:image/svg+xml;base64,PHN2ZyB4bWxucz0iaHR0cDovL3d3dy53My5vcmcvMjAwMC9zdmciIHdpZHRoPSIxMyIgaGVpZ2h0PSIxMiI+PHBhdGggZmlsbD0iI0ZGRiIgZD0iTTYuNSA5LjQzOWwtMy42NzQgMi4yMy45NC00LjI2LTMuMjEtMi44ODMgNC4yNTQtLjQwNEw2LjUuMTEybDEuNjkgNC4wMSA0LjI1NC40MDQtMy4yMSAyLjg4Mi45NCA0LjI2eiIvPjwvc3ZnPg==\" class=\"_1wB99o\"/></div></span><span class=\"_2_R_DZ\"><span><span>920 Ratings\\xa0</span><span class=\"_13vcmD\">&amp;</span><span>\\xa079 Reviews</span></span></span></div><div class=\"fMghEO\"><ul class=\"_1xgFaf\"><li class=\"rgWa7D\">Intel Core i3 Processor (11th Gen)</li><li class=\"rgWa7D\">8 GB DDR4 RAM</li><li class=\"rgWa7D\">Windows 11 Operating System</li><li class=\"rgWa7D\">256 GB SSD</li><li class=\"rgWa7D\">39.62 cm (15.6 Inch) Display</li><li class=\"rgWa7D\">1 Year Onsite Warranty</li></ul></div></div><div class=\"col col-5-12 nlI3QM\"><div class=\"_3tbKJL\"><div class=\"_25b18c\"><div class=\"_30jeq3 _1_WHN1\">₹30,990</div><div class=\"_3I9_wc _27UcVY\">₹<!-- -->44,990</div><div class=\"_3Ay6Sb\"><span>31% off</span></div></div></div><div class=\"_13J9qT\"><img height=\"21\" src=\"//static-assets-web.flixcart.com/fk-p-linchpin-web/fk-cp-zion/img/fa_62673a.png\"/></div></div></div></a></div></div></div></div><div class=\"_1AtVbE col-12-12\"><div class=\"_13oc-S\"><div data-id=\"COMGSB23REP7G84N\" style=\"width:100%\"><div class=\"_2kHMtA\"><a class=\"_1fQZEK\" target=\"_blank\" rel=\"noopener noreferrer\" href=\"/lenovo-ideapad-1-amd-athlon-dual-core-7120u-8-gb-512-gb-ssd-windows-11-home-15amn7-thin-light-laptop/p/itm920ecb24fc5b6?pid=COMGSB23REP7G84N&amp;lid=LSTCOMGSB23REP7G84N5VMCYP&amp;marketplace=FLIPKART&amp;q=laptops&amp;store=6bo%2Fb5g&amp;srno=s_1_7&amp;otracker=AS_Query_TrendingAutoSuggest_1_0_na_na_na&amp;otracker1=AS_Query_TrendingAutoSuggest_1_0_na_na_na&amp;fm=organic&amp;iid=fe921b55-41f8-44ed-8e9c-8371a07edc33.COMGSB23REP7G84N.SEARCH&amp;ppt=None&amp;ppn=None&amp;ssid=2uwt7zzlr40000001703133998233&amp;qH=c06ea84a1e3dc3c6\"><div class=\"MIXNux\"><div class=\"_2QcLo-\"><div><div class=\"CXW8mj\" style=\"height:200px;width:200px\"><img loading=\"eager\" class=\"_396cs4\" alt=\"Lenovo IdeaPad 1 AMD Athlon Dual Core 7120U - (8 GB/512 GB SSD/Windows 11 Home) 15AMN7 Thin and Light ...\" src=\"https://rukminim2.flixcart.com/image/312/312/xif0q/computer/n/i/e/15amn7-thin-and-light-laptop-lenovo-original-imagsvykgkecffgr.jpeg?q=70\"/></div></div></div><div class=\"_3wLduG\"><div class=\"_3PzNI-\"><span class=\"f3A4_V\"><label class=\"_2iDkf8\"><input type=\"checkbox\" class=\"_30VH1S\" readonly=\"\"/><div class=\"_24_Dny\"></div></label></span><label class=\"_6Up2sF\"><span>Add to Compare</span></label></div></div><div class=\"_2hVSre _3nq8ih\"><div class=\"_36FSn5\"><svg xmlns=\"http://www.w3.org/2000/svg\" class=\"_1l0elc\" width=\"16\" height=\"16\" viewBox=\"0 0 20 16\"><path d=\"M8.695 16.682C4.06 12.382 1 9.536 1 6.065 1 3.219 3.178 1 5.95 1c1.566 0 3.069.746 4.05 1.915C10.981 1.745 12.484 1 14.05 1 16.822 1 19 3.22 19 6.065c0 3.471-3.06 6.316-7.695 10.617L10 17.897l-1.305-1.215z\" fill=\"#2874F0\" class=\"eX72wL\" stroke=\"#FFF\" fill-rule=\"evenodd\" opacity=\".9\"></path></svg></div></div></div><div class=\"_3pLy-c row\"><div class=\"col col-7-12\"><div class=\"_4rR01T\">Lenovo IdeaPad 1 AMD Athlon Dual Core 7120U - (8 GB/512 GB SSD/Windows 11 Home) 15AMN7 Thin and Light ...</div><div class=\"gUuXy-\"><span id=\"productRating_LSTCOMGSB23REP7G84N5VMCYP_COMGSB23REP7G84N_\" class=\"_1lRcqv\"><div class=\"_3LWZlK\">4.2<img src=\"data:image/svg+xml;base64,PHN2ZyB4bWxucz0iaHR0cDovL3d3dy53My5vcmcvMjAwMC9zdmciIHdpZHRoPSIxMyIgaGVpZ2h0PSIxMiI+PHBhdGggZmlsbD0iI0ZGRiIgZD0iTTYuNSA5LjQzOWwtMy42NzQgMi4yMy45NC00LjI2LTMuMjEtMi44ODMgNC4yNTQtLjQwNEw2LjUuMTEybDEuNjkgNC4wMSA0LjI1NC40MDQtMy4yMSAyLjg4Mi45NCA0LjI2eiIvPjwvc3ZnPg==\" class=\"_1wB99o\"/></div></span><span class=\"_2_R_DZ\"><span><span>1,094 Ratings\\xa0</span><span class=\"_13vcmD\">&amp;</span><span>\\xa0103 Reviews</span></span></span></div><div class=\"fMghEO\"><ul class=\"_1xgFaf\"><li class=\"rgWa7D\">AMD Athlon Dual Core Processor</li><li class=\"rgWa7D\">8 GB LPDDR5 RAM</li><li class=\"rgWa7D\">Windows 11 Operating System</li><li class=\"rgWa7D\">512 GB SSD</li><li class=\"rgWa7D\">39.62 cm (15.6 inch) Display</li><li class=\"rgWa7D\">1 Year Carry-in Warranty</li></ul></div></div><div class=\"col col-5-12 nlI3QM\"><div class=\"_3tbKJL\"><div class=\"_25b18c\"><div class=\"_30jeq3 _1_WHN1\">₹29,990</div><div class=\"_3I9_wc _27UcVY\">₹<!-- -->43,790</div><div class=\"_3Ay6Sb\"><span>31% off</span></div></div></div><div class=\"_13J9qT\"><img height=\"21\" src=\"//static-assets-web.flixcart.com/fk-p-linchpin-web/fk-cp-zion/img/fa_62673a.png\"/></div></div></div></a></div></div></div></div><div class=\"_1AtVbE col-12-12\"><div class=\"_13oc-S\"><div data-id=\"COMGSB2RZZQHMHK2\" style=\"width:100%\"><div class=\"_2kHMtA\"><a class=\"_1fQZEK\" target=\"_blank\" rel=\"noopener noreferrer\" href=\"/hp-15s-amd-ryzen-5-hexa-core-5500u-16-gb-512-gb-ssd-windows-11-home-15s-eq2132au-thin-light-laptop/p/itm72370b6c44940?pid=COMGSB2RZZQHMHK2&amp;lid=LSTCOMGSB2RZZQHMHK2G2CLXS&amp;marketplace=FLIPKART&amp;q=laptops&amp;store=6bo%2Fb5g&amp;srno=s_1_8&amp;otracker=AS_Query_TrendingAutoSuggest_1_0_na_na_na&amp;otracker1=AS_Query_TrendingAutoSuggest_1_0_na_na_na&amp;fm=organic&amp;iid=en_sJhQxgM-0drNLCqFJmCNL8WCzM2Lo-qrfD2mYVlw8I8JeOxueZ-nB_MyOYvXzQ4M0F1qzhL1RqUloDcoXcKC6Q%3D%3D&amp;ppt=None&amp;ppn=None&amp;ssid=2uwt7zzlr40000001703133998233&amp;qH=c06ea84a1e3dc3c6\"><div class=\"MIXNux\"><div class=\"_2QcLo-\"><div><div class=\"CXW8mj\" style=\"height:200px;width:200px\"><img loading=\"eager\" class=\"_396cs4\" alt=\"HP 15s AMD Ryzen 5 Hexa Core 5500U - (16 GB/512 GB SSD/Windows 11 Home) 15s-eq2132au Thin and Light La...\" src=\"https://rukminim2.flixcart.com/image/312/312/xif0q/computer/u/n/i/-original-imagwy8dgdru5zhn.jpeg?q=70\"/></div></div></div><div class=\"_3wLduG\"><div class=\"_3PzNI-\"><span class=\"f3A4_V\"><label class=\"_2iDkf8\"><input type=\"checkbox\" class=\"_30VH1S\" readonly=\"\"/><div class=\"_24_Dny\"></div></label></span><label class=\"_6Up2sF\"><span>Add to Compare</span></label></div></div><div class=\"_2hVSre _3nq8ih\"><div class=\"_36FSn5\"><svg xmlns=\"http://www.w3.org/2000/svg\" class=\"_1l0elc\" width=\"16\" height=\"16\" viewBox=\"0 0 20 16\"><path d=\"M8.695 16.682C4.06 12.382 1 9.536 1 6.065 1 3.219 3.178 1 5.95 1c1.566 0 3.069.746 4.05 1.915C10.981 1.745 12.484 1 14.05 1 16.822 1 19 3.22 19 6.065c0 3.471-3.06 6.316-7.695 10.617L10 17.897l-1.305-1.215z\" fill=\"#2874F0\" class=\"eX72wL\" stroke=\"#FFF\" fill-rule=\"evenodd\" opacity=\".9\"></path></svg></div></div></div><div class=\"_3pLy-c row\"><div class=\"col col-7-12\"><div class=\"_2tfzpE\"><span>Sponsored</span></div><div class=\"_4rR01T\">HP 15s AMD Ryzen 5 Hexa Core 5500U - (16 GB/512 GB SSD/Windows 11 Home) 15s-eq2132au Thin and Light La...</div><div class=\"gUuXy-\"><span id=\"productRating_LSTCOMGSB2RZZQHMHK2G2CLXS_COMGSB2RZZQHMHK2_\" class=\"_1lRcqv\"><div class=\"_3LWZlK\">4.3<img src=\"data:image/svg+xml;base64,PHN2ZyB4bWxucz0iaHR0cDovL3d3dy53My5vcmcvMjAwMC9zdmciIHdpZHRoPSIxMyIgaGVpZ2h0PSIxMiI+PHBhdGggZmlsbD0iI0ZGRiIgZD0iTTYuNSA5LjQzOWwtMy42NzQgMi4yMy45NC00LjI2LTMuMjEtMi44ODMgNC4yNTQtLjQwNEw2LjUuMTEybDEuNjkgNC4wMSA0LjI1NC40MDQtMy4yMSAyLjg4Mi45NCA0LjI2eiIvPjwvc3ZnPg==\" class=\"_1wB99o\"/></div></span><span class=\"_2_R_DZ\"><span><span>584 Ratings\\xa0</span><span class=\"_13vcmD\">&amp;</span><span>\\xa053 Reviews</span></span></span></div><div class=\"fMghEO\"><ul class=\"_1xgFaf\"><li class=\"rgWa7D\">AMD Ryzen 5 Hexa Core Processor</li><li class=\"rgWa7D\">16 GB DDR4 RAM</li><li class=\"rgWa7D\">Windows 11 Operating System</li><li class=\"rgWa7D\">512 GB SSD</li><li class=\"rgWa7D\">39.62 cm (15.6 inch) Display</li><li class=\"rgWa7D\">1 Year Onsite Warranty</li></ul></div></div><div class=\"col col-5-12 nlI3QM\"><div class=\"_3tbKJL\"><div class=\"_25b18c\"><div class=\"_30jeq3 _1_WHN1\">₹46,500</div><div class=\"_3I9_wc _27UcVY\">₹<!-- -->54,482</div><div class=\"_3Ay6Sb\"><span>14% off</span></div></div></div><div class=\"_13J9qT\"><img height=\"21\" src=\"//static-assets-web.flixcart.com/fk-p-linchpin-web/fk-cp-zion/img/fa_62673a.png\"/></div></div></div></a></div></div></div></div><div class=\"_1AtVbE col-12-12\"><div class=\"_13oc-S\"><div data-id=\"COMGFHNGGWNDVGSY\" style=\"width:100%\"><div class=\"_2kHMtA\"><a class=\"_1fQZEK\" target=\"_blank\" rel=\"noopener noreferrer\" href=\"/asus-vivobook-15-intel-core-i5-11th-gen-1135g7-8-gb-512-gb-ssd-windows-11-home-x515ea-ej522ws-thin-light-laptop/p/itmbfbbf7747aa01?pid=COMGFHNGGWNDVGSY&amp;lid=LSTCOMGFHNGGWNDVGSY5C6JML&amp;marketplace=FLIPKART&amp;q=laptops&amp;store=6bo%2Fb5g&amp;srno=s_1_9&amp;otracker=AS_Query_TrendingAutoSuggest_1_0_na_na_na&amp;otracker1=AS_Query_TrendingAutoSuggest_1_0_na_na_na&amp;fm=organic&amp;iid=fe921b55-41f8-44ed-8e9c-8371a07edc33.COMGFHNGGWNDVGSY.SEARCH&amp;ppt=None&amp;ppn=None&amp;ssid=2uwt7zzlr40000001703133998233&amp;qH=c06ea84a1e3dc3c6\"><div class=\"MIXNux\"><div class=\"_2QcLo-\"><div><div class=\"CXW8mj\" style=\"height:200px;width:200px\"><img loading=\"eager\" class=\"_396cs4\" alt=\"ASUS Vivobook 15 Intel Core i5 11th Gen 1135G7 - (8 GB/512 GB SSD/Windows 11 Home) X515EA-EJ522WS Thin...\" src=\"https://rukminim2.flixcart.com/image/312/312/xif0q/computer/c/l/t/-original-imagtucmkuwggepy.jpeg?q=70\"/></div></div></div><div class=\"_3wLduG\"><div class=\"_3PzNI-\"><span class=\"f3A4_V\"><label class=\"_2iDkf8\"><input type=\"checkbox\" class=\"_30VH1S\" readonly=\"\"/><div class=\"_24_Dny\"></div></label></span><label class=\"_6Up2sF\"><span>Add to Compare</span></label></div></div><div class=\"_2hVSre _3nq8ih\"><div class=\"_36FSn5\"><svg xmlns=\"http://www.w3.org/2000/svg\" class=\"_1l0elc\" width=\"16\" height=\"16\" viewBox=\"0 0 20 16\"><path d=\"M8.695 16.682C4.06 12.382 1 9.536 1 6.065 1 3.219 3.178 1 5.95 1c1.566 0 3.069.746 4.05 1.915C10.981 1.745 12.484 1 14.05 1 16.822 1 19 3.22 19 6.065c0 3.471-3.06 6.316-7.695 10.617L10 17.897l-1.305-1.215z\" fill=\"#2874F0\" class=\"eX72wL\" stroke=\"#FFF\" fill-rule=\"evenodd\" opacity=\".9\"></path></svg></div></div></div><div class=\"_3pLy-c row\"><div class=\"col col-7-12\"><div class=\"_4rR01T\">ASUS Vivobook 15 Intel Core i5 11th Gen 1135G7 - (8 GB/512 GB SSD/Windows 11 Home) X515EA-EJ522WS Thin...</div><div class=\"gUuXy-\"><span id=\"productRating_LSTCOMGFHNGGWNDVGSY5C6JML_COMGFHNGGWNDVGSY_\" class=\"_1lRcqv\"><div class=\"_3LWZlK\">4.3<img src=\"data:image/svg+xml;base64,PHN2ZyB4bWxucz0iaHR0cDovL3d3dy53My5vcmcvMjAwMC9zdmciIHdpZHRoPSIxMyIgaGVpZ2h0PSIxMiI+PHBhdGggZmlsbD0iI0ZGRiIgZD0iTTYuNSA5LjQzOWwtMy42NzQgMi4yMy45NC00LjI2LTMuMjEtMi44ODMgNC4yNTQtLjQwNEw2LjUuMTEybDEuNjkgNC4wMSA0LjI1NC40MDQtMy4yMSAyLjg4Mi45NCA0LjI2eiIvPjwvc3ZnPg==\" class=\"_1wB99o\"/></div></span><span class=\"_2_R_DZ\"><span><span>7,743 Ratings\\xa0</span><span class=\"_13vcmD\">&amp;</span><span>\\xa0578 Reviews</span></span></span></div><div class=\"fMghEO\"><ul class=\"_1xgFaf\"><li class=\"rgWa7D\">Intel Core i5 Processor (11th Gen)</li><li class=\"rgWa7D\">8 GB DDR4 RAM</li><li class=\"rgWa7D\">64 bit Windows 11 Operating System</li><li class=\"rgWa7D\">512 GB SSD</li><li class=\"rgWa7D\">39.62 cm (15.6 Inch) Display</li><li class=\"rgWa7D\">1 Year Onsite Warranty</li></ul></div></div><div class=\"col col-5-12 nlI3QM\"><div class=\"_3tbKJL\"><div class=\"_25b18c\"><div class=\"_30jeq3 _1_WHN1\">₹43,990</div><div class=\"_3I9_wc _27UcVY\">₹<!-- -->69,990</div><div class=\"_3Ay6Sb\"><span>37% off</span></div></div></div><div class=\"_13J9qT\"><img height=\"21\" src=\"//static-assets-web.flixcart.com/fk-p-linchpin-web/fk-cp-zion/img/fa_62673a.png\"/></div></div></div></a></div></div></div></div><div class=\"_1AtVbE col-12-12\"><div class=\"_13oc-S\"><div data-id=\"COMGSV58NSJBF6JK\" style=\"width:100%\"><div class=\"_2kHMtA\"><a class=\"_1fQZEK\" target=\"_blank\" rel=\"noopener noreferrer\" href=\"/asus-vivobook-go-14-intel-celeron-dual-core-n4500-8-gb-256-gb-ssd-windows-11-home-e410ka-ek013w-thin-light-laptop/p/itmae536e3b5063e?pid=COMGSV58NSJBF6JK&amp;lid=LSTCOMGSV58NSJBF6JKUERG1Z&amp;marketplace=FLIPKART&amp;q=laptops&amp;store=6bo%2Fb5g&amp;srno=s_1_10&amp;otracker=AS_Query_TrendingAutoSuggest_1_0_na_na_na&amp;otracker1=AS_Query_TrendingAutoSuggest_1_0_na_na_na&amp;fm=organic&amp;iid=fe921b55-41f8-44ed-8e9c-8371a07edc33.COMGSV58NSJBF6JK.SEARCH&amp;ppt=None&amp;ppn=None&amp;ssid=2uwt7zzlr40000001703133998233&amp;qH=c06ea84a1e3dc3c6\"><div class=\"MIXNux\"><div class=\"_2QcLo-\"><div><div class=\"CXW8mj\" style=\"height:200px;width:200px\"><img loading=\"eager\" class=\"_396cs4\" alt=\"ASUS Vivobook Go 14 Intel Celeron Dual Core N4500 - (8 GB/256 GB SSD/Windows 11 Home) E410KA-EK013W Th...\" src=\"https://rukminim2.flixcart.com/image/312/312/xif0q/computer/t/w/i/-original-imagtvq2bmuazhsq.jpeg?q=70\"/></div></div></div><div class=\"_3wLduG\"><div class=\"_3PzNI-\"><span class=\"f3A4_V\"><label class=\"_2iDkf8\"><input type=\"checkbox\" class=\"_30VH1S\" readonly=\"\"/><div class=\"_24_Dny\"></div></label></span><label class=\"_6Up2sF\"><span>Add to Compare</span></label></div></div><div class=\"_2hVSre _3nq8ih\"><div class=\"_36FSn5\"><svg xmlns=\"http://www.w3.org/2000/svg\" class=\"_1l0elc\" width=\"16\" height=\"16\" viewBox=\"0 0 20 16\"><path d=\"M8.695 16.682C4.06 12.382 1 9.536 1 6.065 1 3.219 3.178 1 5.95 1c1.566 0 3.069.746 4.05 1.915C10.981 1.745 12.484 1 14.05 1 16.822 1 19 3.22 19 6.065c0 3.471-3.06 6.316-7.695 10.617L10 17.897l-1.305-1.215z\" fill=\"#2874F0\" class=\"eX72wL\" stroke=\"#FFF\" fill-rule=\"evenodd\" opacity=\".9\"></path></svg></div></div></div><div class=\"_3pLy-c row\"><div class=\"col col-7-12\"><div class=\"_4rR01T\">ASUS Vivobook Go 14 Intel Celeron Dual Core N4500 - (8 GB/256 GB SSD/Windows 11 Home) E410KA-EK013W Th...</div><div class=\"gUuXy-\"><span id=\"productRating_LSTCOMGSV58NSJBF6JKUERG1Z_COMGSV58NSJBF6JK_\" class=\"_1lRcqv\"><div class=\"_3LWZlK\">4.2<img src=\"data:image/svg+xml;base64,PHN2ZyB4bWxucz0iaHR0cDovL3d3dy53My5vcmcvMjAwMC9zdmciIHdpZHRoPSIxMyIgaGVpZ2h0PSIxMiI+PHBhdGggZmlsbD0iI0ZGRiIgZD0iTTYuNSA5LjQzOWwtMy42NzQgMi4yMy45NC00LjI2LTMuMjEtMi44ODMgNC4yNTQtLjQwNEw2LjUuMTEybDEuNjkgNC4wMSA0LjI1NC40MDQtMy4yMSAyLjg4Mi45NCA0LjI2eiIvPjwvc3ZnPg==\" class=\"_1wB99o\"/></div></span><span class=\"_2_R_DZ\"><span><span>46 Ratings\\xa0</span><span class=\"_13vcmD\">&amp;</span><span>\\xa02 Reviews</span></span></span></div><div class=\"fMghEO\"><ul class=\"_1xgFaf\"><li class=\"rgWa7D\">Intel Celeron Dual Core Processor</li><li class=\"rgWa7D\">8 GB DDR4 RAM</li><li class=\"rgWa7D\">Windows 11 Operating System</li><li class=\"rgWa7D\">256 GB SSD</li><li class=\"rgWa7D\">35.56 cm (14 inch) Display</li><li class=\"rgWa7D\">1 Year Onsite Warranty</li></ul></div></div><div class=\"col col-5-12 nlI3QM\"><div class=\"_3tbKJL\"><div class=\"_25b18c\"><div class=\"_30jeq3 _1_WHN1\">₹23,990</div><div class=\"_3I9_wc _27UcVY\">₹<!-- -->36,990</div><div class=\"_3Ay6Sb\"><span>35% off</span></div></div></div><div class=\"_13J9qT\"><img height=\"21\" src=\"//static-assets-web.flixcart.com/fk-p-linchpin-web/fk-cp-zion/img/fa_62673a.png\"/></div></div></div></a></div></div></div></div><div class=\"_1AtVbE col-12-12\"><div class=\"_13oc-S\"><div data-id=\"COMGTABCGCGD8ZDZ\" style=\"width:100%\"><div class=\"_2kHMtA\"><a class=\"_1fQZEK\" target=\"_blank\" rel=\"noopener noreferrer\" href=\"/zebronics-pro-series-y-intel-core-i5-11th-gen-1155g7-16-gb-512-gb-ssd-windows-11-home-16-graphics-zeb-nbc-2s-thin-light-laptop/p/itmfafed97045ad9?pid=COMGTABCGCGD8ZDZ&amp;lid=LSTCOMGTABCGCGD8ZDZ8X3AN6&amp;marketplace=FLIPKART&amp;q=laptops&amp;store=6bo%2Fb5g&amp;srno=s_1_11&amp;otracker=AS_Query_TrendingAutoSuggest_1_0_na_na_na&amp;otracker1=AS_Query_TrendingAutoSuggest_1_0_na_na_na&amp;fm=organic&amp;iid=en_sJhQxgM-0drNLCqFJmCNL8WCzM2Lo-qrfD2mYVlw8I-Qi5x05s5TJcTptMlpJIrpCemdshuhetmOywqEI_COEA%3D%3D&amp;ppt=None&amp;ppn=None&amp;ssid=2uwt7zzlr40000001703133998233&amp;qH=c06ea84a1e3dc3c6\"><div class=\"MIXNux\"><div class=\"_2QcLo-\"><div><div class=\"CXW8mj\" style=\"height:200px;width:200px\"><img loading=\"eager\" class=\"_396cs4\" alt=\"ZEBRONICS Pro Series Y Intel Core i5 11th Gen 1155G7 - (16 GB/512 GB SSD/Windows 11 Home/16 GB Graphic...\" src=\"https://rukminim2.flixcart.com/image/312/312/xif0q/computer/u/k/n/-original-imagvkkmxfpgp7rg.jpeg?q=70\"/></div></div></div><div class=\"_3wLduG\"><div class=\"_3PzNI-\"><span class=\"f3A4_V\"><label class=\"_2iDkf8\"><input type=\"checkbox\" class=\"_30VH1S\" readonly=\"\"/><div class=\"_24_Dny\"></div></label></span><label class=\"_6Up2sF\"><span>Add to Compare</span></label></div></div><div class=\"_2hVSre _3nq8ih\"><div class=\"_36FSn5\"><svg xmlns=\"http://www.w3.org/2000/svg\" class=\"_1l0elc\" width=\"16\" height=\"16\" viewBox=\"0 0 20 16\"><path d=\"M8.695 16.682C4.06 12.382 1 9.536 1 6.065 1 3.219 3.178 1 5.95 1c1.566 0 3.069.746 4.05 1.915C10.981 1.745 12.484 1 14.05 1 16.822 1 19 3.22 19 6.065c0 3.471-3.06 6.316-7.695 10.617L10 17.897l-1.305-1.215z\" fill=\"#2874F0\" class=\"eX72wL\" stroke=\"#FFF\" fill-rule=\"evenodd\" opacity=\".9\"></path></svg></div></div></div><div class=\"_3pLy-c row\"><div class=\"col col-7-12\"><div class=\"_2tfzpE\"><span>Sponsored</span></div><div class=\"_4rR01T\">ZEBRONICS Pro Series Y Intel Core i5 11th Gen 1155G7 - (16 GB/512 GB SSD/Windows 11 Home/16 GB Graphic...</div><div class=\"gUuXy-\"><span id=\"productRating_LSTCOMGTABCGCGD8ZDZ8X3AN6_COMGTABCGCGD8ZDZ_\" class=\"_1lRcqv\"><div class=\"_3LWZlK\">4<img src=\"data:image/svg+xml;base64,PHN2ZyB4bWxucz0iaHR0cDovL3d3dy53My5vcmcvMjAwMC9zdmciIHdpZHRoPSIxMyIgaGVpZ2h0PSIxMiI+PHBhdGggZmlsbD0iI0ZGRiIgZD0iTTYuNSA5LjQzOWwtMy42NzQgMi4yMy45NC00LjI2LTMuMjEtMi44ODMgNC4yNTQtLjQwNEw2LjUuMTEybDEuNjkgNC4wMSA0LjI1NC40MDQtMy4yMSAyLjg4Mi45NCA0LjI2eiIvPjwvc3ZnPg==\" class=\"_1wB99o\"/></div></span><span class=\"_2_R_DZ\"><span><span>231 Ratings\\xa0</span><span class=\"_13vcmD\">&amp;</span><span>\\xa034 Reviews</span></span></span></div><div class=\"fMghEO\"><ul class=\"_1xgFaf\"><li class=\"rgWa7D\">Intel Core i5 Processor (11th Gen)</li><li class=\"rgWa7D\">16 GB LPDDR4X RAM</li><li class=\"rgWa7D\">64 bit Windows 11 Operating System</li><li class=\"rgWa7D\">512 GB SSD</li><li class=\"rgWa7D\">39.62 cm (15.6 inch) Display</li><li class=\"rgWa7D\">1 Year Carry Into Service Centre</li></ul></div></div><div class=\"col col-5-12 nlI3QM\"><div class=\"_3tbKJL\"><div class=\"_25b18c\"><div class=\"_30jeq3 _1_WHN1\">₹34,990</div><div class=\"_3I9_wc _27UcVY\">₹<!-- -->51,999</div><div class=\"_3Ay6Sb\"><span>32% off</span></div></div></div></div></div></a></div></div></div></div><div class=\"_1AtVbE col-12-12\"><div class=\"_13oc-S\"><div data-id=\"COMGFRHGDB9G3Z9C\" style=\"width:100%\"><div class=\"_2kHMtA\"><a class=\"_1fQZEK\" target=\"_blank\" rel=\"noopener noreferrer\" href=\"/hp-amd-ryzen-5-hexa-core-5500u-16-gb-512-gb-ssd-windows-11-home-15s-eq2182au-thin-light-laptop/p/itm2f070129053ed?pid=COMGFRHGDB9G3Z9C&amp;lid=LSTCOMGFRHGDB9G3Z9C66OVH5&amp;marketplace=FLIPKART&amp;q=laptops&amp;store=6bo%2Fb5g&amp;srno=s_1_12&amp;otracker=AS_Query_TrendingAutoSuggest_1_0_na_na_na&amp;otracker1=AS_Query_TrendingAutoSuggest_1_0_na_na_na&amp;fm=organic&amp;iid=en_sJhQxgM-0drNLCqFJmCNL8WCzM2Lo-qrfD2mYVlw8I_adTbGOfy82T-dZVKMoVvJCqaggVicX4UNNZE4991n2g%3D%3D&amp;ppt=None&amp;ppn=None&amp;ssid=2uwt7zzlr40000001703133998233&amp;qH=c06ea84a1e3dc3c6\"><div class=\"MIXNux\"><div class=\"_2QcLo-\"><div><div class=\"CXW8mj\" style=\"height:200px;width:200px\"><img loading=\"eager\" class=\"_396cs4\" alt=\"HP AMD Ryzen 5 Hexa Core 5500U - (16 GB/512 GB SSD/Windows 11 Home) 15s- eq2182AU Thin and Light Lapto...\" src=\"https://rukminim2.flixcart.com/image/312/312/xif0q/computer/n/t/2/-original-imagwy8dwfbsjzgu.jpeg?q=70\"/></div></div></div><div class=\"_3wLduG\"><div class=\"_3PzNI-\"><span class=\"f3A4_V\"><label class=\"_2iDkf8\"><input type=\"checkbox\" class=\"_30VH1S\" readonly=\"\"/><div class=\"_24_Dny\"></div></label></span><label class=\"_6Up2sF\"><span>Add to Compare</span></label></div></div><div class=\"_2hVSre _3nq8ih\"><div class=\"_36FSn5\"><svg xmlns=\"http://www.w3.org/2000/svg\" class=\"_1l0elc\" width=\"16\" height=\"16\" viewBox=\"0 0 20 16\"><path d=\"M8.695 16.682C4.06 12.382 1 9.536 1 6.065 1 3.219 3.178 1 5.95 1c1.566 0 3.069.746 4.05 1.915C10.981 1.745 12.484 1 14.05 1 16.822 1 19 3.22 19 6.065c0 3.471-3.06 6.316-7.695 10.617L10 17.897l-1.305-1.215z\" fill=\"#2874F0\" class=\"eX72wL\" stroke=\"#FFF\" fill-rule=\"evenodd\" opacity=\".9\"></path></svg></div></div></div><div class=\"_3pLy-c row\"><div class=\"col col-7-12\"><div class=\"_2tfzpE\"><span>Sponsored</span></div><div class=\"_4rR01T\">HP AMD Ryzen 5 Hexa Core 5500U - (16 GB/512 GB SSD/Windows 11 Home) 15s- eq2182AU Thin and Light Lapto...</div><div class=\"gUuXy-\"><span id=\"productRating_LSTCOMGFRHGDB9G3Z9C66OVH5_COMGFRHGDB9G3Z9C_\" class=\"_1lRcqv\"><div class=\"_3LWZlK\">4.3<img src=\"data:image/svg+xml;base64,PHN2ZyB4bWxucz0iaHR0cDovL3d3dy53My5vcmcvMjAwMC9zdmciIHdpZHRoPSIxMyIgaGVpZ2h0PSIxMiI+PHBhdGggZmlsbD0iI0ZGRiIgZD0iTTYuNSA5LjQzOWwtMy42NzQgMi4yMy45NC00LjI2LTMuMjEtMi44ODMgNC4yNTQtLjQwNEw2LjUuMTEybDEuNjkgNC4wMSA0LjI1NC40MDQtMy4yMSAyLjg4Mi45NCA0LjI2eiIvPjwvc3ZnPg==\" class=\"_1wB99o\"/></div></span><span class=\"_2_R_DZ\"><span><span>2,332 Ratings\\xa0</span><span class=\"_13vcmD\">&amp;</span><span>\\xa0201 Reviews</span></span></span></div><div class=\"fMghEO\"><ul class=\"_1xgFaf\"><li class=\"rgWa7D\">AMD Ryzen 5 Hexa Core Processor</li><li class=\"rgWa7D\">16 GB DDR4 RAM</li><li class=\"rgWa7D\">64 bit Windows 11 Operating System</li><li class=\"rgWa7D\">512 GB SSD</li><li class=\"rgWa7D\">39.62 cm (15.6 Inch) Display</li><li class=\"rgWa7D\">Microsoft Office 2021 Home &amp; Student, HP Documentation, HP BIOS recovery, HP Smart</li><li class=\"rgWa7D\">1 Year Onsite Warranty</li></ul></div></div><div class=\"col col-5-12 nlI3QM\"><div class=\"_3tbKJL\"><div class=\"_25b18c\"><div class=\"_30jeq3 _1_WHN1\">₹46,900</div><div class=\"_3I9_wc _27UcVY\">₹<!-- -->59,109</div><div class=\"_3Ay6Sb\"><span>20% off</span></div></div></div><div class=\"_13J9qT\"><img height=\"21\" src=\"//static-assets-web.flixcart.com/fk-p-linchpin-web/fk-cp-zion/img/fa_62673a.png\"/></div></div></div></a></div></div></div></div><div class=\"_1AtVbE col-12-12\"><div class=\"_13oc-S\"><div data-id=\"COMG9WH98ZNYXWYH\" style=\"width:100%\"><div class=\"_2kHMtA\"><a class=\"_1fQZEK\" target=\"_blank\" rel=\"noopener noreferrer\" href=\"/asus-vivobook-15-intel-core-i3-11th-gen-1115g4-8-gb-256-gb-ssd-windows-11-home-x515ea-ej312w-thin-light-laptop/p/itm7aa1836156b37?pid=COMG9WH98ZNYXWYH&amp;lid=LSTCOMG9WH98ZNYXWYHARCWA8&amp;marketplace=FLIPKART&amp;q=laptops&amp;store=6bo%2Fb5g&amp;srno=s_1_13&amp;otracker=AS_Query_TrendingAutoSuggest_1_0_na_na_na&amp;otracker1=AS_Query_TrendingAutoSuggest_1_0_na_na_na&amp;fm=organic&amp;iid=fe921b55-41f8-44ed-8e9c-8371a07edc33.COMG9WH98ZNYXWYH.SEARCH&amp;ppt=None&amp;ppn=None&amp;ssid=2uwt7zzlr40000001703133998233&amp;qH=c06ea84a1e3dc3c6\"><div class=\"MIXNux\"><div class=\"_2QcLo-\"><div><div class=\"CXW8mj\" style=\"height:200px;width:200px\"><img loading=\"eager\" class=\"_396cs4\" alt=\"ASUS Vivobook 15 Intel Core i3 11th Gen 1115G4 - (8 GB/256 GB SSD/Windows 11 Home) X515EA-EJ312W Thin ...\" src=\"https://rukminim2.flixcart.com/image/312/312/xif0q/computer/r/e/f/-original-imagrgprbhchwgve.jpeg?q=70\"/></div></div></div><div class=\"_3wLduG\"><div class=\"_3PzNI-\"><span class=\"f3A4_V\"><label class=\"_2iDkf8\"><input type=\"checkbox\" class=\"_30VH1S\" readonly=\"\"/><div class=\"_24_Dny\"></div></label></span><label class=\"_6Up2sF\"><span>Add to Compare</span></label></div></div><div class=\"_2hVSre _3nq8ih\"><div class=\"_36FSn5\"><svg xmlns=\"http://www.w3.org/2000/svg\" class=\"_1l0elc\" width=\"16\" height=\"16\" viewBox=\"0 0 20 16\"><path d=\"M8.695 16.682C4.06 12.382 1 9.536 1 6.065 1 3.219 3.178 1 5.95 1c1.566 0 3.069.746 4.05 1.915C10.981 1.745 12.484 1 14.05 1 16.822 1 19 3.22 19 6.065c0 3.471-3.06 6.316-7.695 10.617L10 17.897l-1.305-1.215z\" fill=\"#2874F0\" class=\"eX72wL\" stroke=\"#FFF\" fill-rule=\"evenodd\" opacity=\".9\"></path></svg></div></div></div><div class=\"_3pLy-c row\"><div class=\"col col-7-12\"><div class=\"_4rR01T\">ASUS Vivobook 15 Intel Core i3 11th Gen 1115G4 - (8 GB/256 GB SSD/Windows 11 Home) X515EA-EJ312W Thin ...</div><div class=\"gUuXy-\"><span id=\"productRating_LSTCOMG9WH98ZNYXWYHARCWA8_COMG9WH98ZNYXWYH_\" class=\"_1lRcqv\"><div class=\"_3LWZlK\">4.3<img src=\"data:image/svg+xml;base64,PHN2ZyB4bWxucz0iaHR0cDovL3d3dy53My5vcmcvMjAwMC9zdmciIHdpZHRoPSIxMyIgaGVpZ2h0PSIxMiI+PHBhdGggZmlsbD0iI0ZGRiIgZD0iTTYuNSA5LjQzOWwtMy42NzQgMi4yMy45NC00LjI2LTMuMjEtMi44ODMgNC4yNTQtLjQwNEw2LjUuMTEybDEuNjkgNC4wMSA0LjI1NC40MDQtMy4yMSAyLjg4Mi45NCA0LjI2eiIvPjwvc3ZnPg==\" class=\"_1wB99o\"/></div></span><span class=\"_2_R_DZ\"><span><span>11,261 Ratings\\xa0</span><span class=\"_13vcmD\">&amp;</span><span>\\xa01,022 Reviews</span></span></span></div><div class=\"fMghEO\"><ul class=\"_1xgFaf\"><li class=\"rgWa7D\">Intel Core i3 Processor (11th Gen)</li><li class=\"rgWa7D\">8 GB DDR4 RAM</li><li class=\"rgWa7D\">64 bit Windows 11 Operating System</li><li class=\"rgWa7D\">256 GB SSD</li><li class=\"rgWa7D\">39.62 cm (15.6 Inch) Display</li><li class=\"rgWa7D\">Not Applicable</li><li class=\"rgWa7D\">1 Year Onsite Warranty</li></ul></div></div><div class=\"col col-5-12 nlI3QM\"><div class=\"_3tbKJL\"><div class=\"_25b18c\"><div class=\"_30jeq3 _1_WHN1\">₹30,990</div><div class=\"_3I9_wc _27UcVY\">₹<!-- -->44,990</div><div class=\"_3Ay6Sb\"><span>31% off</span></div></div></div><div class=\"_13J9qT\"><img height=\"21\" src=\"//static-assets-web.flixcart.com/fk-p-linchpin-web/fk-cp-zion/img/fa_62673a.png\"/></div></div></div></a></div></div></div></div><div class=\"_1AtVbE col-12-12\"><div class=\"_13oc-S\"><div data-id=\"COMGGTT4VFWG3FFM\" style=\"width:100%\"><div class=\"_2kHMtA\"><a class=\"_1fQZEK\" target=\"_blank\" rel=\"noopener noreferrer\" href=\"/hp-intel-core-i3-11th-gen-1115g4-8-gb-512-gb-ssd-windows-11-home-14s-dy2508tu-thin-light-laptop/p/itm42a82790cf5ec?pid=COMGGTT4VFWG3FFM&amp;lid=LSTCOMGGTT4VFWG3FFMB7VNLU&amp;marketplace=FLIPKART&amp;q=laptops&amp;store=6bo%2Fb5g&amp;srno=s_1_14&amp;otracker=AS_Query_TrendingAutoSuggest_1_0_na_na_na&amp;otracker1=AS_Query_TrendingAutoSuggest_1_0_na_na_na&amp;fm=organic&amp;iid=fe921b55-41f8-44ed-8e9c-8371a07edc33.COMGGTT4VFWG3FFM.SEARCH&amp;ppt=None&amp;ppn=None&amp;ssid=2uwt7zzlr40000001703133998233&amp;qH=c06ea84a1e3dc3c6\"><div class=\"MIXNux\"><div class=\"_2QcLo-\"><div><div class=\"CXW8mj\" style=\"height:200px;width:200px\"><img loading=\"eager\" class=\"_396cs4\" alt=\"HP Intel Intel Core i3 11th Gen 1115G4 - (8 GB/512 GB SSD/Windows 11 Home) 14s - dy2508TU Thin and Lig...\" src=\"https://rukminim2.flixcart.com/image/312/312/xif0q/computer/9/e/o/-original-imagwy8damtqdphp.jpeg?q=70\"/></div></div></div><div class=\"_3wLduG\"><div class=\"_3PzNI-\"><span class=\"f3A4_V\"><label class=\"_2iDkf8\"><input type=\"checkbox\" class=\"_30VH1S\" readonly=\"\"/><div class=\"_24_Dny\"></div></label></span><label class=\"_6Up2sF\"><span>Add to Compare</span></label></div></div><div class=\"_2hVSre _3nq8ih\"><div class=\"_36FSn5\"><svg xmlns=\"http://www.w3.org/2000/svg\" class=\"_1l0elc\" width=\"16\" height=\"16\" viewBox=\"0 0 20 16\"><path d=\"M8.695 16.682C4.06 12.382 1 9.536 1 6.065 1 3.219 3.178 1 5.95 1c1.566 0 3.069.746 4.05 1.915C10.981 1.745 12.484 1 14.05 1 16.822 1 19 3.22 19 6.065c0 3.471-3.06 6.316-7.695 10.617L10 17.897l-1.305-1.215z\" fill=\"#2874F0\" class=\"eX72wL\" stroke=\"#FFF\" fill-rule=\"evenodd\" opacity=\".9\"></path></svg></div></div></div><div class=\"_3pLy-c row\"><div class=\"col col-7-12\"><div class=\"_4rR01T\">HP Intel Intel Core i3 11th Gen 1115G4 - (8 GB/512 GB SSD/Windows 11 Home) 14s - dy2508TU Thin and Lig...</div><div class=\"gUuXy-\"><span id=\"productRating_LSTCOMGGTT4VFWG3FFMB7VNLU_COMGGTT4VFWG3FFM_\" class=\"_1lRcqv\"><div class=\"_3LWZlK\">4.3<img src=\"data:image/svg+xml;base64,PHN2ZyB4bWxucz0iaHR0cDovL3d3dy53My5vcmcvMjAwMC9zdmciIHdpZHRoPSIxMyIgaGVpZ2h0PSIxMiI+PHBhdGggZmlsbD0iI0ZGRiIgZD0iTTYuNSA5LjQzOWwtMy42NzQgMi4yMy45NC00LjI2LTMuMjEtMi44ODMgNC4yNTQtLjQwNEw2LjUuMTEybDEuNjkgNC4wMSA0LjI1NC40MDQtMy4yMSAyLjg4Mi45NCA0LjI2eiIvPjwvc3ZnPg==\" class=\"_1wB99o\"/></div></span><span class=\"_2_R_DZ\"><span><span>11,078 Ratings\\xa0</span><span class=\"_13vcmD\">&amp;</span><span>\\xa0875 Reviews</span></span></span></div><div class=\"fMghEO\"><ul class=\"_1xgFaf\"><li class=\"rgWa7D\">Intel Core i3 Processor (11th Gen)</li><li class=\"rgWa7D\">8 GB DDR4 RAM</li><li class=\"rgWa7D\">64 bit Windows 11 Operating System</li><li class=\"rgWa7D\">512 GB SSD</li><li class=\"rgWa7D\">35.56 cm (14 inch) Display</li><li class=\"rgWa7D\">Microsoft Office Home &amp; Student 2021</li><li class=\"rgWa7D\">1 Year Onsite Warranty</li></ul></div></div><div class=\"col col-5-12 nlI3QM\"><div class=\"_3tbKJL\"><div class=\"_25b18c\"><div class=\"_30jeq3 _1_WHN1\">₹34,990</div><div class=\"_3I9_wc _27UcVY\">₹<!-- -->49,509</div><div class=\"_3Ay6Sb\"><span>29% off</span></div></div></div><div class=\"_13J9qT\"><img height=\"21\" src=\"//static-assets-web.flixcart.com/fk-p-linchpin-web/fk-cp-zion/img/fa_62673a.png\"/></div></div></div></a></div></div></div></div><div class=\"_1AtVbE col-12-12\"><div class=\"_13oc-S\"><div data-id=\"COMGSYYSJQ9VGT6C\" style=\"width:100%\"><div class=\"_2kHMtA\"><a class=\"_1fQZEK\" target=\"_blank\" rel=\"noopener noreferrer\" href=\"/lenovo-ideapad-slim-3-intel-core-i3-12th-gen-1215u-8-gb-256-gb-ssd-windows-11-home-15iau7-thin-light-laptop/p/itme37bd041815ce?pid=COMGSYYSJQ9VGT6C&amp;lid=LSTCOMGSYYSJQ9VGT6CK2PDRM&amp;marketplace=FLIPKART&amp;q=laptops&amp;store=6bo%2Fb5g&amp;srno=s_1_15&amp;otracker=AS_Query_TrendingAutoSuggest_1_0_na_na_na&amp;otracker1=AS_Query_TrendingAutoSuggest_1_0_na_na_na&amp;fm=organic&amp;iid=fe921b55-41f8-44ed-8e9c-8371a07edc33.COMGSYYSJQ9VGT6C.SEARCH&amp;ppt=None&amp;ppn=None&amp;ssid=2uwt7zzlr40000001703133998233&amp;qH=c06ea84a1e3dc3c6\"><div class=\"MIXNux\"><div class=\"_2QcLo-\"><div><div class=\"CXW8mj\" style=\"height:200px;width:200px\"><img loading=\"eager\" class=\"_396cs4\" alt=\"Lenovo IdeaPad Slim 3 Intel Core i3 12th Gen 1215U - (8 GB/256 GB SSD/Windows 11 Home) 15IAU7 Thin and...\" src=\"https://rukminim2.flixcart.com/image/312/312/xif0q/computer/0/f/v/-original-imaguyhzwj4tqwqu.jpeg?q=70\"/></div></div></div><div class=\"_3wLduG\"><div class=\"_3PzNI-\"><span class=\"f3A4_V\"><label class=\"_2iDkf8\"><input type=\"checkbox\" class=\"_30VH1S\" readonly=\"\"/><div class=\"_24_Dny\"></div></label></span><label class=\"_6Up2sF\"><span>Add to Compare</span></label></div></div><div class=\"_2hVSre _3nq8ih\"><div class=\"_36FSn5\"><svg xmlns=\"http://www.w3.org/2000/svg\" class=\"_1l0elc\" width=\"16\" height=\"16\" viewBox=\"0 0 20 16\"><path d=\"M8.695 16.682C4.06 12.382 1 9.536 1 6.065 1 3.219 3.178 1 5.95 1c1.566 0 3.069.746 4.05 1.915C10.981 1.745 12.484 1 14.05 1 16.822 1 19 3.22 19 6.065c0 3.471-3.06 6.316-7.695 10.617L10 17.897l-1.305-1.215z\" fill=\"#2874F0\" class=\"eX72wL\" stroke=\"#FFF\" fill-rule=\"evenodd\" opacity=\".9\"></path></svg></div></div></div><div class=\"_3pLy-c row\"><div class=\"col col-7-12\"><div class=\"_4rR01T\">Lenovo IdeaPad Slim 3 Intel Core i3 12th Gen 1215U - (8 GB/256 GB SSD/Windows 11 Home) 15IAU7 Thin and...</div><div class=\"gUuXy-\"><span id=\"productRating_LSTCOMGSYYSJQ9VGT6CK2PDRM_COMGSYYSJQ9VGT6C_\" class=\"_1lRcqv\"><div class=\"_3LWZlK\">4<img src=\"data:image/svg+xml;base64,PHN2ZyB4bWxucz0iaHR0cDovL3d3dy53My5vcmcvMjAwMC9zdmciIHdpZHRoPSIxMyIgaGVpZ2h0PSIxMiI+PHBhdGggZmlsbD0iI0ZGRiIgZD0iTTYuNSA5LjQzOWwtMy42NzQgMi4yMy45NC00LjI2LTMuMjEtMi44ODMgNC4yNTQtLjQwNEw2LjUuMTEybDEuNjkgNC4wMSA0LjI1NC40MDQtMy4yMSAyLjg4Mi45NCA0LjI2eiIvPjwvc3ZnPg==\" class=\"_1wB99o\"/></div></span><span class=\"_2_R_DZ\"><span><span>505 Ratings\\xa0</span><span class=\"_13vcmD\">&amp;</span><span>\\xa046 Reviews</span></span></span></div><div class=\"fMghEO\"><ul class=\"_1xgFaf\"><li class=\"rgWa7D\">Intel Core i3 Processor (12th Gen)</li><li class=\"rgWa7D\">8 GB DDR4 RAM</li><li class=\"rgWa7D\">Windows 11 Operating System</li><li class=\"rgWa7D\">256 GB SSD</li><li class=\"rgWa7D\">39.62 cm (15.6 Inch) Display</li><li class=\"rgWa7D\">1 Year Carry-in Warranty</li></ul></div></div><div class=\"col col-5-12 nlI3QM\"><div class=\"_3tbKJL\"><div class=\"_25b18c\"><div class=\"_30jeq3 _1_WHN1\">₹33,990</div><div class=\"_3I9_wc _27UcVY\">₹<!-- -->47,490</div><div class=\"_3Ay6Sb\"><span>28% off</span></div></div></div><div class=\"_13J9qT\"><img height=\"21\" src=\"//static-assets-web.flixcart.com/fk-p-linchpin-web/fk-cp-zion/img/fa_62673a.png\"/></div></div></div></a></div></div></div></div><div class=\"_1AtVbE col-12-12\"><div class=\"_13oc-S\"><div data-id=\"COMGZVGHZXXRMWMU\" style=\"width:100%\"><div class=\"_2kHMtA\"><a class=\"_1fQZEK\" target=\"_blank\" rel=\"noopener noreferrer\" href=\"/hp-2023-amd-athlon-dual-core-3050u-8-gb-512-gb-ssd-windows-11-home-15s-ey1509au-thin-light-laptop/p/itm930fe4c90a2f8?pid=COMGZVGHZXXRMWMU&amp;lid=LSTCOMGZVGHZXXRMWMUKR6CBK&amp;marketplace=FLIPKART&amp;q=laptops&amp;store=6bo%2Fb5g&amp;srno=s_1_16&amp;otracker=AS_Query_TrendingAutoSuggest_1_0_na_na_na&amp;otracker1=AS_Query_TrendingAutoSuggest_1_0_na_na_na&amp;fm=organic&amp;iid=fe921b55-41f8-44ed-8e9c-8371a07edc33.COMGZVGHZXXRMWMU.SEARCH&amp;ppt=None&amp;ppn=None&amp;ssid=2uwt7zzlr40000001703133998233&amp;qH=c06ea84a1e3dc3c6\"><div class=\"MIXNux\"><div class=\"_2QcLo-\"><div><div class=\"CXW8mj\" style=\"height:200px;width:200px\"><img loading=\"eager\" class=\"_396cs4\" alt=\"HP 2023 AMD Athlon Dual Core 3050U - (8 GB/512 GB SSD/Windows 11 Home) 15s-ey1509AU Thin and Light Lap...\" src=\"https://rukminim2.flixcart.com/image/312/312/xif0q/computer/g/p/5/-original-imagwy8eakeyzavk.jpeg?q=70\"/></div></div></div><div class=\"_3wLduG\"><div class=\"_3PzNI-\"><span class=\"f3A4_V\"><label class=\"_2iDkf8\"><input type=\"checkbox\" class=\"_30VH1S\" readonly=\"\"/><div class=\"_24_Dny\"></div></label></span><label class=\"_6Up2sF\"><span>Add to Compare</span></label></div></div><div class=\"_2hVSre _3nq8ih\"><div class=\"_36FSn5\"><svg xmlns=\"http://www.w3.org/2000/svg\" class=\"_1l0elc\" width=\"16\" height=\"16\" viewBox=\"0 0 20 16\"><path d=\"M8.695 16.682C4.06 12.382 1 9.536 1 6.065 1 3.219 3.178 1 5.95 1c1.566 0 3.069.746 4.05 1.915C10.981 1.745 12.484 1 14.05 1 16.822 1 19 3.22 19 6.065c0 3.471-3.06 6.316-7.695 10.617L10 17.897l-1.305-1.215z\" fill=\"#2874F0\" class=\"eX72wL\" stroke=\"#FFF\" fill-rule=\"evenodd\" opacity=\".9\"></path></svg></div></div></div><div class=\"_3pLy-c row\"><div class=\"col col-7-12\"><div class=\"_4rR01T\">HP 2023 AMD Athlon Dual Core 3050U - (8 GB/512 GB SSD/Windows 11 Home) 15s-ey1509AU Thin and Light Lap...</div><div class=\"gUuXy-\"><span id=\"productRating_LSTCOMGZVGHZXXRMWMUKR6CBK_COMGZVGHZXXRMWMU_\" class=\"_1lRcqv\"><div class=\"_3LWZlK\">4.1<img src=\"data:image/svg+xml;base64,PHN2ZyB4bWxucz0iaHR0cDovL3d3dy53My5vcmcvMjAwMC9zdmciIHdpZHRoPSIxMyIgaGVpZ2h0PSIxMiI+PHBhdGggZmlsbD0iI0ZGRiIgZD0iTTYuNSA5LjQzOWwtMy42NzQgMi4yMy45NC00LjI2LTMuMjEtMi44ODMgNC4yNTQtLjQwNEw2LjUuMTEybDEuNjkgNC4wMSA0LjI1NC40MDQtMy4yMSAyLjg4Mi45NCA0LjI2eiIvPjwvc3ZnPg==\" class=\"_1wB99o\"/></div></span><span class=\"_2_R_DZ\"><span><span>3,306 Ratings\\xa0</span><span class=\"_13vcmD\">&amp;</span><span>\\xa0270 Reviews</span></span></span></div><div class=\"fMghEO\"><ul class=\"_1xgFaf\"><li class=\"rgWa7D\">AMD Athlon Dual Core Processor</li><li class=\"rgWa7D\">8 GB DDR4 RAM</li><li class=\"rgWa7D\">Windows 11 Operating System</li><li class=\"rgWa7D\">512 GB SSD</li><li class=\"rgWa7D\">39.62 cm (15.6 Inch) Display</li><li class=\"rgWa7D\">1 Year Onsite Warranty</li></ul></div></div><div class=\"col col-5-12 nlI3QM\"><div class=\"_3tbKJL\"><div class=\"_25b18c\"><div class=\"_30jeq3 _1_WHN1\">₹29,990</div><div class=\"_3I9_wc _27UcVY\">₹<!-- -->35,147</div><div class=\"_3Ay6Sb\"><span>14% off</span></div></div></div><div class=\"_13J9qT\"><img height=\"21\" src=\"//static-assets-web.flixcart.com/fk-p-linchpin-web/fk-cp-zion/img/fa_62673a.png\"/></div></div></div></a></div></div></div></div><div class=\"_1AtVbE col-12-12\"><div class=\"_13oc-S\"><div data-id=\"COMGZNSBPEEYN9GN\" style=\"width:100%\"><div class=\"_2kHMtA\"><a class=\"_1fQZEK\" target=\"_blank\" rel=\"noopener noreferrer\" href=\"/hp-victus-intel-core-i5-11th-gen-11400h-16-gb-512-gb-ssd-windows-11-home-4-graphics-nvidia-geforce-gtx-1650-16-d0333tx-gaming-laptop/p/itm1837f17fa9b9c?pid=COMGZNSBPEEYN9GN&amp;lid=LSTCOMGZNSBPEEYN9GN7J6WR3&amp;marketplace=FLIPKART&amp;q=laptops&amp;store=6bo%2Fb5g&amp;srno=s_1_17&amp;otracker=AS_Query_TrendingAutoSuggest_1_0_na_na_na&amp;otracker1=AS_Query_TrendingAutoSuggest_1_0_na_na_na&amp;fm=organic&amp;iid=en_sJhQxgM-0drNLCqFJmCNL8WCzM2Lo-qrfD2mYVlw8I9gyVGwKbXfyrGsisUMGPWxDjbg-cqk4rAxwZVTBVwPeA%3D%3D&amp;ppt=None&amp;ppn=None&amp;ssid=2uwt7zzlr40000001703133998233&amp;qH=c06ea84a1e3dc3c6\"><div class=\"MIXNux\"><div class=\"_2QcLo-\"><div><div class=\"CXW8mj\" style=\"height:200px;width:200px\"><img loading=\"eager\" class=\"_396cs4\" alt=\"HP Victus Intel Core i5 11th Gen 11400H - (16 GB/512 GB SSD/Windows 11 Home/4 GB Graphics/NVIDIA GeFor...\" src=\"https://rukminim2.flixcart.com/image/312/312/xif0q/computer/l/l/g/-original-imagud82ezzfxhe8.jpeg?q=70\"/></div></div></div><div class=\"_3wLduG\"><div class=\"_3PzNI-\"><span class=\"f3A4_V\"><label class=\"_2iDkf8\"><input type=\"checkbox\" class=\"_30VH1S\" readonly=\"\"/><div class=\"_24_Dny\"></div></label></span><label class=\"_6Up2sF\"><span>Add to Compare</span></label></div></div><div class=\"_2hVSre _3nq8ih\"><div class=\"_36FSn5\"><svg xmlns=\"http://www.w3.org/2000/svg\" class=\"_1l0elc\" width=\"16\" height=\"16\" viewBox=\"0 0 20 16\"><path d=\"M8.695 16.682C4.06 12.382 1 9.536 1 6.065 1 3.219 3.178 1 5.95 1c1.566 0 3.069.746 4.05 1.915C10.981 1.745 12.484 1 14.05 1 16.822 1 19 3.22 19 6.065c0 3.471-3.06 6.316-7.695 10.617L10 17.897l-1.305-1.215z\" fill=\"#2874F0\" class=\"eX72wL\" stroke=\"#FFF\" fill-rule=\"evenodd\" opacity=\".9\"></path></svg></div></div></div><div class=\"_3pLy-c row\"><div class=\"col col-7-12\"><div class=\"_2tfzpE\"><span>Sponsored</span></div><div class=\"_4rR01T\">HP Victus Intel Core i5 11th Gen 11400H - (16 GB/512 GB SSD/Windows 11 Home/4 GB Graphics/NVIDIA GeFor...</div><div class=\"gUuXy-\"><span id=\"productRating_LSTCOMGZNSBPEEYN9GN7J6WR3_COMGZNSBPEEYN9GN_\" class=\"_1lRcqv\"><div class=\"_3LWZlK\">4.2<img src=\"data:image/svg+xml;base64,PHN2ZyB4bWxucz0iaHR0cDovL3d3dy53My5vcmcvMjAwMC9zdmciIHdpZHRoPSIxMyIgaGVpZ2h0PSIxMiI+PHBhdGggZmlsbD0iI0ZGRiIgZD0iTTYuNSA5LjQzOWwtMy42NzQgMi4yMy45NC00LjI2LTMuMjEtMi44ODMgNC4yNTQtLjQwNEw2LjUuMTEybDEuNjkgNC4wMSA0LjI1NC40MDQtMy4yMSAyLjg4Mi45NCA0LjI2eiIvPjwvc3ZnPg==\" class=\"_1wB99o\"/></div></span><span class=\"_2_R_DZ\"><span><span>51 Ratings\\xa0</span><span class=\"_13vcmD\">&amp;</span><span>\\xa04 Reviews</span></span></span></div><div class=\"fMghEO\"><ul class=\"_1xgFaf\"><li class=\"rgWa7D\">Intel Core i5 Processor (11th Gen)</li><li class=\"rgWa7D\">16 GB DDR4 RAM</li><li class=\"rgWa7D\">64 bit Windows 11 Operating System</li><li class=\"rgWa7D\">512 GB SSD</li><li class=\"rgWa7D\">40.89 cm (16.1 Inch) Display</li><li class=\"rgWa7D\">1 Year Onsite Warranty</li></ul></div></div><div class=\"col col-5-12 nlI3QM\"><div class=\"_3tbKJL\"><div class=\"_25b18c\"><div class=\"_30jeq3 _1_WHN1\">₹63,300</div><div class=\"_3I9_wc _27UcVY\">₹<!-- -->68,999</div><div class=\"_3Ay6Sb\"><span>8% off</span></div></div></div><div class=\"_13J9qT\"><img height=\"21\" src=\"//static-assets-web.flixcart.com/fk-p-linchpin-web/fk-cp-zion/img/fa_62673a.png\"/></div></div></div></a></div></div></div></div><div class=\"_1AtVbE col-12-12\"><div class=\"_13oc-S\"><div data-id=\"COMGZYRYCB3JVMJS\" style=\"width:100%\"><div class=\"_2kHMtA\"><a class=\"_1fQZEK\" target=\"_blank\" rel=\"noopener noreferrer\" href=\"/hp-2023-amd-ryzen-3-dual-core-3250u-8-gb-512-gb-ssd-windows-11-home-15s-eq1580au-thin-light-laptop/p/itm286c2761c52f0?pid=COMGZYRYCB3JVMJS&amp;lid=LSTCOMGZYRYCB3JVMJSLOJRY5&amp;marketplace=FLIPKART&amp;q=laptops&amp;store=6bo%2Fb5g&amp;srno=s_1_18&amp;otracker=AS_Query_TrendingAutoSuggest_1_0_na_na_na&amp;otracker1=AS_Query_TrendingAutoSuggest_1_0_na_na_na&amp;fm=organic&amp;iid=en_sJhQxgM-0drNLCqFJmCNL8WCzM2Lo-qrfD2mYVlw8I-sXtl7c8w1eSqNi7g9mNgEXrkqVxqy6p9d8s3Dbi9HOQ%3D%3D&amp;ppt=None&amp;ppn=None&amp;ssid=2uwt7zzlr40000001703133998233&amp;qH=c06ea84a1e3dc3c6\"><div class=\"MIXNux\"><div class=\"_2QcLo-\"><div><div class=\"CXW8mj\" style=\"height:200px;width:200px\"><img loading=\"eager\" class=\"_396cs4\" alt=\"HP 2023 AMD Ryzen 3 Dual Core 3250U - (8 GB/512 GB SSD/Windows 11 Home) 15s- eq1580AU Thin and Light L...\" src=\"https://rukminim2.flixcart.com/image/312/312/xif0q/computer/m/1/n/-original-imagwy8dn6bcncfe.jpeg?q=70\"/></div></div></div><div class=\"_3wLduG\"><div class=\"_3PzNI-\"><span class=\"f3A4_V\"><label class=\"_2iDkf8\"><input type=\"checkbox\" class=\"_30VH1S\" readonly=\"\"/><div class=\"_24_Dny\"></div></label></span><label class=\"_6Up2sF\"><span>Add to Compare</span></label></div></div><div class=\"_2hVSre _3nq8ih\"><div class=\"_36FSn5\"><svg xmlns=\"http://www.w3.org/2000/svg\" class=\"_1l0elc\" width=\"16\" height=\"16\" viewBox=\"0 0 20 16\"><path d=\"M8.695 16.682C4.06 12.382 1 9.536 1 6.065 1 3.219 3.178 1 5.95 1c1.566 0 3.069.746 4.05 1.915C10.981 1.745 12.484 1 14.05 1 16.822 1 19 3.22 19 6.065c0 3.471-3.06 6.316-7.695 10.617L10 17.897l-1.305-1.215z\" fill=\"#2874F0\" class=\"eX72wL\" stroke=\"#FFF\" fill-rule=\"evenodd\" opacity=\".9\"></path></svg></div></div></div><div class=\"_3pLy-c row\"><div class=\"col col-7-12\"><div class=\"_2tfzpE\"><span>Sponsored</span></div><div class=\"_4rR01T\">HP 2023 AMD Ryzen 3 Dual Core 3250U - (8 GB/512 GB SSD/Windows 11 Home) 15s- eq1580AU Thin and Light L...</div><div class=\"gUuXy-\"><span id=\"productRating_LSTCOMGZYRYCB3JVMJSLOJRY5_COMGZYRYCB3JVMJS_\" class=\"_1lRcqv\"><div class=\"_3LWZlK\">4.2<img src=\"data:image/svg+xml;base64,PHN2ZyB4bWxucz0iaHR0cDovL3d3dy53My5vcmcvMjAwMC9zdmciIHdpZHRoPSIxMyIgaGVpZ2h0PSIxMiI+PHBhdGggZmlsbD0iI0ZGRiIgZD0iTTYuNSA5LjQzOWwtMy42NzQgMi4yMy45NC00LjI2LTMuMjEtMi44ODMgNC4yNTQtLjQwNEw2LjUuMTEybDEuNjkgNC4wMSA0LjI1NC40MDQtMy4yMSAyLjg4Mi45NCA0LjI2eiIvPjwvc3ZnPg==\" class=\"_1wB99o\"/></div></span><span class=\"_2_R_DZ\"><span><span>3,553 Ratings\\xa0</span><span class=\"_13vcmD\">&amp;</span><span>\\xa0315 Reviews</span></span></span></div><div class=\"fMghEO\"><ul class=\"_1xgFaf\"><li class=\"rgWa7D\">AMD Ryzen 3 Dual Core Processor</li><li class=\"rgWa7D\">8 GB DDR4 RAM</li><li class=\"rgWa7D\">Windows 11 Operating System</li><li class=\"rgWa7D\">512 GB SSD</li><li class=\"rgWa7D\">39.62 cm (15.6 Inch) Display</li><li class=\"rgWa7D\">1 Year Onsite Warranty</li></ul></div></div><div class=\"col col-5-12 nlI3QM\"><div class=\"_3tbKJL\"><div class=\"_25b18c\"><div class=\"_30jeq3 _1_WHN1\">₹33,490</div><div class=\"_3I9_wc _27UcVY\">₹<!-- -->39,995</div><div class=\"_3Ay6Sb\"><span>16% off</span></div></div></div><div class=\"_13J9qT\"><img height=\"21\" src=\"//static-assets-web.flixcart.com/fk-p-linchpin-web/fk-cp-zion/img/fa_62673a.png\"/></div></div></div></a></div></div></div></div><div class=\"_1AtVbE col-12-12\"><div class=\"_13oc-S\"><div data-id=\"COMGTVXCHXKNHYY2\" style=\"width:100%\"><div class=\"_2kHMtA\"><a class=\"_1fQZEK\" target=\"_blank\" rel=\"noopener noreferrer\" href=\"/lenovo-intel-core-i7-12th-gen-1255u-16-gb-512-gb-ssd-windows-11-home-v15-g3-iap-thin-light-laptop/p/itm930d2b10f8362?pid=COMGTVXCHXKNHYY2&amp;lid=LSTCOMGTVXCHXKNHYY2MXPCVF&amp;marketplace=FLIPKART&amp;q=laptops&amp;store=6bo%2Fb5g&amp;srno=s_1_19&amp;otracker=AS_Query_TrendingAutoSuggest_1_0_na_na_na&amp;otracker1=AS_Query_TrendingAutoSuggest_1_0_na_na_na&amp;fm=organic&amp;iid=fe921b55-41f8-44ed-8e9c-8371a07edc33.COMGTVXCHXKNHYY2.SEARCH&amp;ppt=None&amp;ppn=None&amp;ssid=2uwt7zzlr40000001703133998233&amp;qH=c06ea84a1e3dc3c6\"><div class=\"MIXNux\"><div class=\"_2QcLo-\"><div><div class=\"CXW8mj\" style=\"height:200px;width:200px\"><img loading=\"eager\" class=\"_396cs4\" alt=\"Lenovo Intel Core i7 12th Gen 1255U - (16 GB/512 GB SSD/Windows 11 Home) V15 G3 IAP Thin and Light Lap...\" src=\"https://rukminim2.flixcart.com/image/312/312/xif0q/computer/d/t/c/v15-g2-alc-laptop-lenovo-original-imaghq2ffspmtfuh.jpeg?q=70\"/></div></div></div><div class=\"_3wLduG\"><div class=\"_3PzNI-\"><span class=\"f3A4_V\"><label class=\"_2iDkf8\"><input type=\"checkbox\" class=\"_30VH1S\" readonly=\"\"/><div class=\"_24_Dny\"></div></label></span><label class=\"_6Up2sF\"><span>Add to Compare</span></label></div></div><div class=\"_2hVSre _3nq8ih\"><div class=\"_36FSn5\"><svg xmlns=\"http://www.w3.org/2000/svg\" class=\"_1l0elc\" width=\"16\" height=\"16\" viewBox=\"0 0 20 16\"><path d=\"M8.695 16.682C4.06 12.382 1 9.536 1 6.065 1 3.219 3.178 1 5.95 1c1.566 0 3.069.746 4.05 1.915C10.981 1.745 12.484 1 14.05 1 16.822 1 19 3.22 19 6.065c0 3.471-3.06 6.316-7.695 10.617L10 17.897l-1.305-1.215z\" fill=\"#2874F0\" class=\"eX72wL\" stroke=\"#FFF\" fill-rule=\"evenodd\" opacity=\".9\"></path></svg></div></div></div><div class=\"_3pLy-c row\"><div class=\"col col-7-12\"><div class=\"_4rR01T\">Lenovo Intel Core i7 12th Gen 1255U - (16 GB/512 GB SSD/Windows 11 Home) V15 G3 IAP Thin and Light Lap...</div><div class=\"gUuXy-\"><span id=\"productRating_LSTCOMGTVXCHXKNHYY2MXPCVF_COMGTVXCHXKNHYY2_\" class=\"_1lRcqv\"><div class=\"_3LWZlK\">4<img src=\"data:image/svg+xml;base64,PHN2ZyB4bWxucz0iaHR0cDovL3d3dy53My5vcmcvMjAwMC9zdmciIHdpZHRoPSIxMyIgaGVpZ2h0PSIxMiI+PHBhdGggZmlsbD0iI0ZGRiIgZD0iTTYuNSA5LjQzOWwtMy42NzQgMi4yMy45NC00LjI2LTMuMjEtMi44ODMgNC4yNTQtLjQwNEw2LjUuMTEybDEuNjkgNC4wMSA0LjI1NC40MDQtMy4yMSAyLjg4Mi45NCA0LjI2eiIvPjwvc3ZnPg==\" class=\"_1wB99o\"/></div></span><span class=\"_2_R_DZ\"><span><span>637 Ratings\\xa0</span><span class=\"_13vcmD\">&amp;</span><span>\\xa056 Reviews</span></span></span></div><div class=\"fMghEO\"><ul class=\"_1xgFaf\"><li class=\"rgWa7D\">Intel Core i7 Processor (12th Gen)</li><li class=\"rgWa7D\">16 GB DDR4 RAM</li><li class=\"rgWa7D\">Windows 11 Operating System</li><li class=\"rgWa7D\">512 GB SSD</li><li class=\"rgWa7D\">39.62 cm (15.6 Inch) Display</li><li class=\"rgWa7D\">1 Year Onsite Warranty</li></ul></div></div><div class=\"col col-5-12 nlI3QM\"><div class=\"_3tbKJL\"><div class=\"_25b18c\"><div class=\"_30jeq3 _1_WHN1\">₹49,990</div><div class=\"_3I9_wc _27UcVY\">₹<!-- -->90,000</div><div class=\"_3Ay6Sb\"><span>44% off</span></div></div></div><div class=\"_13J9qT\"><img height=\"21\" src=\"//static-assets-web.flixcart.com/fk-p-linchpin-web/fk-cp-zion/img/fa_62673a.png\"/></div></div></div></a></div></div></div></div><div class=\"_1AtVbE col-12-12\"><div class=\"_13oc-S\"><div data-id=\"COMGJ75HCCFJS8AE\" style=\"width:100%\"><div class=\"_2kHMtA\"><a class=\"_1fQZEK\" target=\"_blank\" rel=\"noopener noreferrer\" href=\"/dell-intel-core-i3-12th-gen-1215u-8-gb-512-gb-ssd-windows-11-home-new-inspiron-15-laptop-thin-light/p/itm06ea674a3bd5b?pid=COMGJ75HCCFJS8AE&amp;lid=LSTCOMGJ75HCCFJS8AELVN77K&amp;marketplace=FLIPKART&amp;q=laptops&amp;store=6bo%2Fb5g&amp;srno=s_1_20&amp;otracker=AS_Query_TrendingAutoSuggest_1_0_na_na_na&amp;otracker1=AS_Query_TrendingAutoSuggest_1_0_na_na_na&amp;fm=organic&amp;iid=fe921b55-41f8-44ed-8e9c-8371a07edc33.COMGJ75HCCFJS8AE.SEARCH&amp;ppt=None&amp;ppn=None&amp;ssid=2uwt7zzlr40000001703133998233&amp;qH=c06ea84a1e3dc3c6\"><div class=\"MIXNux\"><div class=\"_2QcLo-\"><div><div class=\"CXW8mj\" style=\"height:200px;width:200px\"><img loading=\"eager\" class=\"_396cs4\" alt=\"DELL Intel Core i3 12th Gen 1215U - (8 GB/512 GB SSD/Windows 11 Home) New Inspiron 15 Laptop Thin and ...\" src=\"https://rukminim2.flixcart.com/image/312/312/xif0q/computer/n/o/s/-original-imaghzah9mjvukjz.jpeg?q=70\"/></div></div></div><div class=\"_3wLduG\"><div class=\"_3PzNI-\"><span class=\"f3A4_V\"><label class=\"_2iDkf8\"><input type=\"checkbox\" class=\"_30VH1S\" readonly=\"\"/><div class=\"_24_Dny\"></div></label></span><label class=\"_6Up2sF\"><span>Add to Compare</span></label></div></div><div class=\"_2hVSre _3nq8ih\"><div class=\"_36FSn5\"><svg xmlns=\"http://www.w3.org/2000/svg\" class=\"_1l0elc\" width=\"16\" height=\"16\" viewBox=\"0 0 20 16\"><path d=\"M8.695 16.682C4.06 12.382 1 9.536 1 6.065 1 3.219 3.178 1 5.95 1c1.566 0 3.069.746 4.05 1.915C10.981 1.745 12.484 1 14.05 1 16.822 1 19 3.22 19 6.065c0 3.471-3.06 6.316-7.695 10.617L10 17.897l-1.305-1.215z\" fill=\"#2874F0\" class=\"eX72wL\" stroke=\"#FFF\" fill-rule=\"evenodd\" opacity=\".9\"></path></svg></div></div></div><div class=\"_3pLy-c row\"><div class=\"col col-7-12\"><div class=\"_4rR01T\">DELL Intel Core i3 12th Gen 1215U - (8 GB/512 GB SSD/Windows 11 Home) New Inspiron 15 Laptop Thin and ...</div><div class=\"gUuXy-\"><span id=\"productRating_LSTCOMGJ75HCCFJS8AELVN77K_COMGJ75HCCFJS8AE_\" class=\"_1lRcqv\"><div class=\"_3LWZlK\">4.2<img src=\"data:image/svg+xml;base64,PHN2ZyB4bWxucz0iaHR0cDovL3d3dy53My5vcmcvMjAwMC9zdmciIHdpZHRoPSIxMyIgaGVpZ2h0PSIxMiI+PHBhdGggZmlsbD0iI0ZGRiIgZD0iTTYuNSA5LjQzOWwtMy42NzQgMi4yMy45NC00LjI2LTMuMjEtMi44ODMgNC4yNTQtLjQwNEw2LjUuMTEybDEuNjkgNC4wMSA0LjI1NC40MDQtMy4yMSAyLjg4Mi45NCA0LjI2eiIvPjwvc3ZnPg==\" class=\"_1wB99o\"/></div></span><span class=\"_2_R_DZ\"><span><span>830 Ratings\\xa0</span><span class=\"_13vcmD\">&amp;</span><span>\\xa098 Reviews</span></span></span></div><div class=\"fMghEO\"><ul class=\"_1xgFaf\"><li class=\"rgWa7D\">Processor: Intel i3-1215U (Base- 0.9 GHz &amp; Turbo up to 4.40 GHz) 6 Cores</li><li class=\"rgWa7D\">RAM &amp; Storage: 8GB DDR4 &amp; 512GB SSD</li><li class=\"rgWa7D\">Graphics &amp; Keyboard: Integrated &amp; Standard Keyboard</li><li class=\"rgWa7D\">Display: 15.6&quot; FHD WVA AG 120Hz 250 nits Narrow Border</li><li class=\"rgWa7D\">Intel Core i3 Processor (12th Gen)</li><li class=\"rgWa7D\">8 GB DDR4 RAM</li><li class=\"rgWa7D\">64 bit Windows 11 Operating System</li><li class=\"rgWa7D\">512 GB SSD</li><li class=\"rgWa7D\">96.52 cm (38 cm) Display</li><li class=\"rgWa7D\">1 Year Onsite Hardware Service</li></ul></div></div><div class=\"col col-5-12 nlI3QM\"><div class=\"_3tbKJL\"><div class=\"_25b18c\"><div class=\"_30jeq3 _1_WHN1\">₹36,990</div><div class=\"_3I9_wc _27UcVY\">₹<!-- -->61,431</div><div class=\"_3Ay6Sb\"><span>39% off</span></div></div></div><div class=\"_13J9qT\"><img height=\"21\" src=\"//static-assets-web.flixcart.com/fk-p-linchpin-web/fk-cp-zion/img/fa_62673a.png\"/></div></div></div></a></div></div></div></div><div class=\"_1AtVbE col-12-12\"><div class=\"_13oc-S\"><div data-id=\"COMGQHYFJQYHZTDY\" style=\"width:100%\"><div class=\"_2kHMtA\"><a class=\"_1fQZEK\" target=\"_blank\" rel=\"noopener noreferrer\" href=\"/wings-nuvobook-v1-aluminium-alloy-metal-body-intel-core-i5-11th-gen-1155g7-8-gb-512-gb-ssd-windows-11-home-wl-nuvobook-v1-slv-thin-light-laptop/p/itmb370dd3bfdb75?pid=COMGQHYFJQYHZTDY&amp;lid=LSTCOMGQHYFJQYHZTDYMPBY5P&amp;marketplace=FLIPKART&amp;q=laptops&amp;store=6bo%2Fb5g&amp;srno=s_1_21&amp;otracker=AS_Query_TrendingAutoSuggest_1_0_na_na_na&amp;otracker1=AS_Query_TrendingAutoSuggest_1_0_na_na_na&amp;fm=organic&amp;iid=en_sJhQxgM-0drNLCqFJmCNL8WCzM2Lo-qrfD2mYVlw8I9VgO0fvwhLv8X2xiZk7dcZyxZLENhhd3DnntGdCztOjw%3D%3D&amp;ppt=None&amp;ppn=None&amp;ssid=2uwt7zzlr40000001703133998233&amp;qH=c06ea84a1e3dc3c6\"><div class=\"MIXNux\"><div class=\"_2QcLo-\"><div><div class=\"CXW8mj\" style=\"height:200px;width:200px\"><img loading=\"eager\" class=\"_396cs4\" alt=\"WINGS Nuvobook V1 Aluminium Alloy Metal Body Intel Intel Core i5 11th Gen 1155G7 - (8 GB/512 GB SSD/Wi...\" src=\"https://rukminim2.flixcart.com/image/312/312/xif0q/computer/l/s/n/-original-imagtq3xfpnyqw4v.jpeg?q=70\"/></div></div></div><div class=\"_3wLduG\"><div class=\"_3PzNI-\"><span class=\"f3A4_V\"><label class=\"_2iDkf8\"><input type=\"checkbox\" class=\"_30VH1S\" readonly=\"\"/><div class=\"_24_Dny\"></div></label></span><label class=\"_6Up2sF\"><span>Add to Compare</span></label></div></div><div class=\"_2hVSre _3nq8ih\"><div class=\"_36FSn5\"><svg xmlns=\"http://www.w3.org/2000/svg\" class=\"_1l0elc\" width=\"16\" height=\"16\" viewBox=\"0 0 20 16\"><path d=\"M8.695 16.682C4.06 12.382 1 9.536 1 6.065 1 3.219 3.178 1 5.95 1c1.566 0 3.069.746 4.05 1.915C10.981 1.745 12.484 1 14.05 1 16.822 1 19 3.22 19 6.065c0 3.471-3.06 6.316-7.695 10.617L10 17.897l-1.305-1.215z\" fill=\"#2874F0\" class=\"eX72wL\" stroke=\"#FFF\" fill-rule=\"evenodd\" opacity=\".9\"></path></svg></div></div></div><div class=\"_3pLy-c row\"><div class=\"col col-7-12\"><div class=\"_2tfzpE\"><span>Sponsored</span></div><div class=\"_4rR01T\">WINGS Nuvobook V1 Aluminium Alloy Metal Body Intel Intel Core i5 11th Gen 1155G7 - (8 GB/512 GB SSD/Wi...</div><div class=\"gUuXy-\"><span id=\"productRating_LSTCOMGQHYFJQYHZTDYMPBY5P_COMGQHYFJQYHZTDY_\" class=\"_1lRcqv\"><div class=\"_3LWZlK\">4.2<img src=\"data:image/svg+xml;base64,PHN2ZyB4bWxucz0iaHR0cDovL3d3dy53My5vcmcvMjAwMC9zdmciIHdpZHRoPSIxMyIgaGVpZ2h0PSIxMiI+PHBhdGggZmlsbD0iI0ZGRiIgZD0iTTYuNSA5LjQzOWwtMy42NzQgMi4yMy45NC00LjI2LTMuMjEtMi44ODMgNC4yNTQtLjQwNEw2LjUuMTEybDEuNjkgNC4wMSA0LjI1NC40MDQtMy4yMSAyLjg4Mi45NCA0LjI2eiIvPjwvc3ZnPg==\" class=\"_1wB99o\"/></div></span><span class=\"_2_R_DZ\"><span><span>736 Ratings\\xa0</span><span class=\"_13vcmD\">&amp;</span><span>\\xa0150 Reviews</span></span></span></div><div class=\"fMghEO\"><ul class=\"_1xgFaf\"><li class=\"rgWa7D\">Intel Core i5 Processor (11th Gen)</li><li class=\"rgWa7D\">8 GB DDR4 RAM</li><li class=\"rgWa7D\">Windows 11 Operating System</li><li class=\"rgWa7D\">512 GB SSD</li><li class=\"rgWa7D\">39.62 cm (15.6 Inch) Display</li><li class=\"rgWa7D\">1 Year Onsite Warranty</li></ul></div></div><div class=\"col col-5-12 nlI3QM\"><div class=\"_3tbKJL\"><div class=\"_25b18c\"><div class=\"_30jeq3 _1_WHN1\">₹27,990</div><div class=\"_3I9_wc _27UcVY\">₹<!-- -->59,999</div><div class=\"_3Ay6Sb\"><span>53% off</span></div></div></div></div></div></a></div></div></div></div><div class=\"_1AtVbE col-12-12\"><div class=\"_13oc-S\"><div data-id=\"COMGKW2NSU4SPZSG\" style=\"width:100%\"><div class=\"_2kHMtA\"><a class=\"_1fQZEK\" target=\"_blank\" rel=\"noopener noreferrer\" href=\"/hp-intel-core-i3-12th-gen-1215u-8-gb-512-gb-ssd-windows-11-home-15s-fq5007tu-thin-light-laptop/p/itmd2ff5362367f2?pid=COMGKW2NSU4SPZSG&amp;lid=LSTCOMGKW2NSU4SPZSGEOIPKZ&amp;marketplace=FLIPKART&amp;q=laptops&amp;store=6bo%2Fb5g&amp;srno=s_1_22&amp;otracker=AS_Query_TrendingAutoSuggest_1_0_na_na_na&amp;otracker1=AS_Query_TrendingAutoSuggest_1_0_na_na_na&amp;fm=organic&amp;iid=en_sJhQxgM-0drNLCqFJmCNL8WCzM2Lo-qrfD2mYVlw8I9WFLTpGBnv0zY28-tssPJSSh5w-H12vgS7LFzU6XY4MA%3D%3D&amp;ppt=None&amp;ppn=None&amp;ssid=2uwt7zzlr40000001703133998233&amp;qH=c06ea84a1e3dc3c6\"><div class=\"MIXNux\"><div class=\"_2QcLo-\"><div><div class=\"CXW8mj\" style=\"height:200px;width:200px\"><img loading=\"eager\" class=\"_396cs4\" alt=\"HP Intel Intel Core i3 12th Gen 1215U - (8 GB/512 GB SSD/Windows 11 Home) 15s-fq5007TU Thin and Light ...\" src=\"https://rukminim2.flixcart.com/image/312/312/xif0q/computer/6/s/8/-original-imagwy8djrdmp9ar.jpeg?q=70\"/></div></div></div><div class=\"_3wLduG\"><div class=\"_3PzNI-\"><span class=\"f3A4_V\"><label class=\"_2iDkf8\"><input type=\"checkbox\" class=\"_30VH1S\" readonly=\"\"/><div class=\"_24_Dny\"></div></label></span><label class=\"_6Up2sF\"><span>Add to Compare</span></label></div></div><div class=\"_2hVSre _3nq8ih\"><div class=\"_36FSn5\"><svg xmlns=\"http://www.w3.org/2000/svg\" class=\"_1l0elc\" width=\"16\" height=\"16\" viewBox=\"0 0 20 16\"><path d=\"M8.695 16.682C4.06 12.382 1 9.536 1 6.065 1 3.219 3.178 1 5.95 1c1.566 0 3.069.746 4.05 1.915C10.981 1.745 12.484 1 14.05 1 16.822 1 19 3.22 19 6.065c0 3.471-3.06 6.316-7.695 10.617L10 17.897l-1.305-1.215z\" fill=\"#2874F0\" class=\"eX72wL\" stroke=\"#FFF\" fill-rule=\"evenodd\" opacity=\".9\"></path></svg></div></div></div><div class=\"_3pLy-c row\"><div class=\"col col-7-12\"><div class=\"_2tfzpE\"><span>Sponsored</span></div><div class=\"_4rR01T\">HP Intel Intel Core i3 12th Gen 1215U - (8 GB/512 GB SSD/Windows 11 Home) 15s-fq5007TU Thin and Light ...</div><div class=\"gUuXy-\"><span id=\"productRating_LSTCOMGKW2NSU4SPZSGEOIPKZ_COMGKW2NSU4SPZSG_\" class=\"_1lRcqv\"><div class=\"_3LWZlK\">4.2<img src=\"data:image/svg+xml;base64,PHN2ZyB4bWxucz0iaHR0cDovL3d3dy53My5vcmcvMjAwMC9zdmciIHdpZHRoPSIxMyIgaGVpZ2h0PSIxMiI+PHBhdGggZmlsbD0iI0ZGRiIgZD0iTTYuNSA5LjQzOWwtMy42NzQgMi4yMy45NC00LjI2LTMuMjEtMi44ODMgNC4yNTQtLjQwNEw2LjUuMTEybDEuNjkgNC4wMSA0LjI1NC40MDQtMy4yMSAyLjg4Mi45NCA0LjI2eiIvPjwvc3ZnPg==\" class=\"_1wB99o\"/></div></span><span class=\"_2_R_DZ\"><span><span>2,545 Ratings\\xa0</span><span class=\"_13vcmD\">&amp;</span><span>\\xa0281 Reviews</span></span></span></div><div class=\"fMghEO\"><ul class=\"_1xgFaf\"><li class=\"rgWa7D\">Intel Core i3 Processor (12th Gen)</li><li class=\"rgWa7D\">8 GB DDR4 RAM</li><li class=\"rgWa7D\">64 bit Windows 11 Operating System</li><li class=\"rgWa7D\">512 GB SSD</li><li class=\"rgWa7D\">39.62 cm (15.6 Inch) Display</li><li class=\"rgWa7D\">Microsoft Office Home &amp; Student 2021</li><li class=\"rgWa7D\">1 Year Onsite Warranty</li></ul></div></div><div class=\"col col-5-12 nlI3QM\"><div class=\"_3tbKJL\"><div class=\"_25b18c\"><div class=\"_30jeq3 _1_WHN1\">₹41,990</div><div class=\"_3I9_wc _27UcVY\">₹<!-- -->56,261</div><div class=\"_3Ay6Sb\"><span>25% off</span></div></div></div><div class=\"_13J9qT\"><img height=\"21\" src=\"//static-assets-web.flixcart.com/fk-p-linchpin-web/fk-cp-zion/img/fa_62673a.png\"/></div></div></div></a></div></div></div></div><div class=\"_1AtVbE col-12-12\"><div class=\"_13oc-S\"><div data-id=\"COMGQHRQZSPVRDZE\" style=\"width:100%\"><div class=\"_2kHMtA\"><a class=\"_1fQZEK\" target=\"_blank\" rel=\"noopener noreferrer\" href=\"/chuwi-intel-core-i3-10th-gen-1005g1-8-gb-512-gb-ssd-windows-11-home-corebook-x-grey-laptop/p/itm60983f1093f2d?pid=COMGQHRQZSPVRDZE&amp;lid=LSTCOMGQHRQZSPVRDZEQTPAAX&amp;marketplace=FLIPKART&amp;q=laptops&amp;store=6bo%2Fb5g&amp;srno=s_1_23&amp;otracker=AS_Query_TrendingAutoSuggest_1_0_na_na_na&amp;otracker1=AS_Query_TrendingAutoSuggest_1_0_na_na_na&amp;fm=organic&amp;iid=fe921b55-41f8-44ed-8e9c-8371a07edc33.COMGQHRQZSPVRDZE.SEARCH&amp;ppt=None&amp;ppn=None&amp;ssid=2uwt7zzlr40000001703133998233&amp;qH=c06ea84a1e3dc3c6\"><div class=\"MIXNux\"><div class=\"_2QcLo-\"><div><div class=\"CXW8mj\" style=\"height:200px;width:200px\"><img loading=\"eager\" class=\"_396cs4\" alt=\"CHUWI Intel Core i3 10th Gen 1005G1 - (8 GB/512 GB SSD/Windows 11 Home) CoreBook X Grey Laptop\" src=\"https://rukminim2.flixcart.com/image/312/312/xif0q/computer/7/s/3/-original-imagr93z7hudmgwf.jpeg?q=70\"/></div></div></div><div class=\"_3wLduG\"><div class=\"_3PzNI-\"><span class=\"f3A4_V\"><label class=\"_2iDkf8\"><input type=\"checkbox\" class=\"_30VH1S\" readonly=\"\"/><div class=\"_24_Dny\"></div></label></span><label class=\"_6Up2sF\"><span>Add to Compare</span></label></div></div><div class=\"_2hVSre _3nq8ih\"><div class=\"_36FSn5\"><svg xmlns=\"http://www.w3.org/2000/svg\" class=\"_1l0elc\" width=\"16\" height=\"16\" viewBox=\"0 0 20 16\"><path d=\"M8.695 16.682C4.06 12.382 1 9.536 1 6.065 1 3.219 3.178 1 5.95 1c1.566 0 3.069.746 4.05 1.915C10.981 1.745 12.484 1 14.05 1 16.822 1 19 3.22 19 6.065c0 3.471-3.06 6.316-7.695 10.617L10 17.897l-1.305-1.215z\" fill=\"#2874F0\" class=\"eX72wL\" stroke=\"#FFF\" fill-rule=\"evenodd\" opacity=\".9\"></path></svg></div></div></div><div class=\"_3pLy-c row\"><div class=\"col col-7-12\"><div class=\"_4rR01T\">CHUWI Intel Core i3 10th Gen 1005G1 - (8 GB/512 GB SSD/Windows 11 Home) CoreBook X Grey Laptop</div><div class=\"gUuXy-\"><span id=\"productRating_LSTCOMGQHRQZSPVRDZEQTPAAX_COMGQHRQZSPVRDZE_\" class=\"_1lRcqv\"><div class=\"_3LWZlK\">4.1<img src=\"data:image/svg+xml;base64,PHN2ZyB4bWxucz0iaHR0cDovL3d3dy53My5vcmcvMjAwMC9zdmciIHdpZHRoPSIxMyIgaGVpZ2h0PSIxMiI+PHBhdGggZmlsbD0iI0ZGRiIgZD0iTTYuNSA5LjQzOWwtMy42NzQgMi4yMy45NC00LjI2LTMuMjEtMi44ODMgNC4yNTQtLjQwNEw2LjUuMTEybDEuNjkgNC4wMSA0LjI1NC40MDQtMy4yMSAyLjg4Mi45NCA0LjI2eiIvPjwvc3ZnPg==\" class=\"_1wB99o\"/></div></span><span class=\"_2_R_DZ\"><span><span>772 Ratings\\xa0</span><span class=\"_13vcmD\">&amp;</span><span>\\xa0138 Reviews</span></span></span></div><div class=\"fMghEO\"><ul class=\"_1xgFaf\"><li class=\"rgWa7D\">Stylish, Thin and Portable Light Weight Laptop\\nProcessor: Intel Core i3-1005G1 (Base 1.20 GHz &amp; Turbo upto 3.40 GHz) 2 Cores\\nRAM/Storage: 8GB DDR4, 512GB SSD\\nDisplay: 14.0&quot; FHD 280 nits\\nTouchpad: Larger Touchpad with easy control\\nKeyboard: Chiclet keyboard keys</li><li class=\"rgWa7D\">Intel Core i3 Processor (10th Gen)</li><li class=\"rgWa7D\">8 GB DDR4 RAM</li><li class=\"rgWa7D\">64 bit Windows 11 Operating System</li><li class=\"rgWa7D\">512 GB SSD</li><li class=\"rgWa7D\">35.56 cm (14 inch) Display</li><li class=\"rgWa7D\">WPS Office, Operating System Software</li><li class=\"rgWa7D\">1 Year Onsite Warranty</li></ul></div></div><div class=\"col col-5-12 nlI3QM\"><div class=\"_3tbKJL\"><div class=\"_25b18c\"><div class=\"_30jeq3 _1_WHN1\">₹23,990</div><div class=\"_3I9_wc _27UcVY\">₹<!-- -->49,990</div><div class=\"_3Ay6Sb\"><span>52% off</span></div></div></div></div></div></a></div></div></div></div><div class=\"_1AtVbE col-12-12\"><div class=\"_13oc-S\"><div data-id=\"COMGMV6V2AGHSSDM\" style=\"width:100%\"><div class=\"_2kHMtA\"><a class=\"_1fQZEK\" target=\"_blank\" rel=\"noopener noreferrer\" href=\"/msi-modern-14-intel-core-i3-11th-gen-1115g4-8-gb-512-gb-ssd-windows-11-home-c11m-031in-thin-light-laptop/p/itm6ca276c474059?pid=COMGMV6V2AGHSSDM&amp;lid=LSTCOMGMV6V2AGHSSDMORMXTI&amp;marketplace=FLIPKART&amp;q=laptops&amp;store=6bo%2Fb5g&amp;srno=s_1_24&amp;otracker=AS_Query_TrendingAutoSuggest_1_0_na_na_na&amp;otracker1=AS_Query_TrendingAutoSuggest_1_0_na_na_na&amp;fm=organic&amp;iid=fe921b55-41f8-44ed-8e9c-8371a07edc33.COMGMV6V2AGHSSDM.SEARCH&amp;ppt=None&amp;ppn=None&amp;ssid=2uwt7zzlr40000001703133998233&amp;qH=c06ea84a1e3dc3c6\"><div class=\"MIXNux\"><div class=\"_2QcLo-\"><div><div class=\"CXW8mj\" style=\"height:200px;width:200px\"><img loading=\"eager\" class=\"_396cs4\" alt=\"MSI Modern 14 Intel Core i3 11th Gen 1115G4 - (8 GB/512 GB SSD/Windows 11 Home) Modern 14 C11M-031IN T...\" src=\"https://rukminim2.flixcart.com/image/312/312/xif0q/computer/6/x/x/-original-imagvyw9fpffzgzu.jpeg?q=70\"/></div></div></div><div class=\"_3wLduG\"><div class=\"_3PzNI-\"><span class=\"f3A4_V\"><label class=\"_2iDkf8\"><input type=\"checkbox\" class=\"_30VH1S\" readonly=\"\"/><div class=\"_24_Dny\"></div></label></span><label class=\"_6Up2sF\"><span>Add to Compare</span></label></div></div><div class=\"_2hVSre _3nq8ih\"><div class=\"_36FSn5\"><svg xmlns=\"http://www.w3.org/2000/svg\" class=\"_1l0elc\" width=\"16\" height=\"16\" viewBox=\"0 0 20 16\"><path d=\"M8.695 16.682C4.06 12.382 1 9.536 1 6.065 1 3.219 3.178 1 5.95 1c1.566 0 3.069.746 4.05 1.915C10.981 1.745 12.484 1 14.05 1 16.822 1 19 3.22 19 6.065c0 3.471-3.06 6.316-7.695 10.617L10 17.897l-1.305-1.215z\" fill=\"#2874F0\" class=\"eX72wL\" stroke=\"#FFF\" fill-rule=\"evenodd\" opacity=\".9\"></path></svg></div></div></div><div class=\"_3pLy-c row\"><div class=\"col col-7-12\"><div class=\"_4rR01T\">MSI Modern 14 Intel Core i3 11th Gen 1115G4 - (8 GB/512 GB SSD/Windows 11 Home) Modern 14 C11M-031IN T...</div><div class=\"gUuXy-\"><span id=\"productRating_LSTCOMGMV6V2AGHSSDMORMXTI_COMGMV6V2AGHSSDM_\" class=\"_1lRcqv\"><div class=\"_3LWZlK\">4.3<img src=\"data:image/svg+xml;base64,PHN2ZyB4bWxucz0iaHR0cDovL3d3dy53My5vcmcvMjAwMC9zdmciIHdpZHRoPSIxMyIgaGVpZ2h0PSIxMiI+PHBhdGggZmlsbD0iI0ZGRiIgZD0iTTYuNSA5LjQzOWwtMy42NzQgMi4yMy45NC00LjI2LTMuMjEtMi44ODMgNC4yNTQtLjQwNEw2LjUuMTEybDEuNjkgNC4wMSA0LjI1NC40MDQtMy4yMSAyLjg4Mi45NCA0LjI2eiIvPjwvc3ZnPg==\" class=\"_1wB99o\"/></div></span><span class=\"_2_R_DZ\"><span><span>1,998 Ratings\\xa0</span><span class=\"_13vcmD\">&amp;</span><span>\\xa0239 Reviews</span></span></span></div><div class=\"fMghEO\"><ul class=\"_1xgFaf\"><li class=\"rgWa7D\">Intel Core i3 Processor (11th Gen)</li><li class=\"rgWa7D\">8 GB DDR4 RAM</li><li class=\"rgWa7D\">Windows 11 Operating System</li><li class=\"rgWa7D\">512 GB SSD</li><li class=\"rgWa7D\">35.56 cm (14 Inch) Display</li><li class=\"rgWa7D\">1 Year Carry-in Warranty</li></ul></div></div><div class=\"col col-5-12 nlI3QM\"><div class=\"_3tbKJL\"><div class=\"_25b18c\"><div class=\"_30jeq3 _1_WHN1\">₹28,990</div><div class=\"_3I9_wc _27UcVY\">₹<!-- -->52,990</div><div class=\"_3Ay6Sb\"><span>45% off</span></div></div></div><div class=\"_13J9qT\"><img height=\"21\" src=\"//static-assets-web.flixcart.com/fk-p-linchpin-web/fk-cp-zion/img/fa_62673a.png\"/></div></div></div></a></div></div></div></div><div class=\"_1AtVbE col-12-12\"><div><div class=\"_2MImiq\"><span>Page 1 of 81</span><nav class=\"yFHi8N\"><a class=\"ge-49M _2Kfbh8\" href=\"/search?q=laptops&amp;as=on&amp;as-show=on&amp;otracker=AS_Query_TrendingAutoSuggest_1_0_na_na_na&amp;otracker1=AS_Query_TrendingAutoSuggest_1_0_na_na_na&amp;as-pos=1&amp;as-type=HISTORY&amp;suggestionId=laptops&amp;requestId=46019d4a-7ca0-47df-abb2-12391aa3db52&amp;page=1\">1</a><a class=\"ge-49M\" href=\"/search?q=laptops&amp;as=on&amp;as-show=on&amp;otracker=AS_Query_TrendingAutoSuggest_1_0_na_na_na&amp;otracker1=AS_Query_TrendingAutoSuggest_1_0_na_na_na&amp;as-pos=1&amp;as-type=HISTORY&amp;suggestionId=laptops&amp;requestId=46019d4a-7ca0-47df-abb2-12391aa3db52&amp;page=2\">2</a><a class=\"ge-49M\" href=\"/search?q=laptops&amp;as=on&amp;as-show=on&amp;otracker=AS_Query_TrendingAutoSuggest_1_0_na_na_na&amp;otracker1=AS_Query_TrendingAutoSuggest_1_0_na_na_na&amp;as-pos=1&amp;as-type=HISTORY&amp;suggestionId=laptops&amp;requestId=46019d4a-7ca0-47df-abb2-12391aa3db52&amp;page=3\">3</a><a class=\"ge-49M\" href=\"/search?q=laptops&amp;as=on&amp;as-show=on&amp;otracker=AS_Query_TrendingAutoSuggest_1_0_na_na_na&amp;otracker1=AS_Query_TrendingAutoSuggest_1_0_na_na_na&amp;as-pos=1&amp;as-type=HISTORY&amp;suggestionId=laptops&amp;requestId=46019d4a-7ca0-47df-abb2-12391aa3db52&amp;page=4\">4</a><a class=\"ge-49M\" href=\"/search?q=laptops&amp;as=on&amp;as-show=on&amp;otracker=AS_Query_TrendingAutoSuggest_1_0_na_na_na&amp;otracker1=AS_Query_TrendingAutoSuggest_1_0_na_na_na&amp;as-pos=1&amp;as-type=HISTORY&amp;suggestionId=laptops&amp;requestId=46019d4a-7ca0-47df-abb2-12391aa3db52&amp;page=5\">5</a><a class=\"ge-49M\" href=\"/search?q=laptops&amp;as=on&amp;as-show=on&amp;otracker=AS_Query_TrendingAutoSuggest_1_0_na_na_na&amp;otracker1=AS_Query_TrendingAutoSuggest_1_0_na_na_na&amp;as-pos=1&amp;as-type=HISTORY&amp;suggestionId=laptops&amp;requestId=46019d4a-7ca0-47df-abb2-12391aa3db52&amp;page=6\">6</a><a class=\"ge-49M\" href=\"/search?q=laptops&amp;as=on&amp;as-show=on&amp;otracker=AS_Query_TrendingAutoSuggest_1_0_na_na_na&amp;otracker1=AS_Query_TrendingAutoSuggest_1_0_na_na_na&amp;as-pos=1&amp;as-type=HISTORY&amp;suggestionId=laptops&amp;requestId=46019d4a-7ca0-47df-abb2-12391aa3db52&amp;page=7\">7</a><a class=\"ge-49M\" href=\"/search?q=laptops&amp;as=on&amp;as-show=on&amp;otracker=AS_Query_TrendingAutoSuggest_1_0_na_na_na&amp;otracker1=AS_Query_TrendingAutoSuggest_1_0_na_na_na&amp;as-pos=1&amp;as-type=HISTORY&amp;suggestionId=laptops&amp;requestId=46019d4a-7ca0-47df-abb2-12391aa3db52&amp;page=8\">8</a><a class=\"ge-49M\" href=\"/search?q=laptops&amp;as=on&amp;as-show=on&amp;otracker=AS_Query_TrendingAutoSuggest_1_0_na_na_na&amp;otracker1=AS_Query_TrendingAutoSuggest_1_0_na_na_na&amp;as-pos=1&amp;as-type=HISTORY&amp;suggestionId=laptops&amp;requestId=46019d4a-7ca0-47df-abb2-12391aa3db52&amp;page=9\">9</a><a class=\"ge-49M\" href=\"/search?q=laptops&amp;as=on&amp;as-show=on&amp;otracker=AS_Query_TrendingAutoSuggest_1_0_na_na_na&amp;otracker1=AS_Query_TrendingAutoSuggest_1_0_na_na_na&amp;as-pos=1&amp;as-type=HISTORY&amp;suggestionId=laptops&amp;requestId=46019d4a-7ca0-47df-abb2-12391aa3db52&amp;page=10\">10</a><a class=\"_1LKTO3\" href=\"/search?q=laptops&amp;as=on&amp;as-show=on&amp;otracker=AS_Query_TrendingAutoSuggest_1_0_na_na_na&amp;otracker1=AS_Query_TrendingAutoSuggest_1_0_na_na_na&amp;as-pos=1&amp;as-type=HISTORY&amp;suggestionId=laptops&amp;requestId=46019d4a-7ca0-47df-abb2-12391aa3db52&amp;page=2\"><span>Next</span></a></nav><span class=\"_22Tduf\"></span></div></div></div><div class=\"_1AtVbE col-12-12\" style=\"margin:10px 0px 0px 0px\"><div class=\"_1anD2T\"><span class=\"PTpXCl\">Did you find what you were looking for?</span><div class=\"_1ye8x2 _1xLf4B\"><span class=\"_2eFmU2 _3ZMjMT\">Yes</span><span class=\"_2eFmU2 _3ZMjMT\">No</span></div></div></div></div></div><div class=\"_1AtVbE col-12-12\" style=\"padding:16px 0px 0px 0px\"><div class=\"_3E8aIl X3IECw row\"><div class=\"_88-NUv\">Reviews for Popular Laptops</div><div class=\"_2nRPpA\"><div class=\"_1Ni40J\"><div class=\"_3hVUcF\"><div class=\"CXW8mj\" style=\"height:150px;width:150px\"><img loading=\"lazy\" class=\"_396cs4\" alt=\"HP 2023 AMD Ryzen 3 Dual Core 3250U - (8 GB/512 GB SSD/Windows 11 Home) 15s- eq1580AU Thin and Light Laptop\" src=\"https://rukminim2.flixcart.com/image/300/300/xif0q/computer/m/1/n/-original-imagwy8dn6bcncfe.jpeg?q=90\"/></div></div><div class=\"_1kLt05\"><a target=\"_blank\" rel=\"noopener noreferrer\" href=\"/hp-2023-amd-ryzen-3-dual-core-3250u-8-gb-512-gb-ssd-windows-11-home-15s-eq1580au-thin-light-laptop/p/itm286c2761c52f0?pid=COMGZYRYCB3JVMJS&amp;marketplace=FLIPKART\"><div class=\"_1W9f5C\"><div>1. HP 2023 AMD Ryzen 3 Dual Co...</div></div><div class=\"_3VDxyD\"><div class=\"_3LWZlK\">4.2<img src=\"data:image/svg+xml;base64,PHN2ZyB4bWxucz0iaHR0cDovL3d3dy53My5vcmcvMjAwMC9zdmciIHdpZHRoPSIxMyIgaGVpZ2h0PSIxMiI+PHBhdGggZmlsbD0iI0ZGRiIgZD0iTTYuNSA5LjQzOWwtMy42NzQgMi4yMy45NC00LjI2LTMuMjEtMi44ODMgNC4yNTQtLjQwNEw2LjUuMTEybDEuNjkgNC4wMSA0LjI1NC40MDQtMy4yMSAyLjg4Mi45NCA0LjI2eiIvPjwvc3ZnPg==\" class=\"_1wB99o\"/></div><span class=\"_34hpFu\"><span>3,553 Ratings</span><span><span class=\"_2oY1qB\">&amp;</span><span>315 Reviews</span></span></span></div><div class=\"_2wYYVP\"><div class=\"_25b18c\"><div class=\"_30jeq3 UMT9wN\">₹33,490</div><div class=\"_3Ay6Sb _2FuKQX\"><span>16% off</span></div></div></div></a><ul class=\"_1Sq2Fs\"><li class=\"_2OosNL\">AMD Ryzen 3 Dual Core Processor</li><li class=\"_2OosNL\">8 GB DDR4 RAM</li><li class=\"_2OosNL\">Windows 11 Operating System</li></ul></div></div><div class=\"_2tzWk4\"><div class=\"_1A_Aux\">Most Helpful Review</div><div class=\"col\"><div class=\"col _2wzgFH _2cVXgz\"><div class=\"row\"><div class=\"_3LWZlK _1BLPMq\">4<img src=\"data:image/svg+xml;base64,PHN2ZyB4bWxucz0iaHR0cDovL3d3dy53My5vcmcvMjAwMC9zdmciIHdpZHRoPSIxMyIgaGVpZ2h0PSIxMiI+PHBhdGggZmlsbD0iI0ZGRiIgZD0iTTYuNSA5LjQzOWwtMy42NzQgMi4yMy45NC00LjI2LTMuMjEtMi44ODMgNC4yNTQtLjQwNEw2LjUuMTEybDEuNjkgNC4wMSA0LjI1NC40MDQtMy4yMSAyLjg4Mi45NCA0LjI2eiIvPjwvc3ZnPg==\" class=\"_1wB99o\"/></div><p class=\"_2-N8zT\">Good quality product</p></div><div class=\"row\"><div class=\"t-ZTKy\"><div><div class=\"\">This is my first laptop gifted by my father so its a special one❤️</div><span class=\"_1H-bmy\"><span>Read full review</span></span></div></div></div><div class=\"row _3n8db9\"><div class=\"row\"><p class=\"_2sc7ZR _2V5EHH\">Pooja  Kumari</p><svg width=\"14\" height=\"14\" viewBox=\"0 0 12 12\" xmlns=\"http://www.w3.org/2000/svg\" class=\"_2a1p_T\"><g><circle cx=\"6\" cy=\"6\" r=\"6\" fill=\"#878787\"></circle><path stroke=\"#FFF\" stroke-width=\"1.5\" d=\"M3 6l2 2 4-4\" fill=\"#878787\"></path></g></svg><p id=\"review-b66f6551-96d2-4d03-9cb4-6d0d6e31cbc9\" class=\"_2mcZGG\"><span>Certified Buyer</span></p><p class=\"_2sc7ZR\">Sep, 2022</p></div></div></div></div></div><div class=\"_2tzWk4\"><div class=\"_1A_Aux\">Recent Review</div><div class=\"col\"><div class=\"col _2wzgFH _2cVXgz\"><div class=\"row\"><div class=\"_3LWZlK _1BLPMq\">5<img src=\"data:image/svg+xml;base64,PHN2ZyB4bWxucz0iaHR0cDovL3d3dy53My5vcmcvMjAwMC9zdmciIHdpZHRoPSIxMyIgaGVpZ2h0PSIxMiI+PHBhdGggZmlsbD0iI0ZGRiIgZD0iTTYuNSA5LjQzOWwtMy42NzQgMi4yMy45NC00LjI2LTMuMjEtMi44ODMgNC4yNTQtLjQwNEw2LjUuMTEybDEuNjkgNC4wMSA0LjI1NC40MDQtMy4yMSAyLjg4Mi45NCA0LjI2eiIvPjwvc3ZnPg==\" class=\"_1wB99o\"/></div><p class=\"_2-N8zT\">Just wow!</p></div><div class=\"row\"><div class=\"t-ZTKy\"><div><div class=\"\">Awesome product thanks Flipkart ❤️☺️ it\\'s very nice and great laptop i have and this is my first laptop which I buy...</div><span class=\"_1H-bmy\"><span>Read full review</span></span></div></div></div><div class=\"row _3n8db9\"><div class=\"row\"><p class=\"_2sc7ZR _2V5EHH\">Krishna Chavhan</p><svg width=\"14\" height=\"14\" viewBox=\"0 0 12 12\" xmlns=\"http://www.w3.org/2000/svg\" class=\"_2a1p_T\"><g><circle cx=\"6\" cy=\"6\" r=\"6\" fill=\"#878787\"></circle><path stroke=\"#FFF\" stroke-width=\"1.5\" d=\"M3 6l2 2 4-4\" fill=\"#878787\"></path></g></svg><p id=\"review-033f8f20-a5b2-43ec-9774-0141ba100b56\" class=\"_2mcZGG\"><span>Certified Buyer</span></p><p class=\"_2sc7ZR\">15 days ago</p></div></div></div></div></div></div><div class=\"_2nRPpA\"><div class=\"_1Ni40J\"><div class=\"_3hVUcF\"><div class=\"CXW8mj\" style=\"height:150px;width:150px\"><img loading=\"lazy\" class=\"_396cs4\" alt=\"HP 15s AMD Ryzen 5 Hexa Core 5500U - (16 GB/512 GB SSD/Windows 11 Home) 15s-eq2132au Thin and Light Laptop\" src=\"https://rukminim2.flixcart.com/image/300/300/xif0q/computer/u/n/i/-original-imagwy8dgdru5zhn.jpeg?q=90\"/></div></div><div class=\"_1kLt05\"><a target=\"_blank\" rel=\"noopener noreferrer\" href=\"/hp-15s-amd-ryzen-5-hexa-core-5500u-16-gb-512-gb-ssd-windows-11-home-15s-eq2132au-thin-light-laptop/p/itm72370b6c44940?pid=COMGSB2RZZQHMHK2&amp;marketplace=FLIPKART\"><div class=\"_1W9f5C\"><div>2. HP 15s AMD Ryzen 5 Hexa Cor...</div></div><div class=\"_3VDxyD\"><div class=\"_3LWZlK\">4.3<img src=\"data:image/svg+xml;base64,PHN2ZyB4bWxucz0iaHR0cDovL3d3dy53My5vcmcvMjAwMC9zdmciIHdpZHRoPSIxMyIgaGVpZ2h0PSIxMiI+PHBhdGggZmlsbD0iI0ZGRiIgZD0iTTYuNSA5LjQzOWwtMy42NzQgMi4yMy45NC00LjI2LTMuMjEtMi44ODMgNC4yNTQtLjQwNEw2LjUuMTEybDEuNjkgNC4wMSA0LjI1NC40MDQtMy4yMSAyLjg4Mi45NCA0LjI2eiIvPjwvc3ZnPg==\" class=\"_1wB99o\"/></div><span class=\"_34hpFu\"><span>584 Ratings</span><span><span class=\"_2oY1qB\">&amp;</span><span>53 Reviews</span></span></span></div><div class=\"_2wYYVP\"><div class=\"_25b18c\"><div class=\"_30jeq3 UMT9wN\">₹46,500</div><div class=\"_3Ay6Sb _2FuKQX\"><span>14% off</span></div></div></div></a><ul class=\"_1Sq2Fs\"><li class=\"_2OosNL\">AMD Ryzen 5 Hexa Core Processor</li><li class=\"_2OosNL\">16 GB DDR4 RAM</li><li class=\"_2OosNL\">Windows 11 Operating System</li></ul></div></div><div class=\"_2tzWk4\"><div class=\"_1A_Aux\">Most Helpful Review</div><div class=\"col\"><div class=\"col _2wzgFH _2cVXgz\"><div class=\"row\"><div class=\"_3LWZlK _1BLPMq\">4<img src=\"data:image/svg+xml;base64,PHN2ZyB4bWxucz0iaHR0cDovL3d3dy53My5vcmcvMjAwMC9zdmciIHdpZHRoPSIxMyIgaGVpZ2h0PSIxMiI+PHBhdGggZmlsbD0iI0ZGRiIgZD0iTTYuNSA5LjQzOWwtMy42NzQgMi4yMy45NC00LjI2LTMuMjEtMi44ODMgNC4yNTQtLjQwNEw2LjUuMTEybDEuNjkgNC4wMSA0LjI1NC40MDQtMy4yMSAyLjg4Mi45NCA0LjI2eiIvPjwvc3ZnPg==\" class=\"_1wB99o\"/></div><p class=\"_2-N8zT\">Delightful</p></div><div class=\"row\"><div class=\"t-ZTKy\"><div><div class=\"\">The laptop is good for daily work and multitasking but the display quality is average.</div><span class=\"_1H-bmy\"><span>Read full review</span></span></div></div></div><div class=\"row _3n8db9\"><div class=\"row\"><p class=\"_2sc7ZR _2V5EHH\">Shubham Vishwakarma</p><svg width=\"14\" height=\"14\" viewBox=\"0 0 12 12\" xmlns=\"http://www.w3.org/2000/svg\" class=\"_2a1p_T\"><g><circle cx=\"6\" cy=\"6\" r=\"6\" fill=\"#878787\"></circle><path stroke=\"#FFF\" stroke-width=\"1.5\" d=\"M3 6l2 2 4-4\" fill=\"#878787\"></path></g></svg><p id=\"review-55bf91f1-e3e0-4516-bcb2-9e5b7c023007\" class=\"_2mcZGG\"><span>Certified Buyer</span></p><p class=\"_2sc7ZR\">2 months ago</p></div></div></div></div></div><div class=\"_2tzWk4\"><div class=\"_1A_Aux\">Recent Review</div><div class=\"col\"><div class=\"col _2wzgFH _2cVXgz\"><div class=\"row\"><div class=\"_3LWZlK _1BLPMq\">5<img src=\"data:image/svg+xml;base64,PHN2ZyB4bWxucz0iaHR0cDovL3d3dy53My5vcmcvMjAwMC9zdmciIHdpZHRoPSIxMyIgaGVpZ2h0PSIxMiI+PHBhdGggZmlsbD0iI0ZGRiIgZD0iTTYuNSA5LjQzOWwtMy42NzQgMi4yMy45NC00LjI2LTMuMjEtMi44ODMgNC4yNTQtLjQwNEw2LjUuMTEybDEuNjkgNC4wMSA0LjI1NC40MDQtMy4yMSAyLjg4Mi45NCA0LjI2eiIvPjwvc3ZnPg==\" class=\"_1wB99o\"/></div><p class=\"_2-N8zT\">Best in the market!</p></div><div class=\"row\"><div class=\"t-ZTKy\"><div><div class=\"\">Got this device in just 36k , Using it for months now .<br/>Performance is good</div><span class=\"_1H-bmy\"><span>Read full review</span></span></div></div></div><div class=\"row _3n8db9\"><div class=\"row\"><p class=\"_2sc7ZR _2V5EHH\">sourav singh</p><svg width=\"14\" height=\"14\" viewBox=\"0 0 12 12\" xmlns=\"http://www.w3.org/2000/svg\" class=\"_2a1p_T\"><g><circle cx=\"6\" cy=\"6\" r=\"6\" fill=\"#878787\"></circle><path stroke=\"#FFF\" stroke-width=\"1.5\" d=\"M3 6l2 2 4-4\" fill=\"#878787\"></path></g></svg><p id=\"review-c35449b3-372b-4a1d-abd8-9e9466b5c767\" class=\"_2mcZGG\"><span>Certified Buyer</span></p><p class=\"_2sc7ZR\">8 days ago</p></div></div></div></div></div></div><div class=\"_2nRPpA\"><div class=\"_1Ni40J\"><div class=\"_3hVUcF\"><div class=\"CXW8mj\" style=\"height:150px;width:150px\"><img loading=\"lazy\" class=\"_396cs4\" alt=\"CHUWI Intel Core i3 10th Gen 1005G1 - (8 GB/512 GB SSD/Windows 11 Home) CoreBook X Grey Laptop\" src=\"https://rukminim2.flixcart.com/image/300/300/xif0q/computer/7/s/3/-original-imagr93z7hudmgwf.jpeg?q=90\"/></div></div><div class=\"_1kLt05\"><a target=\"_blank\" rel=\"noopener noreferrer\" href=\"/chuwi-intel-core-i3-10th-gen-1005g1-8-gb-512-gb-ssd-windows-11-home-corebook-x-grey-laptop/p/itm60983f1093f2d?pid=COMGQHRQZSPVRDZE&amp;marketplace=FLIPKART\"><div class=\"_1W9f5C\"><div>3. CHUWI Intel Core i3 10th Ge...</div></div><div class=\"_3VDxyD\"><div class=\"_3LWZlK\">4.1<img src=\"data:image/svg+xml;base64,PHN2ZyB4bWxucz0iaHR0cDovL3d3dy53My5vcmcvMjAwMC9zdmciIHdpZHRoPSIxMyIgaGVpZ2h0PSIxMiI+PHBhdGggZmlsbD0iI0ZGRiIgZD0iTTYuNSA5LjQzOWwtMy42NzQgMi4yMy45NC00LjI2LTMuMjEtMi44ODMgNC4yNTQtLjQwNEw2LjUuMTEybDEuNjkgNC4wMSA0LjI1NC40MDQtMy4yMSAyLjg4Mi45NCA0LjI2eiIvPjwvc3ZnPg==\" class=\"_1wB99o\"/></div><span class=\"_34hpFu\"><span>772 Ratings</span><span><span class=\"_2oY1qB\">&amp;</span><span>138 Reviews</span></span></span></div><div class=\"_2wYYVP\"><div class=\"_25b18c\"><div class=\"_30jeq3 UMT9wN\">₹23,990</div><div class=\"_3Ay6Sb _2FuKQX\"><span>52% off</span></div></div></div></a><ul class=\"_1Sq2Fs\"><li class=\"_2OosNL\">Stylish, Thin and Portable Light Weight Laptop\\nProcessor: Intel Core i3-1005G1 (Base 1.20 GHz &amp; Turbo upto 3.40 GHz) 2 Cores\\nRAM/Storage: 8GB DDR4, 512GB SSD\\nDisplay: 14.0&quot; FHD 280 nits\\nTouchpad: Larger Touchpad with easy control\\nKeyboard: Chiclet keyboard keys</li><li class=\"_2OosNL\">Intel Core i3 Processor (10th Gen)</li><li class=\"_2OosNL\">8 GB DDR4 RAM</li></ul></div></div><div class=\"_2tzWk4\"><div class=\"_1A_Aux\">Most Helpful Review</div><div class=\"col\"><div class=\"col _2wzgFH _2cVXgz\"><div class=\"row\"><div class=\"_3LWZlK _1BLPMq\">5<img src=\"data:image/svg+xml;base64,PHN2ZyB4bWxucz0iaHR0cDovL3d3dy53My5vcmcvMjAwMC9zdmciIHdpZHRoPSIxMyIgaGVpZ2h0PSIxMiI+PHBhdGggZmlsbD0iI0ZGRiIgZD0iTTYuNSA5LjQzOWwtMy42NzQgMi4yMy45NC00LjI2LTMuMjEtMi44ODMgNC4yNTQtLjQwNEw2LjUuMTEybDEuNjkgNC4wMSA0LjI1NC40MDQtMy4yMSAyLjg4Mi45NCA0LjI2eiIvPjwvc3ZnPg==\" class=\"_1wB99o\"/></div><p class=\"_2-N8zT\">Perfect product!</p></div><div class=\"row\"><div class=\"t-ZTKy\"><div><div class=\"\">After 20 days of usage, I would say this is the very best laptop at this price range, In this same specification laptop price range is starts from 30K upto 5...</div><span class=\"_1BWGvX\"><span>Read full review</span></span></div></div></div><div class=\"row _3n8db9\"><div class=\"row\"><p class=\"_2sc7ZR _2V5EHH\">Vijay Customer</p><svg width=\"14\" height=\"14\" viewBox=\"0 0 12 12\" xmlns=\"http://www.w3.org/2000/svg\" class=\"_2a1p_T\"><g><circle cx=\"6\" cy=\"6\" r=\"6\" fill=\"#878787\"></circle><path stroke=\"#FFF\" stroke-width=\"1.5\" d=\"M3 6l2 2 4-4\" fill=\"#878787\"></path></g></svg><p id=\"review-2a03e86a-3936-4382-a63f-0d53d26b365f\" class=\"_2mcZGG\"><span>Certified Buyer</span></p><p class=\"_2sc7ZR\">3 months ago</p></div></div></div></div></div><div class=\"_2tzWk4\"><div class=\"_1A_Aux\">Recent Review</div><div class=\"col\"><div class=\"col _2wzgFH _2cVXgz\"><div class=\"row\"><div class=\"_3LWZlK _1BLPMq\">4<img src=\"data:image/svg+xml;base64,PHN2ZyB4bWxucz0iaHR0cDovL3d3dy53My5vcmcvMjAwMC9zdmciIHdpZHRoPSIxMyIgaGVpZ2h0PSIxMiI+PHBhdGggZmlsbD0iI0ZGRiIgZD0iTTYuNSA5LjQzOWwtMy42NzQgMi4yMy45NC00LjI2LTMuMjEtMi44ODMgNC4yNTQtLjQwNEw2LjUuMTEybDEuNjkgNC4wMSA0LjI1NC40MDQtMy4yMSAyLjg4Mi45NCA0LjI2eiIvPjwvc3ZnPg==\" class=\"_1wB99o\"/></div><p class=\"_2-N8zT\">Very Good</p></div><div class=\"row\"><div class=\"t-ZTKy\"><div><div class=\"\">Product is good design / looking good  but after sometimes uses it\\'s getting 🔥 hot , <br/>Product is average,  not good not bad</div><span class=\"_1H-bmy\"><span>Read full review</span></span></div></div></div><div class=\"row _3n8db9\"><div class=\"row\"><p class=\"_2sc7ZR _2V5EHH\">Hasan Babu</p><svg width=\"14\" height=\"14\" viewBox=\"0 0 12 12\" xmlns=\"http://www.w3.org/2000/svg\" class=\"_2a1p_T\"><g><circle cx=\"6\" cy=\"6\" r=\"6\" fill=\"#878787\"></circle><path stroke=\"#FFF\" stroke-width=\"1.5\" d=\"M3 6l2 2 4-4\" fill=\"#878787\"></path></g></svg><p id=\"review-68c2fed7-8a1c-4652-965f-702782072a59\" class=\"_2mcZGG\"><span>Certified Buyer</span></p><p class=\"_2sc7ZR\">14 days ago</p></div></div></div></div></div></div><div class=\"_2nRPpA\"><div class=\"_1Ni40J\"><div class=\"_3hVUcF\"><div class=\"CXW8mj\" style=\"height:150px;width:150px\"><img loading=\"lazy\" class=\"_396cs4\" alt=\"HP Intel Intel Core i3 11th Gen 1115G4 - (8 GB/512 GB SSD/Windows 11 Home) 14s - dy2508TU Thin and Light Laptop\" src=\"https://rukminim2.flixcart.com/image/300/300/xif0q/computer/9/e/o/-original-imagwy8damtqdphp.jpeg?q=90\"/></div></div><div class=\"_1kLt05\"><a target=\"_blank\" rel=\"noopener noreferrer\" href=\"/hp-intel-core-i3-11th-gen-1115g4-8-gb-512-gb-ssd-windows-11-home-14s-dy2508tu-thin-light-laptop/p/itm42a82790cf5ec?pid=COMGGTT4VFWG3FFM&amp;marketplace=FLIPKART\"><div class=\"_1W9f5C\"><div>4. HP Intel Intel Core i3 11th...</div></div><div class=\"_3VDxyD\"><div class=\"_3LWZlK\">4.3<img src=\"data:image/svg+xml;base64,PHN2ZyB4bWxucz0iaHR0cDovL3d3dy53My5vcmcvMjAwMC9zdmciIHdpZHRoPSIxMyIgaGVpZ2h0PSIxMiI+PHBhdGggZmlsbD0iI0ZGRiIgZD0iTTYuNSA5LjQzOWwtMy42NzQgMi4yMy45NC00LjI2LTMuMjEtMi44ODMgNC4yNTQtLjQwNEw2LjUuMTEybDEuNjkgNC4wMSA0LjI1NC40MDQtMy4yMSAyLjg4Mi45NCA0LjI2eiIvPjwvc3ZnPg==\" class=\"_1wB99o\"/></div><span class=\"_34hpFu\"><span>11,078 Ratings</span><span><span class=\"_2oY1qB\">&amp;</span><span>875 Reviews</span></span></span></div><div class=\"_2wYYVP\"><div class=\"_25b18c\"><div class=\"_30jeq3 UMT9wN\">₹34,990</div><div class=\"_3Ay6Sb _2FuKQX\"><span>29% off</span></div></div></div></a><ul class=\"_1Sq2Fs\"><li class=\"_2OosNL\">Intel Core i3 Processor (11th Gen)</li><li class=\"_2OosNL\">8 GB DDR4 RAM</li><li class=\"_2OosNL\">64 bit Windows 11 Operating System</li></ul></div></div><div class=\"_2tzWk4\"><div class=\"_1A_Aux\">Most Helpful Review</div><div class=\"col\"><div class=\"col _2wzgFH _2cVXgz\"><div class=\"row\"><div class=\"_3LWZlK _1BLPMq\">5<img src=\"data:image/svg+xml;base64,PHN2ZyB4bWxucz0iaHR0cDovL3d3dy53My5vcmcvMjAwMC9zdmciIHdpZHRoPSIxMyIgaGVpZ2h0PSIxMiI+PHBhdGggZmlsbD0iI0ZGRiIgZD0iTTYuNSA5LjQzOWwtMy42NzQgMi4yMy45NC00LjI2LTMuMjEtMi44ODMgNC4yNTQtLjQwNEw2LjUuMTEybDEuNjkgNC4wMSA0LjI1NC40MDQtMy4yMSAyLjg4Mi45NCA0LjI2eiIvPjwvc3ZnPg==\" class=\"_1wB99o\"/></div><p class=\"_2-N8zT\">Super!</p></div><div class=\"row\"><div class=\"t-ZTKy\"><div><div class=\"\">Very Nice product, liked it very much , very fast , Battery life is good and speed of processing is also nice , Value worth....</div><span class=\"_1H-bmy\"><span>Read full review</span></span></div></div></div><div class=\"row _3n8db9\"><div class=\"row\"><p class=\"_2sc7ZR _2V5EHH\">Bunty Kawde</p><svg width=\"14\" height=\"14\" viewBox=\"0 0 12 12\" xmlns=\"http://www.w3.org/2000/svg\" class=\"_2a1p_T\"><g><circle cx=\"6\" cy=\"6\" r=\"6\" fill=\"#878787\"></circle><path stroke=\"#FFF\" stroke-width=\"1.5\" d=\"M3 6l2 2 4-4\" fill=\"#878787\"></path></g></svg><p id=\"review-dac1945d-8480-4a3b-bcd4-b31a0f6bcaf6\" class=\"_2mcZGG\"><span>Certified Buyer</span></p><p class=\"_2sc7ZR\">Oct, 2022</p></div></div></div></div></div><div class=\"_2tzWk4\"><div class=\"_1A_Aux\">Recent Review</div><div class=\"col\"><div class=\"col _2wzgFH _2cVXgz\"><div class=\"row\"><div class=\"_3LWZlK _1rdVr6 _1BLPMq\">1<img src=\"data:image/svg+xml;base64,PHN2ZyB4bWxucz0iaHR0cDovL3d3dy53My5vcmcvMjAwMC9zdmciIHdpZHRoPSIxMyIgaGVpZ2h0PSIxMiI+PHBhdGggZmlsbD0iI0ZGRiIgZD0iTTYuNSA5LjQzOWwtMy42NzQgMi4yMy45NC00LjI2LTMuMjEtMi44ODMgNC4yNTQtLjQwNEw2LjUuMTEybDEuNjkgNC4wMSA0LjI1NC40MDQtMy4yMSAyLjg4Mi45NCA0LjI2eiIvPjwvc3ZnPg==\" class=\"_1wB99o\"/></div><p class=\"_2-N8zT\">Waste of money!</p></div><div class=\"row\"><div class=\"t-ZTKy\"><div><div class=\"\">Its almost 5 to 6 months of use and Overall i would rate it 6/ 10 <br/>Reasons <br/><br/>Style ,looks,accessing  is up to mark 👍<br/>But <br/>Keyboard visibility not good :(<br/>Ba...</div><span class=\"_1BWGvX\"><span>Read full review</span></span></div></div></div><div class=\"row _3n8db9\"><div class=\"row\"><p class=\"_2sc7ZR _2V5EHH\">Flipkart Customer</p><svg width=\"14\" height=\"14\" viewBox=\"0 0 12 12\" xmlns=\"http://www.w3.org/2000/svg\" class=\"_2a1p_T\"><g><circle cx=\"6\" cy=\"6\" r=\"6\" fill=\"#878787\"></circle><path stroke=\"#FFF\" stroke-width=\"1.5\" d=\"M3 6l2 2 4-4\" fill=\"#878787\"></path></g></svg><p id=\"review-91f4e713-9ad9-48d3-95dc-6d1366465b1a\" class=\"_2mcZGG\"><span>Certified Buyer</span></p><p class=\"_2sc7ZR\">3 days ago</p></div></div></div></div></div></div><div class=\"_2nRPpA\"><div class=\"_1Ni40J\"><div class=\"_3hVUcF\"><div class=\"CXW8mj\" style=\"height:150px;width:150px\"><img loading=\"lazy\" class=\"_396cs4\" alt=\"HP Intel Intel Core i3 12th Gen 1215U - (8 GB/512 GB SSD/Windows 11 Home) 15s-fq5007TU Thin and Light Laptop\" src=\"https://rukminim2.flixcart.com/image/300/300/xif0q/computer/6/s/8/-original-imagwy8djrdmp9ar.jpeg?q=90\"/></div></div><div class=\"_1kLt05\"><a target=\"_blank\" rel=\"noopener noreferrer\" href=\"/hp-intel-core-i3-12th-gen-1215u-8-gb-512-gb-ssd-windows-11-home-15s-fq5007tu-thin-light-laptop/p/itmd2ff5362367f2?pid=COMGKW2NSU4SPZSG&amp;marketplace=FLIPKART\"><div class=\"_1W9f5C\"><div>5. HP Intel Intel Core i3 12th...</div></div><div class=\"_3VDxyD\"><div class=\"_3LWZlK\">4.2<img src=\"data:image/svg+xml;base64,PHN2ZyB4bWxucz0iaHR0cDovL3d3dy53My5vcmcvMjAwMC9zdmciIHdpZHRoPSIxMyIgaGVpZ2h0PSIxMiI+PHBhdGggZmlsbD0iI0ZGRiIgZD0iTTYuNSA5LjQzOWwtMy42NzQgMi4yMy45NC00LjI2LTMuMjEtMi44ODMgNC4yNTQtLjQwNEw2LjUuMTEybDEuNjkgNC4wMSA0LjI1NC40MDQtMy4yMSAyLjg4Mi45NCA0LjI2eiIvPjwvc3ZnPg==\" class=\"_1wB99o\"/></div><span class=\"_34hpFu\"><span>2,545 Ratings</span><span><span class=\"_2oY1qB\">&amp;</span><span>281 Reviews</span></span></span></div><div class=\"_2wYYVP\"><div class=\"_25b18c\"><div class=\"_30jeq3 UMT9wN\">₹41,990</div><div class=\"_3Ay6Sb _2FuKQX\"><span>25% off</span></div></div></div></a><ul class=\"_1Sq2Fs\"><li class=\"_2OosNL\">Intel Core i3 Processor (12th Gen)</li><li class=\"_2OosNL\">8 GB DDR4 RAM</li><li class=\"_2OosNL\">64 bit Windows 11 Operating System</li></ul></div></div><div class=\"_2tzWk4\"><div class=\"_1A_Aux\">Most Helpful Review</div><div class=\"col\"><div class=\"col _2wzgFH _2cVXgz\"><div class=\"row\"><div class=\"_3LWZlK _1BLPMq\">4<img src=\"data:image/svg+xml;base64,PHN2ZyB4bWxucz0iaHR0cDovL3d3dy53My5vcmcvMjAwMC9zdmciIHdpZHRoPSIxMyIgaGVpZ2h0PSIxMiI+PHBhdGggZmlsbD0iI0ZGRiIgZD0iTTYuNSA5LjQzOWwtMy42NzQgMi4yMy45NC00LjI2LTMuMjEtMi44ODMgNC4yNTQtLjQwNEw2LjUuMTEybDEuNjkgNC4wMSA0LjI1NC40MDQtMy4yMSAyLjg4Mi45NCA0LjI2eiIvPjwvc3ZnPg==\" class=\"_1wB99o\"/></div><p class=\"_2-N8zT\">Good choice</p></div><div class=\"row\"><div class=\"t-ZTKy\"><div><div class=\"\">Good laptop it\\'s my first laptop very impressive<br/>But battery backup only long for 5 hours for normal task.</div><span class=\"_1H-bmy\"><span>Read full review</span></span></div></div></div><div class=\"row _3n8db9\"><div class=\"row\"><p class=\"_2sc7ZR _2V5EHH\">ULLAS K N</p><svg width=\"14\" height=\"14\" viewBox=\"0 0 12 12\" xmlns=\"http://www.w3.org/2000/svg\" class=\"_2a1p_T\"><g><circle cx=\"6\" cy=\"6\" r=\"6\" fill=\"#878787\"></circle><path stroke=\"#FFF\" stroke-width=\"1.5\" d=\"M3 6l2 2 4-4\" fill=\"#878787\"></path></g></svg><p id=\"review-8e82aeab-5503-4309-981e-a26ac3dfc5ab\" class=\"_2mcZGG\"><span>Certified Buyer</span></p><p class=\"_2sc7ZR\">7 months ago</p></div></div></div></div></div><div class=\"_2tzWk4\"><div class=\"_1A_Aux\">Recent Review</div><div class=\"col\"><div class=\"col _2wzgFH _2cVXgz\"><div class=\"row\"><div class=\"_3LWZlK _1BLPMq\">5<img src=\"data:image/svg+xml;base64,PHN2ZyB4bWxucz0iaHR0cDovL3d3dy53My5vcmcvMjAwMC9zdmciIHdpZHRoPSIxMyIgaGVpZ2h0PSIxMiI+PHBhdGggZmlsbD0iI0ZGRiIgZD0iTTYuNSA5LjQzOWwtMy42NzQgMi4yMy45NC00LjI2LTMuMjEtMi44ODMgNC4yNTQtLjQwNEw2LjUuMTEybDEuNjkgNC4wMSA0LjI1NC40MDQtMy4yMSAyLjg4Mi45NCA0LjI2eiIvPjwvc3ZnPg==\" class=\"_1wB99o\"/></div><p class=\"_2-N8zT\">Wonderful</p></div><div class=\"row\"><div class=\"t-ZTKy\"><div><div class=\"\">Good product but battery backup very poor.</div><span class=\"_1H-bmy\"><span>Read full review</span></span></div></div></div><div class=\"row _3n8db9\"><div class=\"row\"><p class=\"_2sc7ZR _2V5EHH\">Flipkart Customer</p><svg width=\"14\" height=\"14\" viewBox=\"0 0 12 12\" xmlns=\"http://www.w3.org/2000/svg\" class=\"_2a1p_T\"><g><circle cx=\"6\" cy=\"6\" r=\"6\" fill=\"#878787\"></circle><path stroke=\"#FFF\" stroke-width=\"1.5\" d=\"M3 6l2 2 4-4\" fill=\"#878787\"></path></g></svg><p id=\"review-9e087801-a1c0-49f4-bd52-fbcb6e9d2f11\" class=\"_2mcZGG\"><span>Certified Buyer</span></p><p class=\"_2sc7ZR\">3 days ago</p></div></div></div></div></div></div></div></div><div class=\"_1AtVbE col-12-12\"></div></div><footer class=\"_3voSl0\"><div class=\"_3rc_xQ\"><div class=\"row\"><div class=\"col gu12 _8Qljeg\"></div></div><div><div class=\"_2WErco row\"><div class=\"_2Brcj4\"><div class=\"_3-dnWo\">ABOUT</div><a href=\"/helpcentre?otracker=undefined_footer_navlinks\" class=\"_1arVWX\">Contact Us</a><a href=\"https://corporate.flipkart.net/corporate-home\" class=\"_1arVWX\">About Us</a><a href=\"https://www.flipkartcareers.com/?otracker=undefined_footer_navlinks\" class=\"_1arVWX\">Careers</a><a href=\"http://stories.flipkart.com/?otracker=undefined_footer_navlinks\" class=\"_1arVWX\">Flipkart Stories</a><a href=\"http://stories.flipkart.com/category/top-stories/news/\" class=\"_1arVWX\">Press</a><a href=\"https://www.flipkartwholesale.com/?otracker=undefined_footer_navlinks\" target=\"_blank\" class=\"_1arVWX\" rel=\"noopener noreferrer\">Flipkart Wholesale</a><a href=\"https://www.cleartrip.com/\" target=\"_blank\" title=\"Cleartrip: #1 Site for Booking Flights Tickets, Buses &amp; Hotels Online\" class=\"_1arVWX\" rel=\"noopener noreferrer\">Cleartrip</a><a href=\"/corporate-information\" class=\"_1arVWX\">Corporate Information</a></div><div class=\"_2Brcj4\"><div class=\"_3-dnWo\">HELP</div><a href=\"/pages/payments\" class=\"_1arVWX\">Payments</a><a href=\"/pages/shipping\" class=\"_1arVWX\">Shipping</a><a href=\"/helpcentre?catalog=55c9c6edb000002e002c1701&amp;view=CATALOG\" class=\"_1arVWX\">Cancellation &amp; Returns</a><a href=\"/helpcentre?catalog=55c9c8e2b0000023002c1702&amp;view=CATALOG\" class=\"_1arVWX\">FAQ</a><a href=\"https://seller.flipkart.com/fiv?otracker=undefined_footer_navlinks\" class=\"_1arVWX\">Report Infringement</a></div><div class=\"_2Brcj4\"><div class=\"_3-dnWo\">CONSUMER POLICY</div><a href=\"/pages/returnpolicy?otracker=undefined_footer_navlinks\" class=\"_1arVWX\">Cancellation &amp; Returns</a><a href=\"/pages/terms?otracker=undefined_footer_navlinks\" class=\"_1arVWX\">Terms Of Use</a><a href=\"/pages/paymentsecurity?otracker=undefined_footer_navlinks\" class=\"_1arVWX\">Security</a><a href=\"/pages/privacypolicy?otracker=undefined_footer_navlinks\" class=\"_1arVWX\">Privacy</a><a href=\"/sitemap?otracker=undefined_footer_navlinks\" class=\"_1arVWX\">Sitemap</a><a href=\"/pages/grievance-redressal-mechanism?otracker=undefined_footer_navlinks\" class=\"_1arVWX\">Grievance Redressal</a><a href=\"/pages/ewaste-compliance-tnc?otracker=undefined_footer_navlinks\" class=\"_1arVWX\">EPR Compliance</a></div><div class=\"_2Brcj4\"><div class=\"_3-dnWo\">SOCIAL</div><a href=\"https://www.facebook.com/flipkart\" class=\"_1arVWX\">Facebook</a><a href=\"https://www.twitter.com/flipkart\" class=\"_1arVWX\">Twitter</a><a href=\"https://www.youtube.com/flipkart\" class=\"_1arVWX\">YouTube</a></div><div class=\"_2Brcj4 address\"><div class=\"_3JHi0r\"><div class=\"_3-dnWo\"><span>Mail Us:</span></div><div class=\"_1U1qnR\"><div class=\"_1LJS6T\"><div class=\"_2NKhZn _1U1qnR\"><p>Flipkart Internet Private Limited, </p>\\n<p> Buildings Alyssa, Begonia &amp; </p>\\n<p> Clove Embassy Tech Village, </p>\\n<p> Outer Ring Road, Devarabeesanahalli Village, </p>\\n<p> Bengaluru, 560103, </p>\\n<p> Karnataka, India</p>\\n</div></div></div></div></div><div class=\"_2Brcj4 address\"><div class=\"_3IT4e6\"><div class=\"_3-dnWo\"><span>Registered Office Address:</span></div><div class=\"_1U1qnR\"><div class=\"_1LJS6T\"><div class=\"_2NKhZn _1U1qnR\"><p>Flipkart Internet Private Limited, </p>\\n<p> Buildings Alyssa, Begonia &amp; </p>\\n<p> Clove Embassy Tech Village, </p>\\n<p> Outer Ring Road, Devarabeesanahalli Village, </p>\\n<p> Bengaluru, 560103, </p>\\n<p> Karnataka, India </p>\\n<p> CIN : U51109KA2012PTC066107 </p>\\n<p> Telephone: <a href=\"tel:044-45614700\">044-45614700</a></p>\\n</div></div></div></div></div></div><div><div class=\"_2uz0vJ\"><div><img src=\"data:image/svg+xml;base64,PHN2ZyB4bWxucz0iaHR0cDovL3d3dy53My5vcmcvMjAwMC9zdmciIHdpZHRoPSIxNiIgaGVpZ2h0PSIxNSIgdmlld0JveD0iMCAwIDE2IDE1Ij4KICAgIDxkZWZzPgogICAgICAgIDxsaW5lYXJHcmFkaWVudCBpZD0iYSIgeDE9IjAlIiB4Mj0iODYuODc2JSIgeTE9IjAlIiB5Mj0iODAuMjAyJSI+CiAgICAgICAgICAgIDxzdG9wIG9mZnNldD0iMCUiIHN0b3AtY29sb3I9IiNGRkQ4MDAiLz4KICAgICAgICAgICAgPHN0b3Agb2Zmc2V0PSIxMDAlIiBzdG9wLWNvbG9yPSIjRkZBRjAwIi8+CiAgICAgICAgPC9saW5lYXJHcmFkaWVudD4KICAgIDwvZGVmcz4KICAgIDxnIGZpbGw9Im5vbmUiIGZpbGwtcnVsZT0iZXZlbm9kZCI+CiAgICAgICAgPHBhdGggZD0iTS0yLTJoMjB2MjBILTJ6Ii8+CiAgICAgICAgPHBhdGggZmlsbD0idXJsKCNhKSIgZmlsbC1ydWxlPSJub256ZXJvIiBkPSJNMTUuOTMgNS42MTRoLTIuOTQ4VjQuMTRjMC0uODE4LS42NTUtMS40NzMtMS40NzMtMS40NzNIOC41NmMtLjgxNyAwLTEuNDczLjY1NS0xLjQ3MyAxLjQ3M3YxLjQ3NEg0LjE0Yy0uODE4IDAtMS40NjYuNjU2LTEuNDY2IDEuNDc0bC0uMDA3IDguMTA1YzAgLjgxOC42NTUgMS40NzQgMS40NzMgMS40NzRoMTEuNzljLjgxOCAwIDEuNDc0LS42NTYgMS40NzQtMS40NzRWNy4wODhjMC0uODE4LS42NTYtMS40NzQtMS40NzQtMS40NzR6bS00LjQyMSAwSDguNTZWNC4xNGgyLjk0OHYxLjQ3NHoiIHRyYW5zZm9ybT0idHJhbnNsYXRlKC0yIC0yKSIvPgogICAgPC9nPgo8L3N2Zz4K\"/><a href=\"https://seller.flipkart.com/?utm_source=fkwebsite&amp;utm_medium=websitedirect\"><span class=\"hDTmm5\">Become a Seller</span></a></div><div><img src=\"data:image/svg+xml;base64,PHN2ZyB4bWxucz0iaHR0cDovL3d3dy53My5vcmcvMjAwMC9zdmciIHdpZHRoPSIxNSIgaGVpZ2h0PSIxNSIgdmlld0JveD0iMCAwIDE1IDE1Ij4KICAgIDxkZWZzPgogICAgICAgIDxsaW5lYXJHcmFkaWVudCBpZD0iYSIgeDE9IjAlIiB4Mj0iODYuODc2JSIgeTE9IjAlIiB5Mj0iODAuMjAyJSI+CiAgICAgICAgICAgIDxzdG9wIG9mZnNldD0iMCUiIHN0b3AtY29sb3I9IiNGRkQ4MDAiLz4KICAgICAgICAgICAgPHN0b3Agb2Zmc2V0PSIxMDAlIiBzdG9wLWNvbG9yPSIjRkZBRjAwIi8+CiAgICAgICAgPC9saW5lYXJHcmFkaWVudD4KICAgIDwvZGVmcz4KICAgIDxnIGZpbGw9Im5vbmUiIGZpbGwtcnVsZT0iZXZlbm9kZCI+CiAgICAgICAgPHBhdGggZD0iTS0zLTNoMjB2MjBILTN6Ii8+CiAgICAgICAgPHBhdGggZmlsbD0idXJsKCNhKSIgZmlsbC1ydWxlPSJub256ZXJvIiBkPSJNMTAuNDkyIDNDNi4zNTMgMyAzIDYuMzYgMyAxMC41YzAgNC4xNCAzLjM1MyA3LjUgNy40OTIgNy41QzE0LjY0IDE4IDE4IDE0LjY0IDE4IDEwLjUgMTggNi4zNiAxNC42NCAzIDEwLjQ5MiAzem0zLjE4IDEyTDEwLjUgMTMuMDg4IDcuMzI3IDE1bC44NC0zLjYwN0w1LjM3IDguOTdsMy42OS0uMzE1TDEwLjUgNS4yNWwxLjQ0IDMuMzk4IDMuNjkuMzE1LTIuNzk4IDIuNDIyLjg0IDMuNjE1eiIgdHJhbnNmb3JtPSJ0cmFuc2xhdGUoLTMgLTMpIi8+CiAgICA8L2c+Cjwvc3ZnPgo=\"/><a href=\"https://brands.flipkart.com\"><span class=\"hDTmm5\">Advertise</span></a></div><div><img src=\"data:image/svg+xml;base64,PHN2ZyB4bWxucz0iaHR0cDovL3d3dy53My5vcmcvMjAwMC9zdmciIHdpZHRoPSIxOCIgaGVpZ2h0PSIxNyIgdmlld0JveD0iMCAwIDE4IDE3Ij4KICAgIDxkZWZzPgogICAgICAgIDxsaW5lYXJHcmFkaWVudCBpZD0iYSIgeDE9IjAlIiB4Mj0iODYuODc2JSIgeTE9IjAlIiB5Mj0iODAuMjAyJSI+CiAgICAgICAgICAgIDxzdG9wIG9mZnNldD0iMCUiIHN0b3AtY29sb3I9IiNGRkQ4MDAiLz4KICAgICAgICAgICAgPHN0b3Agb2Zmc2V0PSIxMDAlIiBzdG9wLWNvbG9yPSIjRkZBRjAwIi8+CiAgICAgICAgPC9saW5lYXJHcmFkaWVudD4KICAgIDwvZGVmcz4KICAgIDxnIGZpbGw9Im5vbmUiIGZpbGwtcnVsZT0iZXZlbm9kZCI+CiAgICAgICAgPHBhdGggZD0iTS0xLTFoMjB2MjBILTF6Ii8+CiAgICAgICAgPHBhdGggZmlsbD0idXJsKCNhKSIgZmlsbC1ydWxlPSJub256ZXJvIiBkPSJNMTYuNjY3IDVIMTQuODVjLjA5Mi0uMjU4LjE1LS41NDIuMTUtLjgzM2EyLjQ5NyAyLjQ5NyAwIDAgMC00LjU4My0xLjM3NUwxMCAzLjM1bC0uNDE3LS41NjdBMi41MSAyLjUxIDAgMCAwIDcuNSAxLjY2N2EyLjQ5NyAyLjQ5NyAwIDAgMC0yLjUgMi41YzAgLjI5MS4wNTguNTc1LjE1LjgzM0gzLjMzM2MtLjkyNSAwLTEuNjU4Ljc0Mi0xLjY1OCAxLjY2N2wtLjAwOCA5LjE2NkExLjY2IDEuNjYgMCAwIDAgMy4zMzMgMTcuNWgxMy4zMzRhMS42NiAxLjY2IDAgMCAwIDEuNjY2LTEuNjY3VjYuNjY3QTEuNjYgMS42NiAwIDAgMCAxNi42NjcgNXptMCA2LjY2N0gzLjMzM3YtNWg0LjIzNEw1LjgzMyA5LjAyNWwxLjM1Ljk3NSAxLjk4NC0yLjdMMTAgNi4xNjdsLjgzMyAxLjEzMyAxLjk4NCAyLjcgMS4zNS0uOTc1LTEuNzM0LTIuMzU4aDQuMjM0djV6IiB0cmFuc2Zvcm09InRyYW5zbGF0ZSgtMSAtMSkiLz4KICAgIDwvZz4KPC9zdmc+Cg==\"/><a href=\"/the-gift-card-store?otracker=undefined_footer_footer_navlinks\"><span class=\"hDTmm5\">Gift Cards</span></a></div><div><img src=\"data:image/svg+xml;base64,PHN2ZyB4bWxucz0iaHR0cDovL3d3dy53My5vcmcvMjAwMC9zdmciIHdpZHRoPSIxNSIgaGVpZ2h0PSIxNSIgdmlld0JveD0iMCAwIDE1IDE1Ij4KICAgIDxkZWZzPgogICAgICAgIDxsaW5lYXJHcmFkaWVudCBpZD0iYSIgeDE9IjAlIiB4Mj0iODYuODc2JSIgeTE9IjAlIiB5Mj0iODAuMjAyJSI+CiAgICAgICAgICAgIDxzdG9wIG9mZnNldD0iMCUiIHN0b3AtY29sb3I9IiNGRkQ4MDAiLz4KICAgICAgICAgICAgPHN0b3Agb2Zmc2V0PSIxMDAlIiBzdG9wLWNvbG9yPSIjRkZBRjAwIi8+CiAgICAgICAgPC9saW5lYXJHcmFkaWVudD4KICAgIDwvZGVmcz4KICAgIDxnIGZpbGw9Im5vbmUiIGZpbGwtcnVsZT0iZXZlbm9kZCI+CiAgICAgICAgPHBhdGggZD0iTS0yLTNoMjB2MjBILTJ6Ii8+CiAgICAgICAgPHBhdGggZmlsbD0idXJsKCNhKSIgZmlsbC1ydWxlPSJub256ZXJvIiBkPSJNOS41IDNDNS4zNiAzIDIgNi4zNiAyIDEwLjUgMiAxNC42NCA1LjM2IDE4IDkuNSAxOGM0LjE0IDAgNy41LTMuMzYgNy41LTcuNUMxNyA2LjM2IDEzLjY0IDMgOS41IDN6bS43NSAxMi43NWgtMS41di0xLjVoMS41djEuNXptMS41NTMtNS44MTNsLS42NzYuNjljLS41NC41NDgtLjg3Ny45OTgtLjg3NyAyLjEyM2gtMS41di0uMzc1YzAtLjgyNS4zMzgtMS41NzUuODc3LTIuMTIzbC45My0uOTQ1Yy4yNzgtLjI3LjQ0My0uNjQ1LjQ0My0xLjA1NyAwLS44MjUtLjY3NS0xLjUtMS41LTEuNVM4IDcuNDI1IDggOC4yNUg2LjVhMyAzIDAgMSAxIDYgMGMwIC42Ni0uMjcgMS4yNi0uNjk3IDEuNjg4eiIgdHJhbnNmb3JtPSJ0cmFuc2xhdGUoLTIgLTMpIi8+CiAgICA8L2c+Cjwvc3ZnPgo=\"/><a href=\"/helpcentre?otracker=undefined_footer_footer_navlinks\"><span class=\"hDTmm5\">Help Center</span></a></div><span class=\"z3ht-w\">© 2007-<!-- -->2023<!-- --> <span>Flipkart.com</span></span><img src=\"//static-assets-web.flixcart.com/fk-p-linchpin-web/fk-cp-zion/img/payment-method_69e7ec.svg\"/></div></div></div></div></footer><div class=\"_1EcK2J _38JCdA\"><div class=\"bra6U8\"><svg width=\"16\" height=\"27\" viewBox=\"0 0 16 27\" xmlns=\"http://www.w3.org/2000/svg\" class=\"_2TdLiZ\"><path d=\"M16 23.207L6.11 13.161 16 3.093 12.955 0 0 13.161l12.955 13.161z\" fill=\"#fff\" class=\"_3ZKfA2\"></path></svg><span>Back to top</span></div></div></div></div> <script type=\"application/ld+json\" nonce=\"16893201252795550433\" id=\"jsonLD\">{\"@context\":\"http://schema.org\",\"@type\":\"ItemList\",\"itemListElement\":[{\"@type\":\"ListItem\",\"position\":1,\"url\":\"https://www.flipkart.com/asus-tuf-gaming-f15-ai-powered-intel-core-i5-11th-gen-11260h-8-gb-512-gb-ssd-windows-11-home-4-graphics-nvidia-geforce-rtx-2050-144-hz-70-w-fx506hf-hn075w-laptop/p/itmbd858702e076f?pid=COMGS2AJESZQCMRT&lid=LSTCOMGS2AJESZQCMRTZVTWT2&marketplace=FLIPKART&q=laptops&store=6bo%2Fb5g\",\"name\":\"ASUS TUF Gaming F15 - AI Powered Gaming Intel Core i5 11th Gen 11260H - (8 GB/512 GB SSD/Windows 11 Home/4 GB Graphics/NVIDIA GeForce RTX 2050/144 Hz/70 W) FX506HF-HN075W Gaming Laptop\"},{\"@type\":\"ListItem\",\"position\":2,\"url\":\"https://www.flipkart.com/asus-tuf-gaming-f15-90whr-battery-intel-core-i5-11th-gen-11400h-16-gb-512-gb-ssd-windows-11-home-4-graphics-nvidia-geforce-rtx-3050-144-hz-75-w-fx506hc-hn362w-laptop/p/itme1099c5e0c014?pid=COMGPQEXKNS6N2ZM&lid=LSTCOMGPQEXKNS6N2ZM0B2U0W&marketplace=FLIPKART&q=laptops&store=6bo%2Fb5g\",\"name\":\"ASUS TUF Gaming F15 with 90WHr Battery Intel Core i5 11th Gen 11400H - (16 GB/512 GB SSD/Windows 11 Home/4 GB Graphics/NVIDIA GeForce RTX 3050/144 Hz/75 W) FX506HC-HN362W Gaming Laptop\"},{\"@type\":\"ListItem\",\"position\":3,\"url\":\"https://www.flipkart.com/lenovo-ideapad-slim-3-intel-core-i5-11th-gen-1155g7-8-gb-512-gb-ssd-windows-11-home-15itl6-thin-light-laptop/p/itmd81779ae0a4bb?pid=COMGGR9SBTFZCNDU&lid=LSTCOMGGR9SBTFZCNDU84OXGZ&marketplace=FLIPKART&q=laptops&store=6bo%2Fb5g\",\"name\":\"Lenovo IdeaPad Slim 3 Intel Core i5 11th Gen 1155G7 - (8 GB/512 GB SSD/Windows 11 Home) 15ITL6 Thin and Light Laptop\"},{\"@type\":\"ListItem\",\"position\":4,\"url\":\"https://www.flipkart.com/hp-amd-ryzen-3-quad-core-5300u-8-gb-512-gb-ssd-windows-11-home-15s-eq2143au-thin-light-laptop/p/itm59e288d010cef?pid=COMGAX8EEYFKCESS&lid=LSTCOMGAX8EEYFKCESS83R2QP&marketplace=FLIPKART&q=laptops&store=6bo%2Fb5g&spotlightTagId=TrendingId_6bo%2Fb5g\",\"name\":\"HP AMD Ryzen 3 Quad Core 5300U - (8 GB/512 GB SSD/Windows 11 Home) 15s-eq2143au Thin and Light Laptop\"},{\"@type\":\"ListItem\",\"position\":5,\"url\":\"https://www.flipkart.com/acer-one-intel-core-i3-11th-gen-1115g4-8-gb-512-gb-ssd-windows-11-home-ao-14-z-8-415-thin-light-laptop/p/itm34f24cbac6f26?pid=COMGPF5CQ7VDWDT4&lid=LSTCOMGPF5CQ7VDWDT4PET780&marketplace=FLIPKART&q=laptops&store=6bo%2Fb5g&spotlightTagId=BestsellerId_6bo%2Fb5g\",\"name\":\"Acer One Intel Core i3 11th Gen 1115G4 - (8 GB/512 GB SSD/Windows 11 Home) AO 14 Z 8-415 Thin and Light Laptop\"},{\"@type\":\"ListItem\",\"position\":6,\"url\":\"https://www.flipkart.com/asus-vivobook-15-intel-core-i3-11th-gen-1115g4-8-gb-256-gb-ssd-windows-11-home-x1500ea-ej311w-thin-light-laptop/p/itmcc87b88b4d7bf?pid=COMGS7M36HZBHH5R&lid=LSTCOMGS7M36HZBHH5RNHNWTN&marketplace=FLIPKART&q=laptops&store=6bo%2Fb5g\",\"name\":\"ASUS Vivobook 15 Intel Core i3 11th Gen 1115G4 - (8 GB/256 GB SSD/Windows 11 Home) X1500EA-EJ311W Thin and Light Laptop\"},{\"@type\":\"ListItem\",\"position\":7,\"url\":\"https://www.flipkart.com/lenovo-ideapad-1-amd-athlon-dual-core-7120u-8-gb-512-gb-ssd-windows-11-home-15amn7-thin-light-laptop/p/itm920ecb24fc5b6?pid=COMGSB23REP7G84N&lid=LSTCOMGSB23REP7G84N5VMCYP&marketplace=FLIPKART&q=laptops&store=6bo%2Fb5g\",\"name\":\"Lenovo IdeaPad 1 AMD Athlon Dual Core 7120U - (8 GB/512 GB SSD/Windows 11 Home) 15AMN7 Thin and Light Laptop\"},{\"@type\":\"ListItem\",\"position\":8,\"url\":\"https://www.flipkart.com/hp-15s-amd-ryzen-5-hexa-core-5500u-16-gb-512-gb-ssd-windows-11-home-15s-eq2132au-thin-light-laptop/p/itm72370b6c44940?pid=COMGSB2RZZQHMHK2&lid=LSTCOMGSB2RZZQHMHK2G2CLXS&marketplace=FLIPKART&q=laptops&store=6bo%2Fb5g\",\"name\":\"HP 15s AMD Ryzen 5 Hexa Core 5500U - (16 GB/512 GB SSD/Windows 11 Home) 15s-eq2132au Thin and Light Laptop\"},{\"@type\":\"ListItem\",\"position\":9,\"url\":\"https://www.flipkart.com/asus-vivobook-15-intel-core-i5-11th-gen-1135g7-8-gb-512-gb-ssd-windows-11-home-x515ea-ej522ws-thin-light-laptop/p/itmbfbbf7747aa01?pid=COMGFHNGGWNDVGSY&lid=LSTCOMGFHNGGWNDVGSY5C6JML&marketplace=FLIPKART&q=laptops&store=6bo%2Fb5g\",\"name\":\"ASUS Vivobook 15 Intel Core i5 11th Gen 1135G7 - (8 GB/512 GB SSD/Windows 11 Home) X515EA-EJ522WS Thin and Light Laptop\"},{\"@type\":\"ListItem\",\"position\":10,\"url\":\"https://www.flipkart.com/asus-vivobook-go-14-intel-celeron-dual-core-n4500-8-gb-256-gb-ssd-windows-11-home-e410ka-ek013w-thin-light-laptop/p/itmae536e3b5063e?pid=COMGSV58NSJBF6JK&lid=LSTCOMGSV58NSJBF6JKUERG1Z&marketplace=FLIPKART&q=laptops&store=6bo%2Fb5g\",\"name\":\"ASUS Vivobook Go 14 Intel Celeron Dual Core N4500 - (8 GB/256 GB SSD/Windows 11 Home) E410KA-EK013W Thin and Light Laptop\"}]}</script> <script type=\"application/ld+json\" nonce=\"16893201252795550433\" id=\"jsonLD\">{}</script><script type=\"application/ld+json\" nonce=\"16893201252795550433\">{\\n    \"@context\": \"http://schema.org\",\\n    \"@type\": \"WebSite\",\\n    \"url\": \"http://www.flipkart.com/\",\\n    \"potentialAction\": [{\\n        \"@type\": \"SearchAction\",\\n        \"target\": \"http://www.flipkart.com/search?q={search_term_string}\",\\n        \"query-input\": \"required name=search_term_string\"\\n        },{\\n        \"@type\": \"SearchAction\",\\n        \"target\": \"android-app://com.flipkart.android/flipkart/de_sq_seg_-search.flipkart.com-_{search_term_string}\",\\n        \"query-input\": \"required name=search_term_string\"\\n    }]\\n}</script><script nonce=\"16893201252795550433\" id=\"is_script\">window.__INITIAL_STATE__ = {};</script> <link data-chunk=\"NavMenu\" rel=\"stylesheet\" href=\"//static-assets-web.flixcart.com/fk-p-linchpin-web/fk-cp-zion/css/NavMenu.chunk.0a28b6.css\">\\n<link data-chunk=\"SearchFeedback\" rel=\"stylesheet\" href=\"//static-assets-web.flixcart.com/fk-p-linchpin-web/fk-cp-zion/css/SearchFeedback.chunk.51a13b.css\"> <script id=\"__LOADABLE_REQUIRED_CHUNKS__\" type=\"application/json\">[130,205]</script><script id=\"__LOADABLE_REQUIRED_CHUNKS___ext\" type=\"application/json\">{\"namedChunks\":[\"NavMenu\",\"SearchFeedback\"]}</script>\\n<script async data-chunk=\"NavMenu\" src=\"//static-assets-web.flixcart.com/fk-p-linchpin-web/fk-cp-zion/js/NavMenu.chunk.225b6b55.js\"></script>\\n<script async data-chunk=\"SearchFeedback\" src=\"//static-assets-web.flixcart.com/fk-p-linchpin-web/fk-cp-zion/js/SearchFeedback.chunk.c52b8b17.js\"></script><script nonce=\"16893201252795550433\">window.omniture={tpv:[],tl:[]};window.omniture.trackPageView=function(){window.omniture.tpv.push(arguments)};window.omniture.trackLink=function(){window.omniture.tl.push(arguments)}\\n\\n    if(window.location.host === \\'www.flipkart.com\\' || /\\\\.store\\\\.flipkart\\\\.com/i.test(window.location.host)){\\n        window.s_account = \"flipkart-prd\"; //omniture account id\\n    }else{\\n        window.s_account = \"flipkart-prd-test\";\\n    }\\n    window.s_isDesktop = true;</script><script nonce=\"16893201252795550433\">function isMobile(){\\n\\t\\tif (!!(navigator.userAgentData && navigator.userAgentData.mobile) || navigator.userAgent.indexOf(\"Mobile\") !== -1){\\n\\t\\t\\treturn true;\\n\\t\\t}\\n\\t\\telse {\\n\\t\\t\\treturn false;\\n\\t\\t}\\n\\t}\\n\\n\\tif (\\'serviceWorker\\' in navigator && !isMobile()) {\\n\\t\\tnavigator.serviceWorker.register(\\'/sw.js\\').then(function(registration) {\\n\\t\\t\\tconsole.log(\\'ServiceWorker registration successful with scope: \\', registration.scope);\\n\\t\\t\\tnavigator.onLine && navigator.serviceWorker.controller && navigator.serviceWorker.controller.postMessage(\\'BANDWIDTH_COMPUTE\\');\\n\\t\\t\\tnavigator.serviceWorker.addEventListener(\\'message\\', function (event) {\\n\\t\\t\\t\\ttry {\\n\\t\\t\\t\\t\\tconst bandwidthData = JSON.parse(event.data);\\n\\t\\t\\t\\t\\tif (bandwidthData && bandwidthData.data) {\\n\\t\\t\\t\\t\\t\\twindow.bandwidth = bandwidthData.data.downlink + \\'_\\' + bandwidthData.data.computeMethod + \\'_\\' + bandwidthData.data.effectiveType + \\'_\\' + bandwidthData.data.type;\\n\\t\\t\\t\\t\\t}\\n\\t\\t\\t\\t}catch(err) {\\n\\t\\t\\t\\t\\tconsole.error(\\'JSON.parse failed:\\', err);\\n\\t\\t\\t\\t}\\n\\t\\t\\t});\\n\\t\\t})\\n\\t\\t.catch(function(err) {\\n\\t\\t\\tconsole.error(\\'ServiceWorker registration failed: \\', err);\\n\\t\\t});\\n\\t} else if(\\'serviceWorker\\' in navigator && isMobile()){\\n        navigator.serviceWorker.getRegistration().then(function(registration) {\\n            var serviceWorkerUnregistered=false;\\n            if(registration) {\\n                registration.unregister();\\n                serviceWorkerUnregistered=true;\\n            }\\n            serviceWorkerUnregistered && window.location.reload();\\n        });\\n    }</script> <script src=\"///www/linchpin/batman-returns/omni/omni16.js\" defer=\"defer\" async nonce=\"16893201252795550433\" id=\"omni_script\"></script>   <script nonce=\"16893201252795550433\">window._pxAppId = \\'PXgNtTli3A\\';</script><script nonce=\"16893201252795550433\" src=\"///px/gNtTli3A/init.js\" async></script></body></html>'"
      ]
     },
     "execution_count": 7,
     "metadata": {},
     "output_type": "execute_result"
    }
   ],
   "source": [
    "htmlCode"
   ]
  },
  {
   "cell_type": "code",
   "execution_count": 8,
   "id": "a07fc47d",
   "metadata": {},
   "outputs": [
    {
     "name": "stdout",
     "output_type": "stream",
     "text": [
      "₹50,990\n"
     ]
    }
   ],
   "source": [
    "# Price\n",
    "\n",
    "price = soup.find('div', attrs={'class' : '_30jeq3 _1_WHN1'})\n",
    "\n",
    "print(price.text)"
   ]
  },
  {
   "cell_type": "code",
   "execution_count": 10,
   "id": "c6d4082d",
   "metadata": {},
   "outputs": [
    {
     "name": "stdout",
     "output_type": "stream",
     "text": [
      "₹50,990\n",
      "₹60,990\n",
      "₹44,990\n",
      "₹31,990\n",
      "₹26,990\n",
      "₹30,990\n",
      "₹29,990\n",
      "₹46,500\n",
      "₹43,990\n",
      "₹23,990\n",
      "₹34,990\n",
      "₹46,900\n",
      "₹30,990\n",
      "₹34,990\n",
      "₹33,990\n",
      "₹29,990\n",
      "₹63,300\n",
      "₹33,490\n",
      "₹49,990\n",
      "₹36,990\n",
      "₹27,990\n",
      "₹41,990\n",
      "₹23,990\n",
      "₹28,990\n"
     ]
    }
   ],
   "source": [
    "prices = soup.find_all('div', attrs = {'class' : '_30jeq3 _1_WHN1'})\n",
    "\n",
    "for i in prices:\n",
    "    print(i.text)"
   ]
  },
  {
   "cell_type": "code",
   "execution_count": 11,
   "id": "fccb40a8",
   "metadata": {},
   "outputs": [],
   "source": [
    "# Scrapping the Web Page\n",
    "\n",
    "title = []\n",
    "rating = []\n",
    "price = []\n",
    "features = []\n",
    "\n",
    "for i in range(1, 27):\n",
    "    URL = 'https://www.flipkart.com/search?q=laptops&as=on&as-show=on&otracker=AS_Query_TrendingAutoSuggest_1_0_na_na_na&otracker1=AS_Query_TrendingAutoSuggest_1_0_na_na_na&as-pos=1&as-type=HISTORY&suggestionId=laptops&requestId=46019d4a-7ca0-47df-abb2-12391aa3db52&page={}'. format(i)\n",
    "    \n",
    "    page = requests.get(URL)\n",
    "    htmlCode = page.text\n",
    "    \n",
    "    soup = BeautifulSoup(htmlCode)\n",
    "    \n",
    "    for x in soup.find_all('div', attrs={'class' : '_3pLy-c row'}):\n",
    "\n",
    "        product = x.find('div', attrs={'class' : '_4rR01T'})\n",
    "        if product is None:\n",
    "            title.append(np.NaN)\n",
    "        else:\n",
    "            title.append(product.text)\n",
    "\n",
    "        mrp = x.find('div', attrs={'class' : '_30jeq3 _1_WHN1'})\n",
    "        if mrp is None:\n",
    "            price.append(np.NaN)\n",
    "        else:\n",
    "            price.append(mrp.text)\n",
    "\n",
    "        rate = x.find('div', attrs={'class' : '_3LWZlK'})\n",
    "        if rate is None:\n",
    "            rating.append(np.NaN)\n",
    "        else:\n",
    "            rating.append(rate.text)\n",
    "\n",
    "        f = x.find('ul', attrs={'class' : '_1xgFaf'})\n",
    "        if f is None:\n",
    "            features.append(np.NaN)\n",
    "        else:\n",
    "            features.append(f.text)"
   ]
  },
  {
   "cell_type": "code",
   "execution_count": 12,
   "id": "c74ce945",
   "metadata": {},
   "outputs": [
    {
     "name": "stdout",
     "output_type": "stream",
     "text": [
      "624\n",
      "624\n",
      "624\n",
      "624\n"
     ]
    }
   ],
   "source": [
    "print(len(title))\n",
    "print(len(price))\n",
    "print(len(rating))\n",
    "print(len(features))"
   ]
  },
  {
   "cell_type": "markdown",
   "id": "0aff1898",
   "metadata": {},
   "source": [
    "## Create a DataFrame and save it in CSV file"
   ]
  },
  {
   "cell_type": "code",
   "execution_count": 13,
   "id": "3ba9fb3e",
   "metadata": {},
   "outputs": [],
   "source": [
    "df = pd.DataFrame({'Product' : title, 'Rating' : rating, 'MRP' : price, 'Feature' : features})"
   ]
  },
  {
   "cell_type": "code",
   "execution_count": 14,
   "id": "af7c8eb5",
   "metadata": {},
   "outputs": [
    {
     "data": {
      "text/html": [
       "<div>\n",
       "<style scoped>\n",
       "    .dataframe tbody tr th:only-of-type {\n",
       "        vertical-align: middle;\n",
       "    }\n",
       "\n",
       "    .dataframe tbody tr th {\n",
       "        vertical-align: top;\n",
       "    }\n",
       "\n",
       "    .dataframe thead th {\n",
       "        text-align: right;\n",
       "    }\n",
       "</style>\n",
       "<table border=\"1\" class=\"dataframe\">\n",
       "  <thead>\n",
       "    <tr style=\"text-align: right;\">\n",
       "      <th></th>\n",
       "      <th>Product</th>\n",
       "      <th>Rating</th>\n",
       "      <th>MRP</th>\n",
       "      <th>Feature</th>\n",
       "    </tr>\n",
       "  </thead>\n",
       "  <tbody>\n",
       "    <tr>\n",
       "      <th>0</th>\n",
       "      <td>CHUWI Intel Celeron Dual Core 11th Gen N4020 -...</td>\n",
       "      <td>3.7</td>\n",
       "      <td>₹18,990</td>\n",
       "      <td>Light weight, Portable Laptop\\nRAM/Storage: 8G...</td>\n",
       "    </tr>\n",
       "    <tr>\n",
       "      <th>1</th>\n",
       "      <td>CHUWI Intel Celeron Dual Core 10th Gen N4020 -...</td>\n",
       "      <td>3.7</td>\n",
       "      <td>₹15,990</td>\n",
       "      <td>Fan-less Design\\n(Low Power Consumption)4x fas...</td>\n",
       "    </tr>\n",
       "    <tr>\n",
       "      <th>2</th>\n",
       "      <td>ASUS Vivobook 15 Intel Core i3 11th Gen 1115G4...</td>\n",
       "      <td>4.3</td>\n",
       "      <td>₹30,990</td>\n",
       "      <td>Intel Core i3 Processor (11th Gen)8 GB DDR4 RA...</td>\n",
       "    </tr>\n",
       "    <tr>\n",
       "      <th>3</th>\n",
       "      <td>Lenovo IdeaPad Slim 3 Intel Core i5 11th Gen 1...</td>\n",
       "      <td>4.2</td>\n",
       "      <td>₹46,765</td>\n",
       "      <td>Intel Core i5 Processor (11th Gen)16 GB DDR4 R...</td>\n",
       "    </tr>\n",
       "    <tr>\n",
       "      <th>4</th>\n",
       "      <td>ASUS Vivobook Go 14 Intel Celeron Dual Core N4...</td>\n",
       "      <td>4.2</td>\n",
       "      <td>₹23,990</td>\n",
       "      <td>Intel Celeron Dual Core Processor8 GB DDR4 RAM...</td>\n",
       "    </tr>\n",
       "  </tbody>\n",
       "</table>\n",
       "</div>"
      ],
      "text/plain": [
       "                                             Product Rating      MRP  \\\n",
       "0  CHUWI Intel Celeron Dual Core 11th Gen N4020 -...    3.7  ₹18,990   \n",
       "1  CHUWI Intel Celeron Dual Core 10th Gen N4020 -...    3.7  ₹15,990   \n",
       "2  ASUS Vivobook 15 Intel Core i3 11th Gen 1115G4...    4.3  ₹30,990   \n",
       "3  Lenovo IdeaPad Slim 3 Intel Core i5 11th Gen 1...    4.2  ₹46,765   \n",
       "4  ASUS Vivobook Go 14 Intel Celeron Dual Core N4...    4.2  ₹23,990   \n",
       "\n",
       "                                             Feature  \n",
       "0  Light weight, Portable Laptop\\nRAM/Storage: 8G...  \n",
       "1  Fan-less Design\\n(Low Power Consumption)4x fas...  \n",
       "2  Intel Core i3 Processor (11th Gen)8 GB DDR4 RA...  \n",
       "3  Intel Core i5 Processor (11th Gen)16 GB DDR4 R...  \n",
       "4  Intel Celeron Dual Core Processor8 GB DDR4 RAM...  "
      ]
     },
     "execution_count": 14,
     "metadata": {},
     "output_type": "execute_result"
    }
   ],
   "source": [
    "df.head()"
   ]
  },
  {
   "cell_type": "code",
   "execution_count": 15,
   "id": "625398ec",
   "metadata": {},
   "outputs": [
    {
     "data": {
      "text/plain": [
       "(624, 4)"
      ]
     },
     "execution_count": 15,
     "metadata": {},
     "output_type": "execute_result"
    }
   ],
   "source": [
    "df.shape"
   ]
  },
  {
   "cell_type": "code",
   "execution_count": 16,
   "id": "6db708da",
   "metadata": {},
   "outputs": [
    {
     "name": "stdout",
     "output_type": "stream",
     "text": [
      "<class 'pandas.core.frame.DataFrame'>\n",
      "RangeIndex: 624 entries, 0 to 623\n",
      "Data columns (total 4 columns):\n",
      " #   Column   Non-Null Count  Dtype \n",
      "---  ------   --------------  ----- \n",
      " 0   Product  624 non-null    object\n",
      " 1   Rating   581 non-null    object\n",
      " 2   MRP      624 non-null    object\n",
      " 3   Feature  624 non-null    object\n",
      "dtypes: object(4)\n",
      "memory usage: 19.6+ KB\n"
     ]
    }
   ],
   "source": [
    "df.info()"
   ]
  },
  {
   "cell_type": "code",
   "execution_count": 17,
   "id": "033ae273",
   "metadata": {},
   "outputs": [],
   "source": [
    "df.to_csv('Laptop_Details.csv', index = False)"
   ]
  },
  {
   "cell_type": "markdown",
   "id": "860c2f4c",
   "metadata": {},
   "source": [
    "## Extracting the Details using Regex"
   ]
  },
  {
   "cell_type": "code",
   "execution_count": 18,
   "id": "d699ab94",
   "metadata": {},
   "outputs": [],
   "source": [
    "import re"
   ]
  },
  {
   "cell_type": "code",
   "execution_count": 20,
   "id": "32f89ff2",
   "metadata": {},
   "outputs": [],
   "source": [
    "# print(df['Feature'][0])\n",
    "# print(df['Feature'][2])\n",
    "# print(df['Feature'][6])"
   ]
  },
  {
   "cell_type": "code",
   "execution_count": 21,
   "id": "e87f811d",
   "metadata": {},
   "outputs": [
    {
     "data": {
      "text/html": [
       "<div>\n",
       "<style scoped>\n",
       "    .dataframe tbody tr th:only-of-type {\n",
       "        vertical-align: middle;\n",
       "    }\n",
       "\n",
       "    .dataframe tbody tr th {\n",
       "        vertical-align: top;\n",
       "    }\n",
       "\n",
       "    .dataframe thead th {\n",
       "        text-align: right;\n",
       "    }\n",
       "</style>\n",
       "<table border=\"1\" class=\"dataframe\">\n",
       "  <thead>\n",
       "    <tr style=\"text-align: right;\">\n",
       "      <th></th>\n",
       "      <th>Product</th>\n",
       "      <th>Rating</th>\n",
       "      <th>MRP</th>\n",
       "      <th>Feature</th>\n",
       "    </tr>\n",
       "  </thead>\n",
       "  <tbody>\n",
       "    <tr>\n",
       "      <th>0</th>\n",
       "      <td>CHUWI Intel Celeron Dual Core 11th Gen N4020 -...</td>\n",
       "      <td>3.7</td>\n",
       "      <td>₹18,990</td>\n",
       "      <td>Light weight, Portable Laptop\\nRAM/Storage: 8G...</td>\n",
       "    </tr>\n",
       "    <tr>\n",
       "      <th>1</th>\n",
       "      <td>CHUWI Intel Celeron Dual Core 10th Gen N4020 -...</td>\n",
       "      <td>3.7</td>\n",
       "      <td>₹15,990</td>\n",
       "      <td>Fan-less Design\\n(Low Power Consumption)4x fas...</td>\n",
       "    </tr>\n",
       "    <tr>\n",
       "      <th>2</th>\n",
       "      <td>ASUS Vivobook 15 Intel Core i3 11th Gen 1115G4...</td>\n",
       "      <td>4.3</td>\n",
       "      <td>₹30,990</td>\n",
       "      <td>Intel Core i3 Processor (11th Gen)8 GB DDR4 RA...</td>\n",
       "    </tr>\n",
       "    <tr>\n",
       "      <th>3</th>\n",
       "      <td>Lenovo IdeaPad Slim 3 Intel Core i5 11th Gen 1...</td>\n",
       "      <td>4.2</td>\n",
       "      <td>₹46,765</td>\n",
       "      <td>Intel Core i5 Processor (11th Gen)16 GB DDR4 R...</td>\n",
       "    </tr>\n",
       "    <tr>\n",
       "      <th>4</th>\n",
       "      <td>ASUS Vivobook Go 14 Intel Celeron Dual Core N4...</td>\n",
       "      <td>4.2</td>\n",
       "      <td>₹23,990</td>\n",
       "      <td>Intel Celeron Dual Core Processor8 GB DDR4 RAM...</td>\n",
       "    </tr>\n",
       "  </tbody>\n",
       "</table>\n",
       "</div>"
      ],
      "text/plain": [
       "                                             Product Rating      MRP  \\\n",
       "0  CHUWI Intel Celeron Dual Core 11th Gen N4020 -...    3.7  ₹18,990   \n",
       "1  CHUWI Intel Celeron Dual Core 10th Gen N4020 -...    3.7  ₹15,990   \n",
       "2  ASUS Vivobook 15 Intel Core i3 11th Gen 1115G4...    4.3  ₹30,990   \n",
       "3  Lenovo IdeaPad Slim 3 Intel Core i5 11th Gen 1...    4.2  ₹46,765   \n",
       "4  ASUS Vivobook Go 14 Intel Celeron Dual Core N4...    4.2  ₹23,990   \n",
       "\n",
       "                                             Feature  \n",
       "0  Light weight, Portable Laptop\\nRAM/Storage: 8G...  \n",
       "1  Fan-less Design\\n(Low Power Consumption)4x fas...  \n",
       "2  Intel Core i3 Processor (11th Gen)8 GB DDR4 RA...  \n",
       "3  Intel Core i5 Processor (11th Gen)16 GB DDR4 R...  \n",
       "4  Intel Celeron Dual Core Processor8 GB DDR4 RAM...  "
      ]
     },
     "execution_count": 21,
     "metadata": {},
     "output_type": "execute_result"
    }
   ],
   "source": [
    "df.head()"
   ]
  },
  {
   "cell_type": "code",
   "execution_count": 22,
   "id": "083bbcde",
   "metadata": {},
   "outputs": [],
   "source": [
    "# Processor Information\n",
    "\n",
    "regex = r'^[AMD|Intel][\\s\\w]+Processor'\n",
    "\n",
    "df['Processor'] = df['Feature'].apply(lambda x : re.compile(regex).findall(x))"
   ]
  },
  {
   "cell_type": "code",
   "execution_count": 23,
   "id": "f6005b0c",
   "metadata": {},
   "outputs": [
    {
     "data": {
      "text/html": [
       "<div>\n",
       "<style scoped>\n",
       "    .dataframe tbody tr th:only-of-type {\n",
       "        vertical-align: middle;\n",
       "    }\n",
       "\n",
       "    .dataframe tbody tr th {\n",
       "        vertical-align: top;\n",
       "    }\n",
       "\n",
       "    .dataframe thead th {\n",
       "        text-align: right;\n",
       "    }\n",
       "</style>\n",
       "<table border=\"1\" class=\"dataframe\">\n",
       "  <thead>\n",
       "    <tr style=\"text-align: right;\">\n",
       "      <th></th>\n",
       "      <th>Product</th>\n",
       "      <th>Rating</th>\n",
       "      <th>MRP</th>\n",
       "      <th>Feature</th>\n",
       "      <th>Processor</th>\n",
       "    </tr>\n",
       "  </thead>\n",
       "  <tbody>\n",
       "    <tr>\n",
       "      <th>0</th>\n",
       "      <td>CHUWI Intel Celeron Dual Core 11th Gen N4020 -...</td>\n",
       "      <td>3.7</td>\n",
       "      <td>₹18,990</td>\n",
       "      <td>Light weight, Portable Laptop\\nRAM/Storage: 8G...</td>\n",
       "      <td>[]</td>\n",
       "    </tr>\n",
       "    <tr>\n",
       "      <th>1</th>\n",
       "      <td>CHUWI Intel Celeron Dual Core 10th Gen N4020 -...</td>\n",
       "      <td>3.7</td>\n",
       "      <td>₹15,990</td>\n",
       "      <td>Fan-less Design\\n(Low Power Consumption)4x fas...</td>\n",
       "      <td>[]</td>\n",
       "    </tr>\n",
       "    <tr>\n",
       "      <th>2</th>\n",
       "      <td>ASUS Vivobook 15 Intel Core i3 11th Gen 1115G4...</td>\n",
       "      <td>4.3</td>\n",
       "      <td>₹30,990</td>\n",
       "      <td>Intel Core i3 Processor (11th Gen)8 GB DDR4 RA...</td>\n",
       "      <td>[Intel Core i3 Processor]</td>\n",
       "    </tr>\n",
       "    <tr>\n",
       "      <th>3</th>\n",
       "      <td>Lenovo IdeaPad Slim 3 Intel Core i5 11th Gen 1...</td>\n",
       "      <td>4.2</td>\n",
       "      <td>₹46,765</td>\n",
       "      <td>Intel Core i5 Processor (11th Gen)16 GB DDR4 R...</td>\n",
       "      <td>[Intel Core i5 Processor]</td>\n",
       "    </tr>\n",
       "    <tr>\n",
       "      <th>4</th>\n",
       "      <td>ASUS Vivobook Go 14 Intel Celeron Dual Core N4...</td>\n",
       "      <td>4.2</td>\n",
       "      <td>₹23,990</td>\n",
       "      <td>Intel Celeron Dual Core Processor8 GB DDR4 RAM...</td>\n",
       "      <td>[Intel Celeron Dual Core Processor]</td>\n",
       "    </tr>\n",
       "  </tbody>\n",
       "</table>\n",
       "</div>"
      ],
      "text/plain": [
       "                                             Product Rating      MRP  \\\n",
       "0  CHUWI Intel Celeron Dual Core 11th Gen N4020 -...    3.7  ₹18,990   \n",
       "1  CHUWI Intel Celeron Dual Core 10th Gen N4020 -...    3.7  ₹15,990   \n",
       "2  ASUS Vivobook 15 Intel Core i3 11th Gen 1115G4...    4.3  ₹30,990   \n",
       "3  Lenovo IdeaPad Slim 3 Intel Core i5 11th Gen 1...    4.2  ₹46,765   \n",
       "4  ASUS Vivobook Go 14 Intel Celeron Dual Core N4...    4.2  ₹23,990   \n",
       "\n",
       "                                             Feature  \\\n",
       "0  Light weight, Portable Laptop\\nRAM/Storage: 8G...   \n",
       "1  Fan-less Design\\n(Low Power Consumption)4x fas...   \n",
       "2  Intel Core i3 Processor (11th Gen)8 GB DDR4 RA...   \n",
       "3  Intel Core i5 Processor (11th Gen)16 GB DDR4 R...   \n",
       "4  Intel Celeron Dual Core Processor8 GB DDR4 RAM...   \n",
       "\n",
       "                             Processor  \n",
       "0                                   []  \n",
       "1                                   []  \n",
       "2            [Intel Core i3 Processor]  \n",
       "3            [Intel Core i5 Processor]  \n",
       "4  [Intel Celeron Dual Core Processor]  "
      ]
     },
     "execution_count": 23,
     "metadata": {},
     "output_type": "execute_result"
    }
   ],
   "source": [
    "df.head()"
   ]
  },
  {
   "cell_type": "code",
   "execution_count": 24,
   "id": "2000adff",
   "metadata": {},
   "outputs": [],
   "source": [
    "# RAM Information\n",
    "\n",
    "regex = r'[\\d]+[\\s]+GB[\\s\\w]+RAM'\n",
    "\n",
    "df['RAM'] = df['Feature'].apply(lambda x : re.compile(regex).findall(x))"
   ]
  },
  {
   "cell_type": "code",
   "execution_count": 25,
   "id": "2765422a",
   "metadata": {},
   "outputs": [
    {
     "data": {
      "text/html": [
       "<div>\n",
       "<style scoped>\n",
       "    .dataframe tbody tr th:only-of-type {\n",
       "        vertical-align: middle;\n",
       "    }\n",
       "\n",
       "    .dataframe tbody tr th {\n",
       "        vertical-align: top;\n",
       "    }\n",
       "\n",
       "    .dataframe thead th {\n",
       "        text-align: right;\n",
       "    }\n",
       "</style>\n",
       "<table border=\"1\" class=\"dataframe\">\n",
       "  <thead>\n",
       "    <tr style=\"text-align: right;\">\n",
       "      <th></th>\n",
       "      <th>Product</th>\n",
       "      <th>Rating</th>\n",
       "      <th>MRP</th>\n",
       "      <th>Feature</th>\n",
       "      <th>Processor</th>\n",
       "      <th>RAM</th>\n",
       "    </tr>\n",
       "  </thead>\n",
       "  <tbody>\n",
       "    <tr>\n",
       "      <th>0</th>\n",
       "      <td>CHUWI Intel Celeron Dual Core 11th Gen N4020 -...</td>\n",
       "      <td>3.7</td>\n",
       "      <td>₹18,990</td>\n",
       "      <td>Light weight, Portable Laptop\\nRAM/Storage: 8G...</td>\n",
       "      <td>[]</td>\n",
       "      <td>[8 GB DDR4 RAM]</td>\n",
       "    </tr>\n",
       "    <tr>\n",
       "      <th>1</th>\n",
       "      <td>CHUWI Intel Celeron Dual Core 10th Gen N4020 -...</td>\n",
       "      <td>3.7</td>\n",
       "      <td>₹15,990</td>\n",
       "      <td>Fan-less Design\\n(Low Power Consumption)4x fas...</td>\n",
       "      <td>[]</td>\n",
       "      <td>[4 GB LPDDR4 RAM]</td>\n",
       "    </tr>\n",
       "    <tr>\n",
       "      <th>2</th>\n",
       "      <td>ASUS Vivobook 15 Intel Core i3 11th Gen 1115G4...</td>\n",
       "      <td>4.3</td>\n",
       "      <td>₹30,990</td>\n",
       "      <td>Intel Core i3 Processor (11th Gen)8 GB DDR4 RA...</td>\n",
       "      <td>[Intel Core i3 Processor]</td>\n",
       "      <td>[8 GB DDR4 RAM]</td>\n",
       "    </tr>\n",
       "    <tr>\n",
       "      <th>3</th>\n",
       "      <td>Lenovo IdeaPad Slim 3 Intel Core i5 11th Gen 1...</td>\n",
       "      <td>4.2</td>\n",
       "      <td>₹46,765</td>\n",
       "      <td>Intel Core i5 Processor (11th Gen)16 GB DDR4 R...</td>\n",
       "      <td>[Intel Core i5 Processor]</td>\n",
       "      <td>[16 GB DDR4 RAM]</td>\n",
       "    </tr>\n",
       "    <tr>\n",
       "      <th>4</th>\n",
       "      <td>ASUS Vivobook Go 14 Intel Celeron Dual Core N4...</td>\n",
       "      <td>4.2</td>\n",
       "      <td>₹23,990</td>\n",
       "      <td>Intel Celeron Dual Core Processor8 GB DDR4 RAM...</td>\n",
       "      <td>[Intel Celeron Dual Core Processor]</td>\n",
       "      <td>[8 GB DDR4 RAM]</td>\n",
       "    </tr>\n",
       "  </tbody>\n",
       "</table>\n",
       "</div>"
      ],
      "text/plain": [
       "                                             Product Rating      MRP  \\\n",
       "0  CHUWI Intel Celeron Dual Core 11th Gen N4020 -...    3.7  ₹18,990   \n",
       "1  CHUWI Intel Celeron Dual Core 10th Gen N4020 -...    3.7  ₹15,990   \n",
       "2  ASUS Vivobook 15 Intel Core i3 11th Gen 1115G4...    4.3  ₹30,990   \n",
       "3  Lenovo IdeaPad Slim 3 Intel Core i5 11th Gen 1...    4.2  ₹46,765   \n",
       "4  ASUS Vivobook Go 14 Intel Celeron Dual Core N4...    4.2  ₹23,990   \n",
       "\n",
       "                                             Feature  \\\n",
       "0  Light weight, Portable Laptop\\nRAM/Storage: 8G...   \n",
       "1  Fan-less Design\\n(Low Power Consumption)4x fas...   \n",
       "2  Intel Core i3 Processor (11th Gen)8 GB DDR4 RA...   \n",
       "3  Intel Core i5 Processor (11th Gen)16 GB DDR4 R...   \n",
       "4  Intel Celeron Dual Core Processor8 GB DDR4 RAM...   \n",
       "\n",
       "                             Processor                RAM  \n",
       "0                                   []    [8 GB DDR4 RAM]  \n",
       "1                                   []  [4 GB LPDDR4 RAM]  \n",
       "2            [Intel Core i3 Processor]    [8 GB DDR4 RAM]  \n",
       "3            [Intel Core i5 Processor]   [16 GB DDR4 RAM]  \n",
       "4  [Intel Celeron Dual Core Processor]    [8 GB DDR4 RAM]  "
      ]
     },
     "execution_count": 25,
     "metadata": {},
     "output_type": "execute_result"
    }
   ],
   "source": [
    "df.head()"
   ]
  },
  {
   "cell_type": "code",
   "execution_count": 27,
   "id": "e03a0d59",
   "metadata": {},
   "outputs": [],
   "source": [
    "#df['Feature'][0]\n",
    "# df['Feature'][2]"
   ]
  },
  {
   "cell_type": "code",
   "execution_count": 28,
   "id": "14c73977",
   "metadata": {},
   "outputs": [],
   "source": [
    "import re\n",
    "\n",
    "# Assuming 'df' is your DataFrame and 'Feature' is the column containing the information\n",
    "\n",
    "# Define a regex pattern to match both operating system variations\n",
    "regex = r'Windows 11 Operating System|64 bit Windows 11 Operating System'\n",
    "\n",
    "# Function to extract OS information\n",
    "def extract_os_info(text):\n",
    "    matches = re.compile(regex).findall(text)\n",
    "    if matches:\n",
    "        return ', '.join(matches)\n",
    "    else:\n",
    "        return 'OS information not found'\n",
    "\n",
    "# Apply the regex pattern to extract OS information\n",
    "df['OS'] = df['Feature'].apply(extract_os_info)"
   ]
  },
  {
   "cell_type": "code",
   "execution_count": 29,
   "id": "781936f0",
   "metadata": {},
   "outputs": [
    {
     "data": {
      "text/html": [
       "<div>\n",
       "<style scoped>\n",
       "    .dataframe tbody tr th:only-of-type {\n",
       "        vertical-align: middle;\n",
       "    }\n",
       "\n",
       "    .dataframe tbody tr th {\n",
       "        vertical-align: top;\n",
       "    }\n",
       "\n",
       "    .dataframe thead th {\n",
       "        text-align: right;\n",
       "    }\n",
       "</style>\n",
       "<table border=\"1\" class=\"dataframe\">\n",
       "  <thead>\n",
       "    <tr style=\"text-align: right;\">\n",
       "      <th></th>\n",
       "      <th>Product</th>\n",
       "      <th>Rating</th>\n",
       "      <th>MRP</th>\n",
       "      <th>Feature</th>\n",
       "      <th>Processor</th>\n",
       "      <th>RAM</th>\n",
       "      <th>OS</th>\n",
       "    </tr>\n",
       "  </thead>\n",
       "  <tbody>\n",
       "    <tr>\n",
       "      <th>0</th>\n",
       "      <td>CHUWI Intel Celeron Dual Core 11th Gen N4020 -...</td>\n",
       "      <td>3.7</td>\n",
       "      <td>₹18,990</td>\n",
       "      <td>Light weight, Portable Laptop\\nRAM/Storage: 8G...</td>\n",
       "      <td>[]</td>\n",
       "      <td>[8 GB DDR4 RAM]</td>\n",
       "      <td>64 bit Windows 11 Operating System</td>\n",
       "    </tr>\n",
       "    <tr>\n",
       "      <th>1</th>\n",
       "      <td>CHUWI Intel Celeron Dual Core 10th Gen N4020 -...</td>\n",
       "      <td>3.7</td>\n",
       "      <td>₹15,990</td>\n",
       "      <td>Fan-less Design\\n(Low Power Consumption)4x fas...</td>\n",
       "      <td>[]</td>\n",
       "      <td>[4 GB LPDDR4 RAM]</td>\n",
       "      <td>64 bit Windows 11 Operating System</td>\n",
       "    </tr>\n",
       "    <tr>\n",
       "      <th>2</th>\n",
       "      <td>ASUS Vivobook 15 Intel Core i3 11th Gen 1115G4...</td>\n",
       "      <td>4.3</td>\n",
       "      <td>₹30,990</td>\n",
       "      <td>Intel Core i3 Processor (11th Gen)8 GB DDR4 RA...</td>\n",
       "      <td>[Intel Core i3 Processor]</td>\n",
       "      <td>[8 GB DDR4 RAM]</td>\n",
       "      <td>64 bit Windows 11 Operating System</td>\n",
       "    </tr>\n",
       "    <tr>\n",
       "      <th>3</th>\n",
       "      <td>Lenovo IdeaPad Slim 3 Intel Core i5 11th Gen 1...</td>\n",
       "      <td>4.2</td>\n",
       "      <td>₹46,765</td>\n",
       "      <td>Intel Core i5 Processor (11th Gen)16 GB DDR4 R...</td>\n",
       "      <td>[Intel Core i5 Processor]</td>\n",
       "      <td>[16 GB DDR4 RAM]</td>\n",
       "      <td>Windows 11 Operating System</td>\n",
       "    </tr>\n",
       "    <tr>\n",
       "      <th>4</th>\n",
       "      <td>ASUS Vivobook Go 14 Intel Celeron Dual Core N4...</td>\n",
       "      <td>4.2</td>\n",
       "      <td>₹23,990</td>\n",
       "      <td>Intel Celeron Dual Core Processor8 GB DDR4 RAM...</td>\n",
       "      <td>[Intel Celeron Dual Core Processor]</td>\n",
       "      <td>[8 GB DDR4 RAM]</td>\n",
       "      <td>Windows 11 Operating System</td>\n",
       "    </tr>\n",
       "  </tbody>\n",
       "</table>\n",
       "</div>"
      ],
      "text/plain": [
       "                                             Product Rating      MRP  \\\n",
       "0  CHUWI Intel Celeron Dual Core 11th Gen N4020 -...    3.7  ₹18,990   \n",
       "1  CHUWI Intel Celeron Dual Core 10th Gen N4020 -...    3.7  ₹15,990   \n",
       "2  ASUS Vivobook 15 Intel Core i3 11th Gen 1115G4...    4.3  ₹30,990   \n",
       "3  Lenovo IdeaPad Slim 3 Intel Core i5 11th Gen 1...    4.2  ₹46,765   \n",
       "4  ASUS Vivobook Go 14 Intel Celeron Dual Core N4...    4.2  ₹23,990   \n",
       "\n",
       "                                             Feature  \\\n",
       "0  Light weight, Portable Laptop\\nRAM/Storage: 8G...   \n",
       "1  Fan-less Design\\n(Low Power Consumption)4x fas...   \n",
       "2  Intel Core i3 Processor (11th Gen)8 GB DDR4 RA...   \n",
       "3  Intel Core i5 Processor (11th Gen)16 GB DDR4 R...   \n",
       "4  Intel Celeron Dual Core Processor8 GB DDR4 RAM...   \n",
       "\n",
       "                             Processor                RAM  \\\n",
       "0                                   []    [8 GB DDR4 RAM]   \n",
       "1                                   []  [4 GB LPDDR4 RAM]   \n",
       "2            [Intel Core i3 Processor]    [8 GB DDR4 RAM]   \n",
       "3            [Intel Core i5 Processor]   [16 GB DDR4 RAM]   \n",
       "4  [Intel Celeron Dual Core Processor]    [8 GB DDR4 RAM]   \n",
       "\n",
       "                                   OS  \n",
       "0  64 bit Windows 11 Operating System  \n",
       "1  64 bit Windows 11 Operating System  \n",
       "2  64 bit Windows 11 Operating System  \n",
       "3         Windows 11 Operating System  \n",
       "4         Windows 11 Operating System  "
      ]
     },
     "execution_count": 29,
     "metadata": {},
     "output_type": "execute_result"
    }
   ],
   "source": [
    "df.head()"
   ]
  },
  {
   "cell_type": "code",
   "execution_count": 30,
   "id": "483f32c3",
   "metadata": {},
   "outputs": [],
   "source": [
    "# Storage\n",
    "\n",
    "regex = r'[\\d]+\\s(?:GB|TB)\\s(?:HDD|SSD)'\n",
    "\n",
    "df['Storage'] = df['Feature'].apply(lambda x : re.compile(regex).findall(x))"
   ]
  },
  {
   "cell_type": "code",
   "execution_count": 31,
   "id": "6844fbcd",
   "metadata": {},
   "outputs": [
    {
     "data": {
      "text/html": [
       "<div>\n",
       "<style scoped>\n",
       "    .dataframe tbody tr th:only-of-type {\n",
       "        vertical-align: middle;\n",
       "    }\n",
       "\n",
       "    .dataframe tbody tr th {\n",
       "        vertical-align: top;\n",
       "    }\n",
       "\n",
       "    .dataframe thead th {\n",
       "        text-align: right;\n",
       "    }\n",
       "</style>\n",
       "<table border=\"1\" class=\"dataframe\">\n",
       "  <thead>\n",
       "    <tr style=\"text-align: right;\">\n",
       "      <th></th>\n",
       "      <th>Product</th>\n",
       "      <th>Rating</th>\n",
       "      <th>MRP</th>\n",
       "      <th>Feature</th>\n",
       "      <th>Processor</th>\n",
       "      <th>RAM</th>\n",
       "      <th>OS</th>\n",
       "      <th>Storage</th>\n",
       "    </tr>\n",
       "  </thead>\n",
       "  <tbody>\n",
       "    <tr>\n",
       "      <th>0</th>\n",
       "      <td>CHUWI Intel Celeron Dual Core 11th Gen N4020 -...</td>\n",
       "      <td>3.7</td>\n",
       "      <td>₹18,990</td>\n",
       "      <td>Light weight, Portable Laptop\\nRAM/Storage: 8G...</td>\n",
       "      <td>[]</td>\n",
       "      <td>[8 GB DDR4 RAM]</td>\n",
       "      <td>64 bit Windows 11 Operating System</td>\n",
       "      <td>[256 GB SSD]</td>\n",
       "    </tr>\n",
       "    <tr>\n",
       "      <th>1</th>\n",
       "      <td>CHUWI Intel Celeron Dual Core 10th Gen N4020 -...</td>\n",
       "      <td>3.7</td>\n",
       "      <td>₹15,990</td>\n",
       "      <td>Fan-less Design\\n(Low Power Consumption)4x fas...</td>\n",
       "      <td>[]</td>\n",
       "      <td>[4 GB LPDDR4 RAM]</td>\n",
       "      <td>64 bit Windows 11 Operating System</td>\n",
       "      <td>[128 GB SSD]</td>\n",
       "    </tr>\n",
       "    <tr>\n",
       "      <th>2</th>\n",
       "      <td>ASUS Vivobook 15 Intel Core i3 11th Gen 1115G4...</td>\n",
       "      <td>4.3</td>\n",
       "      <td>₹30,990</td>\n",
       "      <td>Intel Core i3 Processor (11th Gen)8 GB DDR4 RA...</td>\n",
       "      <td>[Intel Core i3 Processor]</td>\n",
       "      <td>[8 GB DDR4 RAM]</td>\n",
       "      <td>64 bit Windows 11 Operating System</td>\n",
       "      <td>[256 GB SSD]</td>\n",
       "    </tr>\n",
       "    <tr>\n",
       "      <th>3</th>\n",
       "      <td>Lenovo IdeaPad Slim 3 Intel Core i5 11th Gen 1...</td>\n",
       "      <td>4.2</td>\n",
       "      <td>₹46,765</td>\n",
       "      <td>Intel Core i5 Processor (11th Gen)16 GB DDR4 R...</td>\n",
       "      <td>[Intel Core i5 Processor]</td>\n",
       "      <td>[16 GB DDR4 RAM]</td>\n",
       "      <td>Windows 11 Operating System</td>\n",
       "      <td>[512 GB SSD]</td>\n",
       "    </tr>\n",
       "    <tr>\n",
       "      <th>4</th>\n",
       "      <td>ASUS Vivobook Go 14 Intel Celeron Dual Core N4...</td>\n",
       "      <td>4.2</td>\n",
       "      <td>₹23,990</td>\n",
       "      <td>Intel Celeron Dual Core Processor8 GB DDR4 RAM...</td>\n",
       "      <td>[Intel Celeron Dual Core Processor]</td>\n",
       "      <td>[8 GB DDR4 RAM]</td>\n",
       "      <td>Windows 11 Operating System</td>\n",
       "      <td>[256 GB SSD]</td>\n",
       "    </tr>\n",
       "  </tbody>\n",
       "</table>\n",
       "</div>"
      ],
      "text/plain": [
       "                                             Product Rating      MRP  \\\n",
       "0  CHUWI Intel Celeron Dual Core 11th Gen N4020 -...    3.7  ₹18,990   \n",
       "1  CHUWI Intel Celeron Dual Core 10th Gen N4020 -...    3.7  ₹15,990   \n",
       "2  ASUS Vivobook 15 Intel Core i3 11th Gen 1115G4...    4.3  ₹30,990   \n",
       "3  Lenovo IdeaPad Slim 3 Intel Core i5 11th Gen 1...    4.2  ₹46,765   \n",
       "4  ASUS Vivobook Go 14 Intel Celeron Dual Core N4...    4.2  ₹23,990   \n",
       "\n",
       "                                             Feature  \\\n",
       "0  Light weight, Portable Laptop\\nRAM/Storage: 8G...   \n",
       "1  Fan-less Design\\n(Low Power Consumption)4x fas...   \n",
       "2  Intel Core i3 Processor (11th Gen)8 GB DDR4 RA...   \n",
       "3  Intel Core i5 Processor (11th Gen)16 GB DDR4 R...   \n",
       "4  Intel Celeron Dual Core Processor8 GB DDR4 RAM...   \n",
       "\n",
       "                             Processor                RAM  \\\n",
       "0                                   []    [8 GB DDR4 RAM]   \n",
       "1                                   []  [4 GB LPDDR4 RAM]   \n",
       "2            [Intel Core i3 Processor]    [8 GB DDR4 RAM]   \n",
       "3            [Intel Core i5 Processor]   [16 GB DDR4 RAM]   \n",
       "4  [Intel Celeron Dual Core Processor]    [8 GB DDR4 RAM]   \n",
       "\n",
       "                                   OS       Storage  \n",
       "0  64 bit Windows 11 Operating System  [256 GB SSD]  \n",
       "1  64 bit Windows 11 Operating System  [128 GB SSD]  \n",
       "2  64 bit Windows 11 Operating System  [256 GB SSD]  \n",
       "3         Windows 11 Operating System  [512 GB SSD]  \n",
       "4         Windows 11 Operating System  [256 GB SSD]  "
      ]
     },
     "execution_count": 31,
     "metadata": {},
     "output_type": "execute_result"
    }
   ],
   "source": [
    "df.head()"
   ]
  },
  {
   "cell_type": "code",
   "execution_count": 32,
   "id": "76de2710",
   "metadata": {},
   "outputs": [],
   "source": [
    "# Brand\n",
    "\n",
    "regex = r'^\\w+'\n",
    "\n",
    "df['Brand'] = df['Product'].apply(lambda x : re.compile(regex).findall(x))"
   ]
  },
  {
   "cell_type": "code",
   "execution_count": 33,
   "id": "2bb94c5e",
   "metadata": {},
   "outputs": [
    {
     "data": {
      "text/html": [
       "<div>\n",
       "<style scoped>\n",
       "    .dataframe tbody tr th:only-of-type {\n",
       "        vertical-align: middle;\n",
       "    }\n",
       "\n",
       "    .dataframe tbody tr th {\n",
       "        vertical-align: top;\n",
       "    }\n",
       "\n",
       "    .dataframe thead th {\n",
       "        text-align: right;\n",
       "    }\n",
       "</style>\n",
       "<table border=\"1\" class=\"dataframe\">\n",
       "  <thead>\n",
       "    <tr style=\"text-align: right;\">\n",
       "      <th></th>\n",
       "      <th>Product</th>\n",
       "      <th>Rating</th>\n",
       "      <th>MRP</th>\n",
       "      <th>Feature</th>\n",
       "      <th>Processor</th>\n",
       "      <th>RAM</th>\n",
       "      <th>OS</th>\n",
       "      <th>Storage</th>\n",
       "      <th>Brand</th>\n",
       "    </tr>\n",
       "  </thead>\n",
       "  <tbody>\n",
       "    <tr>\n",
       "      <th>0</th>\n",
       "      <td>CHUWI Intel Celeron Dual Core 11th Gen N4020 -...</td>\n",
       "      <td>3.7</td>\n",
       "      <td>₹18,990</td>\n",
       "      <td>Light weight, Portable Laptop\\nRAM/Storage: 8G...</td>\n",
       "      <td>[]</td>\n",
       "      <td>[8 GB DDR4 RAM]</td>\n",
       "      <td>64 bit Windows 11 Operating System</td>\n",
       "      <td>[256 GB SSD]</td>\n",
       "      <td>[CHUWI]</td>\n",
       "    </tr>\n",
       "    <tr>\n",
       "      <th>1</th>\n",
       "      <td>CHUWI Intel Celeron Dual Core 10th Gen N4020 -...</td>\n",
       "      <td>3.7</td>\n",
       "      <td>₹15,990</td>\n",
       "      <td>Fan-less Design\\n(Low Power Consumption)4x fas...</td>\n",
       "      <td>[]</td>\n",
       "      <td>[4 GB LPDDR4 RAM]</td>\n",
       "      <td>64 bit Windows 11 Operating System</td>\n",
       "      <td>[128 GB SSD]</td>\n",
       "      <td>[CHUWI]</td>\n",
       "    </tr>\n",
       "    <tr>\n",
       "      <th>2</th>\n",
       "      <td>ASUS Vivobook 15 Intel Core i3 11th Gen 1115G4...</td>\n",
       "      <td>4.3</td>\n",
       "      <td>₹30,990</td>\n",
       "      <td>Intel Core i3 Processor (11th Gen)8 GB DDR4 RA...</td>\n",
       "      <td>[Intel Core i3 Processor]</td>\n",
       "      <td>[8 GB DDR4 RAM]</td>\n",
       "      <td>64 bit Windows 11 Operating System</td>\n",
       "      <td>[256 GB SSD]</td>\n",
       "      <td>[ASUS]</td>\n",
       "    </tr>\n",
       "    <tr>\n",
       "      <th>3</th>\n",
       "      <td>Lenovo IdeaPad Slim 3 Intel Core i5 11th Gen 1...</td>\n",
       "      <td>4.2</td>\n",
       "      <td>₹46,765</td>\n",
       "      <td>Intel Core i5 Processor (11th Gen)16 GB DDR4 R...</td>\n",
       "      <td>[Intel Core i5 Processor]</td>\n",
       "      <td>[16 GB DDR4 RAM]</td>\n",
       "      <td>Windows 11 Operating System</td>\n",
       "      <td>[512 GB SSD]</td>\n",
       "      <td>[Lenovo]</td>\n",
       "    </tr>\n",
       "    <tr>\n",
       "      <th>4</th>\n",
       "      <td>ASUS Vivobook Go 14 Intel Celeron Dual Core N4...</td>\n",
       "      <td>4.2</td>\n",
       "      <td>₹23,990</td>\n",
       "      <td>Intel Celeron Dual Core Processor8 GB DDR4 RAM...</td>\n",
       "      <td>[Intel Celeron Dual Core Processor]</td>\n",
       "      <td>[8 GB DDR4 RAM]</td>\n",
       "      <td>Windows 11 Operating System</td>\n",
       "      <td>[256 GB SSD]</td>\n",
       "      <td>[ASUS]</td>\n",
       "    </tr>\n",
       "  </tbody>\n",
       "</table>\n",
       "</div>"
      ],
      "text/plain": [
       "                                             Product Rating      MRP  \\\n",
       "0  CHUWI Intel Celeron Dual Core 11th Gen N4020 -...    3.7  ₹18,990   \n",
       "1  CHUWI Intel Celeron Dual Core 10th Gen N4020 -...    3.7  ₹15,990   \n",
       "2  ASUS Vivobook 15 Intel Core i3 11th Gen 1115G4...    4.3  ₹30,990   \n",
       "3  Lenovo IdeaPad Slim 3 Intel Core i5 11th Gen 1...    4.2  ₹46,765   \n",
       "4  ASUS Vivobook Go 14 Intel Celeron Dual Core N4...    4.2  ₹23,990   \n",
       "\n",
       "                                             Feature  \\\n",
       "0  Light weight, Portable Laptop\\nRAM/Storage: 8G...   \n",
       "1  Fan-less Design\\n(Low Power Consumption)4x fas...   \n",
       "2  Intel Core i3 Processor (11th Gen)8 GB DDR4 RA...   \n",
       "3  Intel Core i5 Processor (11th Gen)16 GB DDR4 R...   \n",
       "4  Intel Celeron Dual Core Processor8 GB DDR4 RAM...   \n",
       "\n",
       "                             Processor                RAM  \\\n",
       "0                                   []    [8 GB DDR4 RAM]   \n",
       "1                                   []  [4 GB LPDDR4 RAM]   \n",
       "2            [Intel Core i3 Processor]    [8 GB DDR4 RAM]   \n",
       "3            [Intel Core i5 Processor]   [16 GB DDR4 RAM]   \n",
       "4  [Intel Celeron Dual Core Processor]    [8 GB DDR4 RAM]   \n",
       "\n",
       "                                   OS       Storage     Brand  \n",
       "0  64 bit Windows 11 Operating System  [256 GB SSD]   [CHUWI]  \n",
       "1  64 bit Windows 11 Operating System  [128 GB SSD]   [CHUWI]  \n",
       "2  64 bit Windows 11 Operating System  [256 GB SSD]    [ASUS]  \n",
       "3         Windows 11 Operating System  [512 GB SSD]  [Lenovo]  \n",
       "4         Windows 11 Operating System  [256 GB SSD]    [ASUS]  "
      ]
     },
     "execution_count": 33,
     "metadata": {},
     "output_type": "execute_result"
    }
   ],
   "source": [
    "df.head()"
   ]
  },
  {
   "cell_type": "markdown",
   "id": "5bc94f71",
   "metadata": {},
   "source": [
    "## Cleaning the Data"
   ]
  },
  {
   "cell_type": "code",
   "execution_count": 34,
   "id": "30dcebda",
   "metadata": {},
   "outputs": [
    {
     "name": "stdout",
     "output_type": "stream",
     "text": [
      "<class 'pandas.core.frame.DataFrame'>\n",
      "RangeIndex: 624 entries, 0 to 623\n",
      "Data columns (total 9 columns):\n",
      " #   Column     Non-Null Count  Dtype \n",
      "---  ------     --------------  ----- \n",
      " 0   Product    624 non-null    object\n",
      " 1   Rating     581 non-null    object\n",
      " 2   MRP        624 non-null    object\n",
      " 3   Feature    624 non-null    object\n",
      " 4   Processor  624 non-null    object\n",
      " 5   RAM        624 non-null    object\n",
      " 6   OS         624 non-null    object\n",
      " 7   Storage    624 non-null    object\n",
      " 8   Brand      624 non-null    object\n",
      "dtypes: object(9)\n",
      "memory usage: 44.0+ KB\n"
     ]
    }
   ],
   "source": [
    "df.info()"
   ]
  },
  {
   "cell_type": "code",
   "execution_count": 35,
   "id": "c9815695",
   "metadata": {},
   "outputs": [
    {
     "data": {
      "text/plain": [
       "Product       0\n",
       "Rating       43\n",
       "MRP           0\n",
       "Feature       0\n",
       "Processor     0\n",
       "RAM           0\n",
       "OS            0\n",
       "Storage       0\n",
       "Brand         0\n",
       "dtype: int64"
      ]
     },
     "execution_count": 35,
     "metadata": {},
     "output_type": "execute_result"
    }
   ],
   "source": [
    "# Missing Values\n",
    "\n",
    "df.isnull().sum()"
   ]
  },
  {
   "cell_type": "code",
   "execution_count": 37,
   "id": "1bc7abde",
   "metadata": {},
   "outputs": [
    {
     "name": "stdout",
     "output_type": "stream",
     "text": [
      "['Intel Celeron Dual Core Processor']\n",
      "<class 'list'>\n"
     ]
    }
   ],
   "source": [
    "print(df['Processor'][4])\n",
    "\n",
    "print(type(df['Processor'][3]))"
   ]
  },
  {
   "cell_type": "code",
   "execution_count": 38,
   "id": "8e2ac387",
   "metadata": {},
   "outputs": [],
   "source": [
    "df.Processor = df.Processor.apply(lambda x : ''.join(x))\n",
    "df.RAM = df.RAM.apply(lambda x : ''.join(x))\n",
    "df.OS = df.OS.apply(lambda x : ''.join(x))\n",
    "df.Storage = df.Storage.apply(lambda x : ''.join(x))\n",
    "df.Brand = df.Brand.apply(lambda x : ''.join(x))"
   ]
  },
  {
   "cell_type": "code",
   "execution_count": 39,
   "id": "32d5cbea",
   "metadata": {},
   "outputs": [
    {
     "data": {
      "text/html": [
       "<div>\n",
       "<style scoped>\n",
       "    .dataframe tbody tr th:only-of-type {\n",
       "        vertical-align: middle;\n",
       "    }\n",
       "\n",
       "    .dataframe tbody tr th {\n",
       "        vertical-align: top;\n",
       "    }\n",
       "\n",
       "    .dataframe thead th {\n",
       "        text-align: right;\n",
       "    }\n",
       "</style>\n",
       "<table border=\"1\" class=\"dataframe\">\n",
       "  <thead>\n",
       "    <tr style=\"text-align: right;\">\n",
       "      <th></th>\n",
       "      <th>Product</th>\n",
       "      <th>Rating</th>\n",
       "      <th>MRP</th>\n",
       "      <th>Feature</th>\n",
       "      <th>Processor</th>\n",
       "      <th>RAM</th>\n",
       "      <th>OS</th>\n",
       "      <th>Storage</th>\n",
       "      <th>Brand</th>\n",
       "    </tr>\n",
       "  </thead>\n",
       "  <tbody>\n",
       "    <tr>\n",
       "      <th>0</th>\n",
       "      <td>CHUWI Intel Celeron Dual Core 11th Gen N4020 -...</td>\n",
       "      <td>3.7</td>\n",
       "      <td>₹18,990</td>\n",
       "      <td>Light weight, Portable Laptop\\nRAM/Storage: 8G...</td>\n",
       "      <td></td>\n",
       "      <td>8 GB DDR4 RAM</td>\n",
       "      <td>64 bit Windows 11 Operating System</td>\n",
       "      <td>256 GB SSD</td>\n",
       "      <td>CHUWI</td>\n",
       "    </tr>\n",
       "    <tr>\n",
       "      <th>1</th>\n",
       "      <td>CHUWI Intel Celeron Dual Core 10th Gen N4020 -...</td>\n",
       "      <td>3.7</td>\n",
       "      <td>₹15,990</td>\n",
       "      <td>Fan-less Design\\n(Low Power Consumption)4x fas...</td>\n",
       "      <td></td>\n",
       "      <td>4 GB LPDDR4 RAM</td>\n",
       "      <td>64 bit Windows 11 Operating System</td>\n",
       "      <td>128 GB SSD</td>\n",
       "      <td>CHUWI</td>\n",
       "    </tr>\n",
       "    <tr>\n",
       "      <th>2</th>\n",
       "      <td>ASUS Vivobook 15 Intel Core i3 11th Gen 1115G4...</td>\n",
       "      <td>4.3</td>\n",
       "      <td>₹30,990</td>\n",
       "      <td>Intel Core i3 Processor (11th Gen)8 GB DDR4 RA...</td>\n",
       "      <td>Intel Core i3 Processor</td>\n",
       "      <td>8 GB DDR4 RAM</td>\n",
       "      <td>64 bit Windows 11 Operating System</td>\n",
       "      <td>256 GB SSD</td>\n",
       "      <td>ASUS</td>\n",
       "    </tr>\n",
       "    <tr>\n",
       "      <th>3</th>\n",
       "      <td>Lenovo IdeaPad Slim 3 Intel Core i5 11th Gen 1...</td>\n",
       "      <td>4.2</td>\n",
       "      <td>₹46,765</td>\n",
       "      <td>Intel Core i5 Processor (11th Gen)16 GB DDR4 R...</td>\n",
       "      <td>Intel Core i5 Processor</td>\n",
       "      <td>16 GB DDR4 RAM</td>\n",
       "      <td>Windows 11 Operating System</td>\n",
       "      <td>512 GB SSD</td>\n",
       "      <td>Lenovo</td>\n",
       "    </tr>\n",
       "    <tr>\n",
       "      <th>4</th>\n",
       "      <td>ASUS Vivobook Go 14 Intel Celeron Dual Core N4...</td>\n",
       "      <td>4.2</td>\n",
       "      <td>₹23,990</td>\n",
       "      <td>Intel Celeron Dual Core Processor8 GB DDR4 RAM...</td>\n",
       "      <td>Intel Celeron Dual Core Processor</td>\n",
       "      <td>8 GB DDR4 RAM</td>\n",
       "      <td>Windows 11 Operating System</td>\n",
       "      <td>256 GB SSD</td>\n",
       "      <td>ASUS</td>\n",
       "    </tr>\n",
       "  </tbody>\n",
       "</table>\n",
       "</div>"
      ],
      "text/plain": [
       "                                             Product Rating      MRP  \\\n",
       "0  CHUWI Intel Celeron Dual Core 11th Gen N4020 -...    3.7  ₹18,990   \n",
       "1  CHUWI Intel Celeron Dual Core 10th Gen N4020 -...    3.7  ₹15,990   \n",
       "2  ASUS Vivobook 15 Intel Core i3 11th Gen 1115G4...    4.3  ₹30,990   \n",
       "3  Lenovo IdeaPad Slim 3 Intel Core i5 11th Gen 1...    4.2  ₹46,765   \n",
       "4  ASUS Vivobook Go 14 Intel Celeron Dual Core N4...    4.2  ₹23,990   \n",
       "\n",
       "                                             Feature  \\\n",
       "0  Light weight, Portable Laptop\\nRAM/Storage: 8G...   \n",
       "1  Fan-less Design\\n(Low Power Consumption)4x fas...   \n",
       "2  Intel Core i3 Processor (11th Gen)8 GB DDR4 RA...   \n",
       "3  Intel Core i5 Processor (11th Gen)16 GB DDR4 R...   \n",
       "4  Intel Celeron Dual Core Processor8 GB DDR4 RAM...   \n",
       "\n",
       "                           Processor              RAM  \\\n",
       "0                                       8 GB DDR4 RAM   \n",
       "1                                     4 GB LPDDR4 RAM   \n",
       "2            Intel Core i3 Processor    8 GB DDR4 RAM   \n",
       "3            Intel Core i5 Processor   16 GB DDR4 RAM   \n",
       "4  Intel Celeron Dual Core Processor    8 GB DDR4 RAM   \n",
       "\n",
       "                                   OS     Storage   Brand  \n",
       "0  64 bit Windows 11 Operating System  256 GB SSD   CHUWI  \n",
       "1  64 bit Windows 11 Operating System  128 GB SSD   CHUWI  \n",
       "2  64 bit Windows 11 Operating System  256 GB SSD    ASUS  \n",
       "3         Windows 11 Operating System  512 GB SSD  Lenovo  \n",
       "4         Windows 11 Operating System  256 GB SSD    ASUS  "
      ]
     },
     "execution_count": 39,
     "metadata": {},
     "output_type": "execute_result"
    }
   ],
   "source": [
    "df.head()"
   ]
  },
  {
   "cell_type": "code",
   "execution_count": 40,
   "id": "b44d8552",
   "metadata": {},
   "outputs": [
    {
     "name": "stdout",
     "output_type": "stream",
     "text": [
      "<class 'pandas.core.frame.DataFrame'>\n",
      "RangeIndex: 624 entries, 0 to 623\n",
      "Data columns (total 9 columns):\n",
      " #   Column     Non-Null Count  Dtype \n",
      "---  ------     --------------  ----- \n",
      " 0   Product    624 non-null    object\n",
      " 1   Rating     581 non-null    object\n",
      " 2   MRP        624 non-null    object\n",
      " 3   Feature    624 non-null    object\n",
      " 4   Processor  624 non-null    object\n",
      " 5   RAM        624 non-null    object\n",
      " 6   OS         624 non-null    object\n",
      " 7   Storage    624 non-null    object\n",
      " 8   Brand      624 non-null    object\n",
      "dtypes: object(9)\n",
      "memory usage: 44.0+ KB\n"
     ]
    }
   ],
   "source": [
    "df.info()"
   ]
  },
  {
   "cell_type": "code",
   "execution_count": 41,
   "id": "6c26cd26",
   "metadata": {},
   "outputs": [],
   "source": [
    "df.MRP = df.MRP.apply(lambda x : x.replace('₹', '').replace(',', '')).astype(float)"
   ]
  },
  {
   "cell_type": "code",
   "execution_count": 42,
   "id": "c17ad0c4",
   "metadata": {},
   "outputs": [
    {
     "data": {
      "text/html": [
       "<div>\n",
       "<style scoped>\n",
       "    .dataframe tbody tr th:only-of-type {\n",
       "        vertical-align: middle;\n",
       "    }\n",
       "\n",
       "    .dataframe tbody tr th {\n",
       "        vertical-align: top;\n",
       "    }\n",
       "\n",
       "    .dataframe thead th {\n",
       "        text-align: right;\n",
       "    }\n",
       "</style>\n",
       "<table border=\"1\" class=\"dataframe\">\n",
       "  <thead>\n",
       "    <tr style=\"text-align: right;\">\n",
       "      <th></th>\n",
       "      <th>Product</th>\n",
       "      <th>Rating</th>\n",
       "      <th>MRP</th>\n",
       "      <th>Feature</th>\n",
       "      <th>Processor</th>\n",
       "      <th>RAM</th>\n",
       "      <th>OS</th>\n",
       "      <th>Storage</th>\n",
       "      <th>Brand</th>\n",
       "    </tr>\n",
       "  </thead>\n",
       "  <tbody>\n",
       "    <tr>\n",
       "      <th>0</th>\n",
       "      <td>CHUWI Intel Celeron Dual Core 11th Gen N4020 -...</td>\n",
       "      <td>3.7</td>\n",
       "      <td>18990.0</td>\n",
       "      <td>Light weight, Portable Laptop\\nRAM/Storage: 8G...</td>\n",
       "      <td></td>\n",
       "      <td>8 GB DDR4 RAM</td>\n",
       "      <td>64 bit Windows 11 Operating System</td>\n",
       "      <td>256 GB SSD</td>\n",
       "      <td>CHUWI</td>\n",
       "    </tr>\n",
       "    <tr>\n",
       "      <th>1</th>\n",
       "      <td>CHUWI Intel Celeron Dual Core 10th Gen N4020 -...</td>\n",
       "      <td>3.7</td>\n",
       "      <td>15990.0</td>\n",
       "      <td>Fan-less Design\\n(Low Power Consumption)4x fas...</td>\n",
       "      <td></td>\n",
       "      <td>4 GB LPDDR4 RAM</td>\n",
       "      <td>64 bit Windows 11 Operating System</td>\n",
       "      <td>128 GB SSD</td>\n",
       "      <td>CHUWI</td>\n",
       "    </tr>\n",
       "    <tr>\n",
       "      <th>2</th>\n",
       "      <td>ASUS Vivobook 15 Intel Core i3 11th Gen 1115G4...</td>\n",
       "      <td>4.3</td>\n",
       "      <td>30990.0</td>\n",
       "      <td>Intel Core i3 Processor (11th Gen)8 GB DDR4 RA...</td>\n",
       "      <td>Intel Core i3 Processor</td>\n",
       "      <td>8 GB DDR4 RAM</td>\n",
       "      <td>64 bit Windows 11 Operating System</td>\n",
       "      <td>256 GB SSD</td>\n",
       "      <td>ASUS</td>\n",
       "    </tr>\n",
       "    <tr>\n",
       "      <th>3</th>\n",
       "      <td>Lenovo IdeaPad Slim 3 Intel Core i5 11th Gen 1...</td>\n",
       "      <td>4.2</td>\n",
       "      <td>46765.0</td>\n",
       "      <td>Intel Core i5 Processor (11th Gen)16 GB DDR4 R...</td>\n",
       "      <td>Intel Core i5 Processor</td>\n",
       "      <td>16 GB DDR4 RAM</td>\n",
       "      <td>Windows 11 Operating System</td>\n",
       "      <td>512 GB SSD</td>\n",
       "      <td>Lenovo</td>\n",
       "    </tr>\n",
       "    <tr>\n",
       "      <th>4</th>\n",
       "      <td>ASUS Vivobook Go 14 Intel Celeron Dual Core N4...</td>\n",
       "      <td>4.2</td>\n",
       "      <td>23990.0</td>\n",
       "      <td>Intel Celeron Dual Core Processor8 GB DDR4 RAM...</td>\n",
       "      <td>Intel Celeron Dual Core Processor</td>\n",
       "      <td>8 GB DDR4 RAM</td>\n",
       "      <td>Windows 11 Operating System</td>\n",
       "      <td>256 GB SSD</td>\n",
       "      <td>ASUS</td>\n",
       "    </tr>\n",
       "  </tbody>\n",
       "</table>\n",
       "</div>"
      ],
      "text/plain": [
       "                                             Product Rating      MRP  \\\n",
       "0  CHUWI Intel Celeron Dual Core 11th Gen N4020 -...    3.7  18990.0   \n",
       "1  CHUWI Intel Celeron Dual Core 10th Gen N4020 -...    3.7  15990.0   \n",
       "2  ASUS Vivobook 15 Intel Core i3 11th Gen 1115G4...    4.3  30990.0   \n",
       "3  Lenovo IdeaPad Slim 3 Intel Core i5 11th Gen 1...    4.2  46765.0   \n",
       "4  ASUS Vivobook Go 14 Intel Celeron Dual Core N4...    4.2  23990.0   \n",
       "\n",
       "                                             Feature  \\\n",
       "0  Light weight, Portable Laptop\\nRAM/Storage: 8G...   \n",
       "1  Fan-less Design\\n(Low Power Consumption)4x fas...   \n",
       "2  Intel Core i3 Processor (11th Gen)8 GB DDR4 RA...   \n",
       "3  Intel Core i5 Processor (11th Gen)16 GB DDR4 R...   \n",
       "4  Intel Celeron Dual Core Processor8 GB DDR4 RAM...   \n",
       "\n",
       "                           Processor              RAM  \\\n",
       "0                                       8 GB DDR4 RAM   \n",
       "1                                     4 GB LPDDR4 RAM   \n",
       "2            Intel Core i3 Processor    8 GB DDR4 RAM   \n",
       "3            Intel Core i5 Processor   16 GB DDR4 RAM   \n",
       "4  Intel Celeron Dual Core Processor    8 GB DDR4 RAM   \n",
       "\n",
       "                                   OS     Storage   Brand  \n",
       "0  64 bit Windows 11 Operating System  256 GB SSD   CHUWI  \n",
       "1  64 bit Windows 11 Operating System  128 GB SSD   CHUWI  \n",
       "2  64 bit Windows 11 Operating System  256 GB SSD    ASUS  \n",
       "3         Windows 11 Operating System  512 GB SSD  Lenovo  \n",
       "4         Windows 11 Operating System  256 GB SSD    ASUS  "
      ]
     },
     "execution_count": 42,
     "metadata": {},
     "output_type": "execute_result"
    }
   ],
   "source": [
    "df.head()"
   ]
  },
  {
   "cell_type": "code",
   "execution_count": 43,
   "id": "d5f07979",
   "metadata": {},
   "outputs": [
    {
     "name": "stdout",
     "output_type": "stream",
     "text": [
      "<class 'pandas.core.frame.DataFrame'>\n",
      "RangeIndex: 624 entries, 0 to 623\n",
      "Data columns (total 9 columns):\n",
      " #   Column     Non-Null Count  Dtype  \n",
      "---  ------     --------------  -----  \n",
      " 0   Product    624 non-null    object \n",
      " 1   Rating     581 non-null    object \n",
      " 2   MRP        624 non-null    float64\n",
      " 3   Feature    624 non-null    object \n",
      " 4   Processor  624 non-null    object \n",
      " 5   RAM        624 non-null    object \n",
      " 6   OS         624 non-null    object \n",
      " 7   Storage    624 non-null    object \n",
      " 8   Brand      624 non-null    object \n",
      "dtypes: float64(1), object(8)\n",
      "memory usage: 44.0+ KB\n"
     ]
    }
   ],
   "source": [
    "df.info()"
   ]
  },
  {
   "cell_type": "code",
   "execution_count": 48,
   "id": "cc27d794",
   "metadata": {},
   "outputs": [],
   "source": [
    "df = df.drop('Feature', axis=1)"
   ]
  },
  {
   "cell_type": "code",
   "execution_count": 49,
   "id": "3221a5c8",
   "metadata": {},
   "outputs": [
    {
     "data": {
      "text/html": [
       "<div>\n",
       "<style scoped>\n",
       "    .dataframe tbody tr th:only-of-type {\n",
       "        vertical-align: middle;\n",
       "    }\n",
       "\n",
       "    .dataframe tbody tr th {\n",
       "        vertical-align: top;\n",
       "    }\n",
       "\n",
       "    .dataframe thead th {\n",
       "        text-align: right;\n",
       "    }\n",
       "</style>\n",
       "<table border=\"1\" class=\"dataframe\">\n",
       "  <thead>\n",
       "    <tr style=\"text-align: right;\">\n",
       "      <th></th>\n",
       "      <th>Product</th>\n",
       "      <th>Rating</th>\n",
       "      <th>MRP</th>\n",
       "      <th>Processor</th>\n",
       "      <th>RAM</th>\n",
       "      <th>OS</th>\n",
       "      <th>Storage</th>\n",
       "      <th>Brand</th>\n",
       "    </tr>\n",
       "  </thead>\n",
       "  <tbody>\n",
       "    <tr>\n",
       "      <th>0</th>\n",
       "      <td>CHUWI Intel Celeron Dual Core 11th Gen N4020 -...</td>\n",
       "      <td>3.7</td>\n",
       "      <td>18990.0</td>\n",
       "      <td></td>\n",
       "      <td>8 GB DDR4 RAM</td>\n",
       "      <td>64 bit Windows 11 Operating System</td>\n",
       "      <td>256 GB SSD</td>\n",
       "      <td>CHUWI</td>\n",
       "    </tr>\n",
       "    <tr>\n",
       "      <th>1</th>\n",
       "      <td>CHUWI Intel Celeron Dual Core 10th Gen N4020 -...</td>\n",
       "      <td>3.7</td>\n",
       "      <td>15990.0</td>\n",
       "      <td></td>\n",
       "      <td>4 GB LPDDR4 RAM</td>\n",
       "      <td>64 bit Windows 11 Operating System</td>\n",
       "      <td>128 GB SSD</td>\n",
       "      <td>CHUWI</td>\n",
       "    </tr>\n",
       "    <tr>\n",
       "      <th>2</th>\n",
       "      <td>ASUS Vivobook 15 Intel Core i3 11th Gen 1115G4...</td>\n",
       "      <td>4.3</td>\n",
       "      <td>30990.0</td>\n",
       "      <td>Intel Core i3 Processor</td>\n",
       "      <td>8 GB DDR4 RAM</td>\n",
       "      <td>64 bit Windows 11 Operating System</td>\n",
       "      <td>256 GB SSD</td>\n",
       "      <td>ASUS</td>\n",
       "    </tr>\n",
       "    <tr>\n",
       "      <th>3</th>\n",
       "      <td>Lenovo IdeaPad Slim 3 Intel Core i5 11th Gen 1...</td>\n",
       "      <td>4.2</td>\n",
       "      <td>46765.0</td>\n",
       "      <td>Intel Core i5 Processor</td>\n",
       "      <td>16 GB DDR4 RAM</td>\n",
       "      <td>Windows 11 Operating System</td>\n",
       "      <td>512 GB SSD</td>\n",
       "      <td>Lenovo</td>\n",
       "    </tr>\n",
       "    <tr>\n",
       "      <th>4</th>\n",
       "      <td>ASUS Vivobook Go 14 Intel Celeron Dual Core N4...</td>\n",
       "      <td>4.2</td>\n",
       "      <td>23990.0</td>\n",
       "      <td>Intel Celeron Dual Core Processor</td>\n",
       "      <td>8 GB DDR4 RAM</td>\n",
       "      <td>Windows 11 Operating System</td>\n",
       "      <td>256 GB SSD</td>\n",
       "      <td>ASUS</td>\n",
       "    </tr>\n",
       "  </tbody>\n",
       "</table>\n",
       "</div>"
      ],
      "text/plain": [
       "                                             Product Rating      MRP  \\\n",
       "0  CHUWI Intel Celeron Dual Core 11th Gen N4020 -...    3.7  18990.0   \n",
       "1  CHUWI Intel Celeron Dual Core 10th Gen N4020 -...    3.7  15990.0   \n",
       "2  ASUS Vivobook 15 Intel Core i3 11th Gen 1115G4...    4.3  30990.0   \n",
       "3  Lenovo IdeaPad Slim 3 Intel Core i5 11th Gen 1...    4.2  46765.0   \n",
       "4  ASUS Vivobook Go 14 Intel Celeron Dual Core N4...    4.2  23990.0   \n",
       "\n",
       "                           Processor              RAM  \\\n",
       "0                                       8 GB DDR4 RAM   \n",
       "1                                     4 GB LPDDR4 RAM   \n",
       "2            Intel Core i3 Processor    8 GB DDR4 RAM   \n",
       "3            Intel Core i5 Processor   16 GB DDR4 RAM   \n",
       "4  Intel Celeron Dual Core Processor    8 GB DDR4 RAM   \n",
       "\n",
       "                                   OS     Storage   Brand  \n",
       "0  64 bit Windows 11 Operating System  256 GB SSD   CHUWI  \n",
       "1  64 bit Windows 11 Operating System  128 GB SSD   CHUWI  \n",
       "2  64 bit Windows 11 Operating System  256 GB SSD    ASUS  \n",
       "3         Windows 11 Operating System  512 GB SSD  Lenovo  \n",
       "4         Windows 11 Operating System  256 GB SSD    ASUS  "
      ]
     },
     "execution_count": 49,
     "metadata": {},
     "output_type": "execute_result"
    }
   ],
   "source": [
    "df.head()"
   ]
  },
  {
   "cell_type": "code",
   "execution_count": 50,
   "id": "765c0096",
   "metadata": {},
   "outputs": [
    {
     "data": {
      "text/plain": [
       "Product       0\n",
       "Rating       43\n",
       "MRP           0\n",
       "Processor     0\n",
       "RAM           0\n",
       "OS            0\n",
       "Storage       0\n",
       "Brand         0\n",
       "dtype: int64"
      ]
     },
     "execution_count": 50,
     "metadata": {},
     "output_type": "execute_result"
    }
   ],
   "source": [
    "df.isnull().sum()"
   ]
  },
  {
   "cell_type": "code",
   "execution_count": null,
   "id": "0df6034c",
   "metadata": {},
   "outputs": [],
   "source": []
  },
  {
   "cell_type": "markdown",
   "id": "d22b3f79",
   "metadata": {},
   "source": [
    "## Data Visualisation"
   ]
  },
  {
   "cell_type": "code",
   "execution_count": 55,
   "id": "beae8e11",
   "metadata": {},
   "outputs": [],
   "source": [
    "import matplotlib.pyplot as plt\n",
    "import seaborn as sns\n",
    "import plotly as px"
   ]
  },
  {
   "cell_type": "code",
   "execution_count": 56,
   "id": "e8e755b3",
   "metadata": {},
   "outputs": [
    {
     "data": {
      "text/html": [
       "<div>\n",
       "<style scoped>\n",
       "    .dataframe tbody tr th:only-of-type {\n",
       "        vertical-align: middle;\n",
       "    }\n",
       "\n",
       "    .dataframe tbody tr th {\n",
       "        vertical-align: top;\n",
       "    }\n",
       "\n",
       "    .dataframe thead th {\n",
       "        text-align: right;\n",
       "    }\n",
       "</style>\n",
       "<table border=\"1\" class=\"dataframe\">\n",
       "  <thead>\n",
       "    <tr style=\"text-align: right;\">\n",
       "      <th></th>\n",
       "      <th>Product</th>\n",
       "      <th>Rating</th>\n",
       "      <th>MRP</th>\n",
       "      <th>Processor</th>\n",
       "      <th>RAM</th>\n",
       "      <th>OS</th>\n",
       "      <th>Storage</th>\n",
       "      <th>Brand</th>\n",
       "    </tr>\n",
       "  </thead>\n",
       "  <tbody>\n",
       "    <tr>\n",
       "      <th>0</th>\n",
       "      <td>CHUWI Intel Celeron Dual Core 11th Gen N4020 -...</td>\n",
       "      <td>3.7</td>\n",
       "      <td>18990.0</td>\n",
       "      <td></td>\n",
       "      <td>8 GB DDR4 RAM</td>\n",
       "      <td>64 bit Windows 11 Operating System</td>\n",
       "      <td>256 GB SSD</td>\n",
       "      <td>CHUWI</td>\n",
       "    </tr>\n",
       "    <tr>\n",
       "      <th>1</th>\n",
       "      <td>CHUWI Intel Celeron Dual Core 10th Gen N4020 -...</td>\n",
       "      <td>3.7</td>\n",
       "      <td>15990.0</td>\n",
       "      <td></td>\n",
       "      <td>4 GB LPDDR4 RAM</td>\n",
       "      <td>64 bit Windows 11 Operating System</td>\n",
       "      <td>128 GB SSD</td>\n",
       "      <td>CHUWI</td>\n",
       "    </tr>\n",
       "    <tr>\n",
       "      <th>2</th>\n",
       "      <td>ASUS Vivobook 15 Intel Core i3 11th Gen 1115G4...</td>\n",
       "      <td>4.3</td>\n",
       "      <td>30990.0</td>\n",
       "      <td>Intel Core i3 Processor</td>\n",
       "      <td>8 GB DDR4 RAM</td>\n",
       "      <td>64 bit Windows 11 Operating System</td>\n",
       "      <td>256 GB SSD</td>\n",
       "      <td>ASUS</td>\n",
       "    </tr>\n",
       "    <tr>\n",
       "      <th>3</th>\n",
       "      <td>Lenovo IdeaPad Slim 3 Intel Core i5 11th Gen 1...</td>\n",
       "      <td>4.2</td>\n",
       "      <td>46765.0</td>\n",
       "      <td>Intel Core i5 Processor</td>\n",
       "      <td>16 GB DDR4 RAM</td>\n",
       "      <td>Windows 11 Operating System</td>\n",
       "      <td>512 GB SSD</td>\n",
       "      <td>Lenovo</td>\n",
       "    </tr>\n",
       "    <tr>\n",
       "      <th>4</th>\n",
       "      <td>ASUS Vivobook Go 14 Intel Celeron Dual Core N4...</td>\n",
       "      <td>4.2</td>\n",
       "      <td>23990.0</td>\n",
       "      <td>Intel Celeron Dual Core Processor</td>\n",
       "      <td>8 GB DDR4 RAM</td>\n",
       "      <td>Windows 11 Operating System</td>\n",
       "      <td>256 GB SSD</td>\n",
       "      <td>ASUS</td>\n",
       "    </tr>\n",
       "  </tbody>\n",
       "</table>\n",
       "</div>"
      ],
      "text/plain": [
       "                                             Product Rating      MRP  \\\n",
       "0  CHUWI Intel Celeron Dual Core 11th Gen N4020 -...    3.7  18990.0   \n",
       "1  CHUWI Intel Celeron Dual Core 10th Gen N4020 -...    3.7  15990.0   \n",
       "2  ASUS Vivobook 15 Intel Core i3 11th Gen 1115G4...    4.3  30990.0   \n",
       "3  Lenovo IdeaPad Slim 3 Intel Core i5 11th Gen 1...    4.2  46765.0   \n",
       "4  ASUS Vivobook Go 14 Intel Celeron Dual Core N4...    4.2  23990.0   \n",
       "\n",
       "                           Processor              RAM  \\\n",
       "0                                       8 GB DDR4 RAM   \n",
       "1                                     4 GB LPDDR4 RAM   \n",
       "2            Intel Core i3 Processor    8 GB DDR4 RAM   \n",
       "3            Intel Core i5 Processor   16 GB DDR4 RAM   \n",
       "4  Intel Celeron Dual Core Processor    8 GB DDR4 RAM   \n",
       "\n",
       "                                   OS     Storage   Brand  \n",
       "0  64 bit Windows 11 Operating System  256 GB SSD   CHUWI  \n",
       "1  64 bit Windows 11 Operating System  128 GB SSD   CHUWI  \n",
       "2  64 bit Windows 11 Operating System  256 GB SSD    ASUS  \n",
       "3         Windows 11 Operating System  512 GB SSD  Lenovo  \n",
       "4         Windows 11 Operating System  256 GB SSD    ASUS  "
      ]
     },
     "execution_count": 56,
     "metadata": {},
     "output_type": "execute_result"
    }
   ],
   "source": [
    "df.head()"
   ]
  },
  {
   "cell_type": "code",
   "execution_count": 57,
   "id": "2edc00ee",
   "metadata": {},
   "outputs": [
    {
     "data": {
      "text/plain": [
       "<AxesSubplot:xlabel='Brand', ylabel='MRP'>"
      ]
     },
     "execution_count": 57,
     "metadata": {},
     "output_type": "execute_result"
    },
    {
     "data": {
      "image/png": "[encoded data removed]",
      "text/plain": [
       "<Figure size 1440x504 with 1 Axes>"
      ]
     },
     "metadata": {
      "needs_background": "light"
     },
     "output_type": "display_data"
    }
   ],
   "source": [
    "plt.figure(figsize=(20, 7))\n",
    "sns.boxplot(x = df.Brand, y = df.MRP)"
   ]
  },
  {
   "cell_type": "code",
   "execution_count": null,
   "id": "7d5dada5",
   "metadata": {},
   "outputs": [],
   "source": [
    "#observation:\n"
   ]
  },
  {
   "cell_type": "code",
   "execution_count": 60,
   "id": "5e762a51",
   "metadata": {},
   "outputs": [
    {
     "name": "stderr",
     "output_type": "stream",
     "text": [
      "C:\\Users\\V.MANOHAR\\anaconda3\\lib\\site-packages\\seaborn\\distributions.py:2619: FutureWarning: `distplot` is a deprecated function and will be removed in a future version. Please adapt your code to use either `displot` (a figure-level function with similar flexibility) or `histplot` (an axes-level function for histograms).\n",
      "  warnings.warn(msg, FutureWarning)\n"
     ]
    },
    {
     "data": {
      "text/plain": [
       "<AxesSubplot:xlabel='MRP', ylabel='Density'>"
      ]
     },
     "execution_count": 60,
     "metadata": {},
     "output_type": "execute_result"
    },
    {
     "data": {
      "image/png": "[encoded data removed]",
      "text/plain": [
       "<Figure size 1080x360 with 1 Axes>"
      ]
     },
     "metadata": {
      "needs_background": "light"
     },
     "output_type": "display_data"
    }
   ],
   "source": [
    "plt.figure(figsize=(15, 5))\n",
    "sns.distplot(df.MRP)"
   ]
  },
  {
   "cell_type": "code",
   "execution_count": 62,
   "id": "c0914add",
   "metadata": {},
   "outputs": [
    {
     "name": "stderr",
     "output_type": "stream",
     "text": [
      "C:\\Users\\V.MANOHAR\\anaconda3\\lib\\site-packages\\seaborn\\_decorators.py:36: FutureWarning: Pass the following variable as a keyword arg: x. From version 0.12, the only valid positional argument will be `data`, and passing other arguments without an explicit keyword will result in an error or misinterpretation.\n",
      "  warnings.warn(\n"
     ]
    },
    {
     "data": {
      "text/plain": [
       "<AxesSubplot:xlabel='Brand', ylabel='count'>"
      ]
     },
     "execution_count": 62,
     "metadata": {},
     "output_type": "execute_result"
    },
    {
     "data": {
      "image/png": "[encoded data removed]",
      "text/plain": [
       "<Figure size 1440x360 with 1 Axes>"
      ]
     },
     "metadata": {
      "needs_background": "light"
     },
     "output_type": "display_data"
    }
   ],
   "source": [
    "plt.figure(figsize=(20, 5))\n",
    "sns.countplot(df.Brand)"
   ]
  },
  {
   "cell_type": "code",
   "execution_count": 63,
   "id": "65e418e9",
   "metadata": {},
   "outputs": [
    {
     "data": {
      "text/html": [
       "<div>\n",
       "<style scoped>\n",
       "    .dataframe tbody tr th:only-of-type {\n",
       "        vertical-align: middle;\n",
       "    }\n",
       "\n",
       "    .dataframe tbody tr th {\n",
       "        vertical-align: top;\n",
       "    }\n",
       "\n",
       "    .dataframe thead tr th {\n",
       "        text-align: left;\n",
       "    }\n",
       "\n",
       "    .dataframe thead tr:last-of-type th {\n",
       "        text-align: right;\n",
       "    }\n",
       "</style>\n",
       "<table border=\"1\" class=\"dataframe\">\n",
       "  <thead>\n",
       "    <tr>\n",
       "      <th></th>\n",
       "      <th colspan=\"3\" halign=\"left\">MRP</th>\n",
       "    </tr>\n",
       "    <tr>\n",
       "      <th></th>\n",
       "      <th>min</th>\n",
       "      <th>max</th>\n",
       "      <th>mean</th>\n",
       "    </tr>\n",
       "    <tr>\n",
       "      <th>Brand</th>\n",
       "      <th></th>\n",
       "      <th></th>\n",
       "      <th></th>\n",
       "    </tr>\n",
       "  </thead>\n",
       "  <tbody>\n",
       "    <tr>\n",
       "      <th>APPLE</th>\n",
       "      <td>83990.0</td>\n",
       "      <td>249900.0</td>\n",
       "      <td>137586.875000</td>\n",
       "    </tr>\n",
       "    <tr>\n",
       "      <th>ASUS</th>\n",
       "      <td>20990.0</td>\n",
       "      <td>386391.0</td>\n",
       "      <td>71046.824675</td>\n",
       "    </tr>\n",
       "    <tr>\n",
       "      <th>Acer</th>\n",
       "      <td>20990.0</td>\n",
       "      <td>229991.0</td>\n",
       "      <td>67169.176471</td>\n",
       "    </tr>\n",
       "    <tr>\n",
       "      <th>CHUWI</th>\n",
       "      <td>15990.0</td>\n",
       "      <td>37990.0</td>\n",
       "      <td>23490.000000</td>\n",
       "    </tr>\n",
       "    <tr>\n",
       "      <th>DELL</th>\n",
       "      <td>29780.0</td>\n",
       "      <td>108000.0</td>\n",
       "      <td>55760.789474</td>\n",
       "    </tr>\n",
       "    <tr>\n",
       "      <th>GIGABYTE</th>\n",
       "      <td>57990.0</td>\n",
       "      <td>57990.0</td>\n",
       "      <td>57990.000000</td>\n",
       "    </tr>\n",
       "    <tr>\n",
       "      <th>HP</th>\n",
       "      <td>19990.0</td>\n",
       "      <td>160999.0</td>\n",
       "      <td>53625.278689</td>\n",
       "    </tr>\n",
       "    <tr>\n",
       "      <th>Infinix</th>\n",
       "      <td>26490.0</td>\n",
       "      <td>80990.0</td>\n",
       "      <td>40073.333333</td>\n",
       "    </tr>\n",
       "    <tr>\n",
       "      <th>Lenovo</th>\n",
       "      <td>17890.0</td>\n",
       "      <td>170990.0</td>\n",
       "      <td>52001.164384</td>\n",
       "    </tr>\n",
       "    <tr>\n",
       "      <th>MICROSOFT</th>\n",
       "      <td>192990.0</td>\n",
       "      <td>261990.0</td>\n",
       "      <td>227490.000000</td>\n",
       "    </tr>\n",
       "    <tr>\n",
       "      <th>MSI</th>\n",
       "      <td>28990.0</td>\n",
       "      <td>389990.0</td>\n",
       "      <td>90736.444444</td>\n",
       "    </tr>\n",
       "    <tr>\n",
       "      <th>Primebook</th>\n",
       "      <td>16990.0</td>\n",
       "      <td>16990.0</td>\n",
       "      <td>16990.000000</td>\n",
       "    </tr>\n",
       "    <tr>\n",
       "      <th>SAMSUNG</th>\n",
       "      <td>67990.0</td>\n",
       "      <td>89990.0</td>\n",
       "      <td>78990.000000</td>\n",
       "    </tr>\n",
       "    <tr>\n",
       "      <th>Ultimus</th>\n",
       "      <td>13990.0</td>\n",
       "      <td>13990.0</td>\n",
       "      <td>13990.000000</td>\n",
       "    </tr>\n",
       "    <tr>\n",
       "      <th>Vaio</th>\n",
       "      <td>35097.0</td>\n",
       "      <td>35097.0</td>\n",
       "      <td>35097.000000</td>\n",
       "    </tr>\n",
       "    <tr>\n",
       "      <th>WINGS</th>\n",
       "      <td>27990.0</td>\n",
       "      <td>29990.0</td>\n",
       "      <td>28337.826087</td>\n",
       "    </tr>\n",
       "    <tr>\n",
       "      <th>ZEBRONICS</th>\n",
       "      <td>29990.0</td>\n",
       "      <td>42990.0</td>\n",
       "      <td>35019.411765</td>\n",
       "    </tr>\n",
       "    <tr>\n",
       "      <th>realme</th>\n",
       "      <td>47999.0</td>\n",
       "      <td>56999.0</td>\n",
       "      <td>50999.000000</td>\n",
       "    </tr>\n",
       "  </tbody>\n",
       "</table>\n",
       "</div>"
      ],
      "text/plain": [
       "                MRP                         \n",
       "                min       max           mean\n",
       "Brand                                       \n",
       "APPLE       83990.0  249900.0  137586.875000\n",
       "ASUS        20990.0  386391.0   71046.824675\n",
       "Acer        20990.0  229991.0   67169.176471\n",
       "CHUWI       15990.0   37990.0   23490.000000\n",
       "DELL        29780.0  108000.0   55760.789474\n",
       "GIGABYTE    57990.0   57990.0   57990.000000\n",
       "HP          19990.0  160999.0   53625.278689\n",
       "Infinix     26490.0   80990.0   40073.333333\n",
       "Lenovo      17890.0  170990.0   52001.164384\n",
       "MICROSOFT  192990.0  261990.0  227490.000000\n",
       "MSI         28990.0  389990.0   90736.444444\n",
       "Primebook   16990.0   16990.0   16990.000000\n",
       "SAMSUNG     67990.0   89990.0   78990.000000\n",
       "Ultimus     13990.0   13990.0   13990.000000\n",
       "Vaio        35097.0   35097.0   35097.000000\n",
       "WINGS       27990.0   29990.0   28337.826087\n",
       "ZEBRONICS   29990.0   42990.0   35019.411765\n",
       "realme      47999.0   56999.0   50999.000000"
      ]
     },
     "execution_count": 63,
     "metadata": {},
     "output_type": "execute_result"
    }
   ],
   "source": [
    "df.groupby(['Brand']).agg({'MRP' : ['min', 'max', 'mean']})"
   ]
  },
  {
   "cell_type": "code",
   "execution_count": 65,
   "id": "d2afb245",
   "metadata": {},
   "outputs": [
    {
     "data": {
      "text/plain": [
       "<AxesSubplot:xlabel='Brand'>"
      ]
     },
     "execution_count": 65,
     "metadata": {},
     "output_type": "execute_result"
    },
    {
     "data": {
      "image/png": "[encoded data removed]",
      "text/plain": [
       "<Figure size 1080x360 with 1 Axes>"
      ]
     },
     "metadata": {
      "needs_background": "light"
     },
     "output_type": "display_data"
    }
   ],
   "source": [
    "plt.figure(figsize=(15, 5))\n",
    "df.groupby(['Brand'])['MRP'].max().plot(kind = 'bar')"
   ]
  },
  {
   "cell_type": "code",
   "execution_count": 67,
   "id": "584821ef",
   "metadata": {},
   "outputs": [
    {
     "data": {
      "text/plain": [
       "<AxesSubplot:xlabel='Brand'>"
      ]
     },
     "execution_count": 67,
     "metadata": {},
     "output_type": "execute_result"
    },
    {
     "data": {
      "image/png": "[encoded data removed]",
      "text/plain": [
       "<Figure size 1080x360 with 1 Axes>"
      ]
     },
     "metadata": {
      "needs_background": "light"
     },
     "output_type": "display_data"
    }
   ],
   "source": [
    "plt.figure(figsize=(15, 5))\n",
    "df.groupby(['Brand'])['MRP'].min().plot(kind = 'bar')"
   ]
  },
  {
   "cell_type": "code",
   "execution_count": null,
   "id": "a4eee454",
   "metadata": {},
   "outputs": [],
   "source": []
  },
  {
   "cell_type": "code",
   "execution_count": null,
   "id": "517f50a0",
   "metadata": {},
   "outputs": [],
   "source": []
  },
  {
   "cell_type": "code",
   "execution_count": null,
   "id": "f9a35ed3",
   "metadata": {},
   "outputs": [],
   "source": []
  }
 ],
 "metadata": {
  "kernelspec": {
   "display_name": "Python 3 (ipykernel)",
   "language": "python",
   "name": "python3"
  },
  "language_info": {
   "codemirror_mode": {
    "name": "ipython",
    "version": 3
   },
   "file_extension": ".py",
   "mimetype": "text/x-python",
   "name": "python",
   "nbconvert_exporter": "python",
   "pygments_lexer": "ipython3",
   "version": "3.9.7"
  }
 },
 "nbformat": 4,
 "nbformat_minor": 5
}
